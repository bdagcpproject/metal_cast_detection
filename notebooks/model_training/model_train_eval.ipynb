{
 "cells": [
  {
   "cell_type": "code",
   "execution_count": 1,
   "metadata": {},
   "outputs": [],
   "source": [
    "# Create dataset YAML configuration\n",
    "import yaml\n",
    "\n",
    "dataset_config = {\n",
    "    'path': r'C:\\Users\\User\\OneDrive\\Documents\\Programming\\metal_cast_detection\\notebooks\\model_training\\datasets\\metal_casting',\n",
    "    'train': 'train',\n",
    "    'val': 'val',\n",
    "    'test': 'test',\n",
    "    'names': {\n",
    "        0: '0_ok_front',\n",
    "        1: '1_def_front',\n",
    "    }\n",
    "}\n",
    "\n",
    "with open('metal_casting.yaml', 'w') as f:\n",
    "    yaml.dump(dataset_config, f)"
   ]
  },
  {
   "cell_type": "code",
   "execution_count": 4,
   "metadata": {},
   "outputs": [
    {
     "name": "stdout",
     "output_type": "stream",
     "text": [
      "Number of images per class per split:\n",
      "\n",
      "train:\n",
      "  0_def_front: 2966 images\n",
      "  1_ok_front: 2184 images\n",
      "\n",
      "val:\n",
      "  0_def_front: 616 images\n",
      "  1_ok_front: 476 images\n",
      "\n",
      "test:\n",
      "  0_def_front: 629 images\n",
      "  1_ok_front: 477 images\n"
     ]
    }
   ],
   "source": [
    "#Analyze the number of images per class per dataset folder\n",
    "\n",
    "import os\n",
    "\n",
    "def count_images_per_class(folder_paths):\n",
    "    \"\"\"\n",
    "    Count the number of images per class in train, val, and test folders\n",
    "    Args:\n",
    "        folder_paths (dict): {'train': path, 'val': path, 'test': path}\n",
    "    Returns:\n",
    "        dict: Number of images per class per folder\n",
    "    \"\"\"\n",
    "    image_counts = {}\n",
    "    for folder, folder_path in folder_paths.items():\n",
    "        image_counts[folder] = {}\n",
    "        # Loop through each class folder\n",
    "        for class_name in os.listdir(folder_path):\n",
    "            class_path = os.path.join(folder_path, class_name)\n",
    "            if os.path.isdir(class_path):  # Ensure it's a directory\n",
    "                # Count images in the class folder\n",
    "                image_files = [f for f in os.listdir(class_path) if f.endswith(('.jpg', '.png', '.jpeg'))]\n",
    "                image_counts[folder][class_name] = len(image_files)\n",
    "    return image_counts\n",
    "\n",
    "base_path = dataset_config['path']\n",
    "train_path = os.path.join(base_path, dataset_config['train'])\n",
    "val_path = os.path.join(base_path, dataset_config['val'])\n",
    "test_path = os.path.join(base_path, dataset_config['test'])\n",
    "\n",
    "# Configuration\n",
    "dataset_dirs = {\n",
    "    'train': train_path,\n",
    "    'val': val_path,\n",
    "    'test': test_path\n",
    "}\n",
    "\n",
    "classes = list(dataset_config['names'].values())\n",
    "\n",
    "class_image_counts  = count_images_per_class(dataset_dirs)\n",
    "\n",
    "# Print results\n",
    "print(\"Number of images per class per split:\")\n",
    "for folder, class_counts in class_image_counts.items():\n",
    "    print(f\"\\n{folder}:\")\n",
    "    for class_name, count in class_counts.items():\n",
    "        print(f\"  {class_name}: {count} images\")\n"
   ]
  },
  {
   "cell_type": "code",
   "execution_count": 5,
   "metadata": {},
   "outputs": [
    {
     "name": "stdout",
     "output_type": "stream",
     "text": [
      "PyTorch version: 2.6.0+cu126\n",
      "Torchvision version: 0.21.0+cu126\n",
      "CUDA available: True\n",
      "CUDA version: 12.6\n"
     ]
    }
   ],
   "source": [
    "# Pre-requite to run the training. Follow the following steps for Torch setup\n",
    "# 1. Make sure you have a Nvidia GPU to support CUDA\n",
    "# 2. Install the Torch based on the guideline from https://pytorch.org/get-started/locally/\n",
    "# 3. Run the following to validate the CUDA, Torch and Torchvision version\n",
    "\n",
    "import torch, torchvision\n",
    "\n",
    "print(f\"PyTorch version: {torch.__version__}\")\n",
    "print(f\"Torchvision version: {torchvision.__version__}\")\n",
    "print(f\"CUDA available: {torch.cuda.is_available()}\")\n",
    "print(f\"CUDA version: {torch.version.cuda}\")\n"
   ]
  },
  {
   "cell_type": "code",
   "execution_count": null,
   "metadata": {},
   "outputs": [
    {
     "name": "stdout",
     "output_type": "stream",
     "text": [
      "New https://pypi.org/project/ultralytics/8.3.78 available  Update with 'pip install -U ultralytics'\n",
      "Ultralytics 8.3.73  Python-3.11.9 torch-2.6.0+cu126 CUDA:0 (NVIDIA GeForce RTX 4070 Ti, 12282MiB)\n",
      "\u001b[34m\u001b[1mengine\\trainer: \u001b[0mtask=classify, mode=train, model=yolo11n-cls.pt, data=C:\\Users\\User\\OneDrive\\Documents\\Programming\\metal_cast_detection\\notebooks\\model_training\\datasets\\metal_casting, epochs=100, time=None, patience=100, batch=32, imgsz=224, save=True, save_period=-1, cache=False, device=0, workers=8, project=None, name=yolov11n_classifier2, exist_ok=False, pretrained=True, optimizer=Adam, verbose=True, seed=42, deterministic=True, single_cls=False, rect=False, cos_lr=False, close_mosaic=10, resume=False, amp=True, fraction=1.0, profile=False, freeze=None, multi_scale=False, overlap_mask=True, mask_ratio=4, dropout=0.0, val=True, split=val, save_json=False, save_hybrid=False, conf=None, iou=0.7, max_det=300, half=False, dnn=False, plots=True, source=None, vid_stride=1, stream_buffer=False, visualize=False, augment=False, agnostic_nms=False, classes=None, retina_masks=False, embed=None, show=False, save_frames=False, save_txt=False, save_conf=False, save_crop=False, show_labels=True, show_conf=True, show_boxes=True, line_width=None, format=torchscript, keras=False, optimize=False, int8=False, dynamic=False, simplify=True, opset=None, workspace=None, nms=False, lr0=0.01, lrf=0.01, momentum=0.937, weight_decay=0.0005, warmup_epochs=3.0, warmup_momentum=0.8, warmup_bias_lr=0.1, box=7.5, cls=0.5, dfl=1.5, pose=12.0, kobj=1.0, nbs=64, hsv_h=0.015, hsv_s=0.7, hsv_v=0.4, degrees=0.0, translate=0.1, scale=0.5, shear=0.0, perspective=0.0, flipud=0.0, fliplr=0.5, bgr=0.0, mosaic=1.0, mixup=0.0, copy_paste=0.0, copy_paste_mode=flip, auto_augment=randaugment, erasing=0.4, crop_fraction=1.0, cfg=None, tracker=botsort.yaml, save_dir=runs\\classify\\yolov11n_classifier2\n",
      "\u001b[34m\u001b[1mtrain:\u001b[0m C:\\Users\\User\\OneDrive\\Documents\\Programming\\metal_cast_detection\\notebooks\\model_training\\datasets\\metal_casting\\train... found 5150 images in 2 classes  \n",
      "\u001b[34m\u001b[1mval:\u001b[0m C:\\Users\\User\\OneDrive\\Documents\\Programming\\metal_cast_detection\\notebooks\\model_training\\datasets\\metal_casting\\val... found 1092 images in 2 classes  \n",
      "\u001b[34m\u001b[1mtest:\u001b[0m C:\\Users\\User\\OneDrive\\Documents\\Programming\\metal_cast_detection\\notebooks\\model_training\\datasets\\metal_casting\\test... found 1106 images in 2 classes  \n",
      "Overriding model.yaml nc=80 with nc=2\n",
      "\n",
      "                   from  n    params  module                                       arguments                     \n",
      "  0                  -1  1       464  ultralytics.nn.modules.conv.Conv             [3, 16, 3, 2]                 \n",
      "  1                  -1  1      4672  ultralytics.nn.modules.conv.Conv             [16, 32, 3, 2]                \n",
      "  2                  -1  1      6640  ultralytics.nn.modules.block.C3k2            [32, 64, 1, False, 0.25]      \n",
      "  3                  -1  1     36992  ultralytics.nn.modules.conv.Conv             [64, 64, 3, 2]                \n",
      "  4                  -1  1     26080  ultralytics.nn.modules.block.C3k2            [64, 128, 1, False, 0.25]     \n",
      "  5                  -1  1    147712  ultralytics.nn.modules.conv.Conv             [128, 128, 3, 2]              \n",
      "  6                  -1  1     87040  ultralytics.nn.modules.block.C3k2            [128, 128, 1, True]           \n",
      "  7                  -1  1    295424  ultralytics.nn.modules.conv.Conv             [128, 256, 3, 2]              \n",
      "  8                  -1  1    346112  ultralytics.nn.modules.block.C3k2            [256, 256, 1, True]           \n",
      "  9                  -1  1    249728  ultralytics.nn.modules.block.C2PSA           [256, 256, 1]                 \n",
      " 10                  -1  1    332802  ultralytics.nn.modules.head.Classify         [256, 2]                      \n",
      "YOLO11n-cls summary: 151 layers, 1,533,666 parameters, 1,533,666 gradients, 3.3 GFLOPs\n",
      "Transferred 234/236 items from pretrained weights\n",
      "\u001b[34m\u001b[1mAMP: \u001b[0mrunning Automatic Mixed Precision (AMP) checks...\n",
      "\u001b[34m\u001b[1mAMP: \u001b[0mchecks passed \n"
     ]
    },
    {
     "name": "stderr",
     "output_type": "stream",
     "text": [
      "\u001b[34m\u001b[1mtrain: \u001b[0mScanning C:\\Users\\User\\OneDrive\\Documents\\Programming\\metal_cast_detection\\notebooks\\model_training\\datasets\\metal_casting\\train... 5150 images, 0 corrupt: 100%|██████████| 5150/5150 [00:02<00:00, 1858.05it/s]\n"
     ]
    },
    {
     "name": "stdout",
     "output_type": "stream",
     "text": [
      "\u001b[34m\u001b[1mtrain: \u001b[0mNew cache created: C:\\Users\\User\\OneDrive\\Documents\\Programming\\metal_cast_detection\\notebooks\\model_training\\datasets\\metal_casting\\train.cache\n"
     ]
    },
    {
     "name": "stderr",
     "output_type": "stream",
     "text": [
      "\u001b[34m\u001b[1mval: \u001b[0mScanning C:\\Users\\User\\OneDrive\\Documents\\Programming\\metal_cast_detection\\notebooks\\model_training\\datasets\\metal_casting\\val... 1092 images, 0 corrupt: 100%|██████████| 1092/1092 [00:00<00:00, 1400.21it/s]"
     ]
    },
    {
     "name": "stdout",
     "output_type": "stream",
     "text": [
      "\u001b[34m\u001b[1mval: \u001b[0mNew cache created: C:\\Users\\User\\OneDrive\\Documents\\Programming\\metal_cast_detection\\notebooks\\model_training\\datasets\\metal_casting\\val.cache\n"
     ]
    },
    {
     "name": "stderr",
     "output_type": "stream",
     "text": [
      "\n"
     ]
    }
   ],
   "source": [
    "#Yolo model training\n",
    "\n",
    "from ultralytics import YOLO\n",
    "\n",
    "# Initialize model (YOLOv8n-cls = classification variant)\n",
    "model = YOLO('yolo11n-cls.pt')\n",
    "\n",
    "# Start training\n",
    "results = model.train(\n",
    "    data=r'C:\\Users\\User\\OneDrive\\Documents\\Programming\\metal_cast_detection\\notebooks\\model_training\\datasets\\metal_casting',\n",
    "    epochs=100,\n",
    "    imgsz=224,\n",
    "    batch=32,\n",
    "    optimizer='Adam',\n",
    "    seed=42,\n",
    "    device='0',  # '0' for GPU, 'cpu' for CPU\n",
    "    name='yolov11n_classifier'\n",
    ")"
   ]
  },
  {
   "cell_type": "code",
   "execution_count": 58,
   "metadata": {},
   "outputs": [
    {
     "name": "stdout",
     "output_type": "stream",
     "text": [
      "Ultralytics 8.3.73  Python-3.11.9 torch-2.6.0+cu126 CUDA:0 (NVIDIA GeForce RTX 4070 Ti, 12282MiB)\n",
      "YOLO11n-cls summary (fused): 112 layers, 1,528,586 parameters, 0 gradients, 3.2 GFLOPs\n"
     ]
    },
    {
     "name": "stderr",
     "output_type": "stream",
     "text": [
      "\u001b[34m\u001b[1mtest: \u001b[0mScanning C:\\Users\\User\\OneDrive\\Documents\\Programming\\metal_cast_detection\\src\\model_training\\datasets\\metal_casting\\test... 1106 images, 0 corrupt: 100%|██████████| 1106/1106 [00:00<?, ?it/s]\n",
      "               classes   top1_acc   top5_acc: 100%|██████████| 35/35 [00:01<00:00, 28.37it/s]\n"
     ]
    },
    {
     "name": "stdout",
     "output_type": "stream",
     "text": [
      "                   all      0.998          1\n",
      "Speed: 0.1ms preprocess, 0.4ms inference, 0.0ms loss, 0.0ms postprocess per image\n",
      "Results saved to \u001b[1mruns\\classify\\yolov11n_classifier2\u001b[0m\n"
     ]
    }
   ],
   "source": [
    "# Validate the model\n",
    "metrics = model.val(data='metal_casting.yaml', split = 'test')  \n"
   ]
  },
  {
   "cell_type": "code",
   "execution_count": 59,
   "metadata": {},
   "outputs": [
    {
     "data": {
      "text/plain": [
       "ultralytics.utils.metrics.ClassifyMetrics object with attributes:\n",
       "\n",
       "confusion_matrix: <ultralytics.utils.metrics.ConfusionMatrix object at 0x000001972DE6E650>\n",
       "curves: []\n",
       "curves_results: []\n",
       "fitness: 0.9990958273410797\n",
       "keys: ['metrics/accuracy_top1', 'metrics/accuracy_top5']\n",
       "results_dict: {'metrics/accuracy_top1': 0.9981916546821594, 'metrics/accuracy_top5': 1.0, 'fitness': 0.9990958273410797}\n",
       "save_dir: WindowsPath('runs/classify/yolov11n_classifier2')\n",
       "speed: {'preprocess': 0.053100948092303694, 'inference': 0.38572073413924757, 'loss': 0.0, 'postprocess': 0.0}\n",
       "task: 'classify'\n",
       "top1: 0.9981916546821594\n",
       "top5: 1.0"
      ]
     },
     "execution_count": 59,
     "metadata": {},
     "output_type": "execute_result"
    }
   ],
   "source": [
    "metrics"
   ]
  }
 ],
 "metadata": {
  "kernelspec": {
   "display_name": "Python 3",
   "language": "python",
   "name": "python3"
  },
  "language_info": {
   "codemirror_mode": {
    "name": "ipython",
    "version": 3
   },
   "file_extension": ".py",
   "mimetype": "text/x-python",
   "name": "python",
   "nbconvert_exporter": "python",
   "pygments_lexer": "ipython3",
   "version": "3.11.9"
  }
 },
 "nbformat": 4,
 "nbformat_minor": 2
}
