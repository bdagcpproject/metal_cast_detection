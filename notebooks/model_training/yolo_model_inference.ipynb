{
 "cells": [
  {
   "cell_type": "code",
   "execution_count": null,
   "metadata": {},
   "outputs": [],
   "source": [
    "from ultralytics import YOLO\n",
    "import json\n",
    "from google.cloud import storage"
   ]
  },
  {
   "cell_type": "code",
   "execution_count": null,
   "metadata": {},
   "outputs": [],
   "source": [
    "# Download helper function\n",
    "def download_blob(bucket_name, source_blob_name, destination_file_name):\n",
    "    \"\"\"Downloads a file from a Cloud Storage bucket after verifying the blob exists.\"\"\"\n",
    "    storage_client = storage.Client()\n",
    "    bucket = storage_client.bucket(bucket_name)\n",
    "    blob = bucket.blob(source_blob_name)\n",
    "\n",
    "    if not blob.exists(storage_client):\n",
    "        raise FileNotFoundError(f\"Error: Blob '{source_blob_name}' not found in bucket '{bucket_name}'.\")\n",
    "\n",
    "    try:\n",
    "        blob.download_to_filename(destination_file_name)\n",
    "        gs_path = f\"gs://{bucket_name}/{source_blob_name}\"\n",
    "        print(f\"Downloaded storage object from {gs_path} to local file {destination_file_name}.\")\n",
    "        return gs_path  # Return the gs:// path\n",
    "\n",
    "    except Exception as e:\n",
    "        print(f\"Error downloading file: {e}\")\n",
    "        return None  # Return None if an error occurs"
   ]
  },
  {
   "cell_type": "code",
   "execution_count": null,
   "metadata": {},
   "outputs": [
    {
     "name": "stdout",
     "output_type": "stream",
     "text": [
      "Downloaded storage object from gs://metal_casting_images/raw/cast_ok_0_16.jpeg to local file cast_ok_0_16.jpeg.\n",
      "Downloaded storage object from gs://metal_casting_model/v0.pt to local file v0.pt.\n",
      "\n",
      "image 1/1 c:\\Users\\User\\OneDrive\\Documents\\Programming\\metal_cast_detection\\notebooks\\model_training\\cast_ok_0_16.jpeg: 224x224 OK 0.93, Defect 0.07, 3.3ms\n",
      "Speed: 8.9ms preprocess, 3.3ms inference, 0.0ms postprocess per image at shape (1, 3, 224, 224)\n",
      "Results saved to \u001b[1mruns\\classify\\predict39\u001b[0m\n"
     ]
    }
   ],
   "source": [
    "# Download the casting image file from the bucket\n",
    "bucket_name = \"metal_casting_images\"\n",
    "source_blob_name = \"raw/cast_ok_0_16.jpeg\"\n",
    "download_file_name = source_blob_name.split(\"/\")[-1]\n",
    "download_blob(bucket_name, source_blob_name, download_file_name)\n",
    "\n",
    "# Download the model file from the bucket\n",
    "model_file_name = \"v0.pt\"\n",
    "download_blob(\"metal_casting_model\", model_file_name, model_file_name)\n",
    "model = YOLO(model_file_name)\n",
    "\n",
    "# Run inference on a sample casting image\n",
    "results = model.predict(download_file_name, save = True, show_conf = True)"
   ]
  },
  {
   "cell_type": "code",
   "execution_count": null,
   "metadata": {},
   "outputs": [
    {
     "name": "stdout",
     "output_type": "stream",
     "text": [
      "cast_ok_0_16.jpeg\n",
      "{\"class\": \"OK\", \"confidence\": 0.9287940859794617}\n"
     ]
    }
   ],
   "source": [
    "# Print the results\n",
    "\n",
    "if results:\n",
    "    for i, res in enumerate(results):\n",
    "        #print(res.path)\n",
    "        result_filename = res.path.split(\"\\\\\")[-1]\n",
    "        print(result_filename)\n",
    "        #res.save(filename=result_filename)\n",
    "        pred_class_index = res.probs.top1  # Get the index of the top prediction\n",
    "        pred_class_name = res.names[pred_class_index]  # Get the top prediction class\n",
    "        pred_confidence = res.probs.data[pred_class_index].item()  # Get confidence score\n",
    "        print(json.dumps({\"class\": pred_class_name, \"confidence\": pred_confidence}))"
   ]
  },
  {
   "cell_type": "code",
   "execution_count": null,
   "metadata": {},
   "outputs": [
    {
     "name": "stdout",
     "output_type": "stream",
     "text": [
      "runs\\classify\\predict36\\cast_ok_0_16.jpg\n",
      "Uploaded storage object to gs://metal_casting_images/result/cast_ok_0_16.jpeg\n"
     ]
    },
    {
     "data": {
      "text/plain": [
       "'gs://metal_casting_images/result/cast_ok_0_16.jpeg'"
      ]
     },
     "execution_count": 52,
     "metadata": {},
     "output_type": "execute_result"
    }
   ],
   "source": [
    "# Upload the result image to Google Cloud Storage\n",
    "# Ensure the destination path is correct and exists\n",
    "\n",
    "def upload_blob(bucket_name, source_file_name, destination_blob_name):\n",
    "    \"\"\"Uploads a file to a Cloud Storage bucket after verifying it exists.\"\"\"\n",
    "    #if not os.path.exists(source_file_name):\n",
    "    #    raise FileNotFoundError(f\"Error: Source file '{source_file_name}' not found.\")\n",
    "    #else:\n",
    "    #    print(f\"Source file '{source_file_name}' found.\")\n",
    "\n",
    "    try:\n",
    "        storage_client = storage.Client()\n",
    "        bucket = storage_client.bucket(bucket_name)\n",
    "        blob = bucket.blob(destination_blob_name)\n",
    "        blob.upload_from_filename(source_file_name)\n",
    "        gs_path = f\"gs://{bucket_name}/{destination_blob_name}\"\n",
    "        print(f\"Uploaded storage object to {gs_path}\")\n",
    "        return gs_path  # Return the gs:// path\n",
    "\n",
    "    except Exception as e:\n",
    "        print(f\"Error uploading file: {e}\")\n",
    "        return None  # Return None if an error occurs\n",
    "    \n",
    "destination_blob_name = 'result/' + download_file_name\n",
    "source_file_name = results[0].save_dir + '\\\\cast_ok_0_16.jpg' # download_file_name\n",
    "print(source_file_name)\n",
    "upload_blob(bucket_name, source_file_name, destination_blob_name)"
   ]
  }
 ],
 "metadata": {
  "kernelspec": {
   "display_name": "metal_cast_detection",
   "language": "python",
   "name": "python3"
  },
  "language_info": {
   "codemirror_mode": {
    "name": "ipython",
    "version": 3
   },
   "file_extension": ".py",
   "mimetype": "text/x-python",
   "name": "python",
   "nbconvert_exporter": "python",
   "pygments_lexer": "ipython3",
   "version": "3.11.9"
  }
 },
 "nbformat": 4,
 "nbformat_minor": 2
}
