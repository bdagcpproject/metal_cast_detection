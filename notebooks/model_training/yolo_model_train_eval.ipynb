{
 "cells": [
  {
   "cell_type": "code",
   "execution_count": 13,
   "metadata": {},
   "outputs": [],
   "source": [
    "# Create dataset YAML configuration\n",
    "import yaml\n",
    "\n",
    "dataset_config = {\n",
    "    'path': r'C:\\Users\\User\\OneDrive\\Documents\\Programming\\metal_cast_detection\\notebooks\\model_training\\datasets\\metal_casting_2',\n",
    "    'train': 'train',\n",
    "    'val': 'val',\n",
    "    'test': 'test',\n",
    "    'names': {\n",
    "        0: 'OK',\n",
    "        1: 'Defect',\n",
    "    }\n",
    "}\n",
    "\n",
    "with open('metal_casting.yaml', 'w') as f:\n",
    "    yaml.dump(dataset_config, f)"
   ]
  },
  {
   "cell_type": "code",
   "execution_count": 14,
   "metadata": {},
   "outputs": [
    {
     "name": "stdout",
     "output_type": "stream",
     "text": [
      "Number of images per class per split:\n",
      "\n",
      "train:\n",
      "  Defect: 2966 images\n",
      "  OK: 2184 images\n",
      "\n",
      "val:\n",
      "  Defect: 616 images\n",
      "  OK: 476 images\n",
      "\n",
      "test:\n",
      "  Defect: 629 images\n",
      "  OK: 477 images\n"
     ]
    }
   ],
   "source": [
    "#Analyze the number of images per class per dataset folder\n",
    "\n",
    "import os\n",
    "\n",
    "def count_images_per_class(folder_paths):\n",
    "    \"\"\"\n",
    "    Count the number of images per class in train, val, and test folders\n",
    "    Args:\n",
    "        folder_paths (dict): {'train': path, 'val': path, 'test': path}\n",
    "    Returns:\n",
    "        dict: Number of images per class per folder\n",
    "    \"\"\"\n",
    "    image_counts = {}\n",
    "    for folder, folder_path in folder_paths.items():\n",
    "        image_counts[folder] = {}\n",
    "        # Loop through each class folder\n",
    "        for class_name in os.listdir(folder_path):\n",
    "            class_path = os.path.join(folder_path, class_name)\n",
    "            if os.path.isdir(class_path):  # Ensure it's a directory\n",
    "                # Count images in the class folder\n",
    "                image_files = [f for f in os.listdir(class_path) if f.endswith(('.jpg', '.png', '.jpeg'))]\n",
    "                image_counts[folder][class_name] = len(image_files)\n",
    "    return image_counts\n",
    "\n",
    "base_path = dataset_config['path']\n",
    "train_path = os.path.join(base_path, dataset_config['train'])\n",
    "val_path = os.path.join(base_path, dataset_config['val'])\n",
    "test_path = os.path.join(base_path, dataset_config['test'])\n",
    "\n",
    "# Configuration\n",
    "dataset_dirs = {\n",
    "    'train': train_path,\n",
    "    'val': val_path,\n",
    "    'test': test_path\n",
    "}\n",
    "\n",
    "classes = list(dataset_config['names'].values())\n",
    "\n",
    "class_image_counts  = count_images_per_class(dataset_dirs)\n",
    "\n",
    "# Print results\n",
    "print(\"Number of images per class per split:\")\n",
    "for folder, class_counts in class_image_counts.items():\n",
    "    print(f\"\\n{folder}:\")\n",
    "    for class_name, count in class_counts.items():\n",
    "        print(f\"  {class_name}: {count} images\")\n"
   ]
  },
  {
   "cell_type": "code",
   "execution_count": 15,
   "metadata": {},
   "outputs": [
    {
     "name": "stdout",
     "output_type": "stream",
     "text": [
      "PyTorch version: 2.6.0+cu126\n",
      "Torchvision version: 0.21.0+cu126\n",
      "CUDA available: True\n",
      "CUDA version: 12.6\n"
     ]
    }
   ],
   "source": [
    "# Pre-requite to run the training. Follow the following steps for Torch setup\n",
    "# 1. Make sure you have a Nvidia GPU to support CUDA\n",
    "# 2. Install the Torch based on the guideline from https://pytorch.org/get-started/locally/\n",
    "# 3. Run the following to validate the CUDA, Torch and Torchvision version\n",
    "\n",
    "import torch, torchvision\n",
    "\n",
    "print(f\"PyTorch version: {torch.__version__}\")\n",
    "print(f\"Torchvision version: {torchvision.__version__}\")\n",
    "print(f\"CUDA available: {torch.cuda.is_available()}\")\n",
    "print(f\"CUDA version: {torch.version.cuda}\")\n"
   ]
  },
  {
   "cell_type": "code",
   "execution_count": 16,
   "metadata": {},
   "outputs": [
    {
     "name": "stdout",
     "output_type": "stream",
     "text": [
      "New https://pypi.org/project/ultralytics/8.3.92 available  Update with 'pip install -U ultralytics'\n",
      "Ultralytics 8.3.85  Python-3.11.9 torch-2.6.0+cu126 CUDA:0 (NVIDIA GeForce RTX 4070 Ti, 12282MiB)\n",
      "\u001b[34m\u001b[1mengine\\trainer: \u001b[0mtask=classify, mode=train, model=yolo11n-cls.pt, data=C:\\Users\\User\\OneDrive\\Documents\\Programming\\metal_cast_detection\\notebooks\\model_training\\datasets\\metal_casting_2, epochs=100, time=None, patience=100, batch=32, imgsz=224, save=True, save_period=-1, cache=False, device=0, workers=8, project=None, name=yolov11n_classifier6, exist_ok=False, pretrained=True, optimizer=Adam, verbose=True, seed=42, deterministic=True, single_cls=False, rect=False, cos_lr=False, close_mosaic=10, resume=False, amp=True, fraction=1.0, profile=False, freeze=None, multi_scale=False, overlap_mask=True, mask_ratio=4, dropout=0.0, val=True, split=val, save_json=False, save_hybrid=False, conf=None, iou=0.7, max_det=300, half=False, dnn=False, plots=True, source=None, vid_stride=1, stream_buffer=False, visualize=False, augment=False, agnostic_nms=False, classes=None, retina_masks=False, embed=None, show=False, save_frames=False, save_txt=False, save_conf=False, save_crop=False, show_labels=True, show_conf=True, show_boxes=True, line_width=None, format=torchscript, keras=False, optimize=False, int8=False, dynamic=False, simplify=True, opset=None, workspace=None, nms=False, lr0=0.01, lrf=0.01, momentum=0.937, weight_decay=0.0005, warmup_epochs=3.0, warmup_momentum=0.8, warmup_bias_lr=0.1, box=7.5, cls=0.5, dfl=1.5, pose=12.0, kobj=1.0, nbs=64, hsv_h=0.015, hsv_s=0.7, hsv_v=0.4, degrees=0.0, translate=0.1, scale=0.5, shear=0.0, perspective=0.0, flipud=0.0, fliplr=0.5, bgr=0.0, mosaic=1.0, mixup=0.0, copy_paste=0.0, copy_paste_mode=flip, auto_augment=randaugment, erasing=0.4, crop_fraction=1.0, cfg=None, tracker=botsort.yaml, save_dir=runs\\classify\\yolov11n_classifier6\n",
      "\u001b[34m\u001b[1mtrain:\u001b[0m C:\\Users\\User\\OneDrive\\Documents\\Programming\\metal_cast_detection\\notebooks\\model_training\\datasets\\metal_casting_2\\train... found 5150 images in 2 classes  \n",
      "\u001b[34m\u001b[1mval:\u001b[0m C:\\Users\\User\\OneDrive\\Documents\\Programming\\metal_cast_detection\\notebooks\\model_training\\datasets\\metal_casting_2\\val... found 1092 images in 2 classes  \n",
      "\u001b[34m\u001b[1mtest:\u001b[0m C:\\Users\\User\\OneDrive\\Documents\\Programming\\metal_cast_detection\\notebooks\\model_training\\datasets\\metal_casting_2\\test... found 1106 images in 2 classes  \n",
      "Overriding model.yaml nc=80 with nc=2\n",
      "\n",
      "                   from  n    params  module                                       arguments                     \n",
      "  0                  -1  1       464  ultralytics.nn.modules.conv.Conv             [3, 16, 3, 2]                 \n",
      "  1                  -1  1      4672  ultralytics.nn.modules.conv.Conv             [16, 32, 3, 2]                \n",
      "  2                  -1  1      6640  ultralytics.nn.modules.block.C3k2            [32, 64, 1, False, 0.25]      \n",
      "  3                  -1  1     36992  ultralytics.nn.modules.conv.Conv             [64, 64, 3, 2]                \n",
      "  4                  -1  1     26080  ultralytics.nn.modules.block.C3k2            [64, 128, 1, False, 0.25]     \n",
      "  5                  -1  1    147712  ultralytics.nn.modules.conv.Conv             [128, 128, 3, 2]              \n",
      "  6                  -1  1     87040  ultralytics.nn.modules.block.C3k2            [128, 128, 1, True]           \n",
      "  7                  -1  1    295424  ultralytics.nn.modules.conv.Conv             [128, 256, 3, 2]              \n",
      "  8                  -1  1    346112  ultralytics.nn.modules.block.C3k2            [256, 256, 1, True]           \n",
      "  9                  -1  1    249728  ultralytics.nn.modules.block.C2PSA           [256, 256, 1]                 \n",
      " 10                  -1  1    332802  ultralytics.nn.modules.head.Classify         [256, 2]                      \n",
      "YOLO11n-cls summary: 86 layers, 1,533,666 parameters, 1,533,666 gradients, 3.3 GFLOPs\n",
      "Transferred 234/236 items from pretrained weights\n",
      "\u001b[34m\u001b[1mAMP: \u001b[0mrunning Automatic Mixed Precision (AMP) checks...\n",
      "\u001b[34m\u001b[1mAMP: \u001b[0mchecks passed \n"
     ]
    },
    {
     "name": "stderr",
     "output_type": "stream",
     "text": [
      "\u001b[34m\u001b[1mtrain: \u001b[0mScanning C:\\Users\\User\\OneDrive\\Documents\\Programming\\metal_cast_detection\\notebooks\\model_training\\datasets\\metal_casting_2\\train... 5150 images, 0 corrupt: 100%|██████████| 5150/5150 [00:02<00:00, 2013.02it/s]\n"
     ]
    },
    {
     "name": "stdout",
     "output_type": "stream",
     "text": [
      "\u001b[34m\u001b[1mtrain: \u001b[0mNew cache created: C:\\Users\\User\\OneDrive\\Documents\\Programming\\metal_cast_detection\\notebooks\\model_training\\datasets\\metal_casting_2\\train.cache\n"
     ]
    },
    {
     "name": "stderr",
     "output_type": "stream",
     "text": [
      "\u001b[34m\u001b[1mval: \u001b[0mScanning C:\\Users\\User\\OneDrive\\Documents\\Programming\\metal_cast_detection\\notebooks\\model_training\\datasets\\metal_casting_2\\val... 1092 images, 0 corrupt: 100%|██████████| 1092/1092 [00:00<00:00, 1434.80it/s]\n"
     ]
    },
    {
     "name": "stdout",
     "output_type": "stream",
     "text": [
      "\u001b[34m\u001b[1mval: \u001b[0mNew cache created: C:\\Users\\User\\OneDrive\\Documents\\Programming\\metal_cast_detection\\notebooks\\model_training\\datasets\\metal_casting_2\\val.cache\n",
      "\u001b[34m\u001b[1moptimizer:\u001b[0m Adam(lr=0.01, momentum=0.937) with parameter groups 39 weight(decay=0.0), 40 weight(decay=0.0005), 40 bias(decay=0.0)\n",
      "Image sizes 224 train, 224 val\n",
      "Using 8 dataloader workers\n",
      "Logging results to \u001b[1mruns\\classify\\yolov11n_classifier6\u001b[0m\n",
      "Starting training for 100 epochs...\n",
      "\n",
      "      Epoch    GPU_mem       loss  Instances       Size\n"
     ]
    },
    {
     "name": "stderr",
     "output_type": "stream",
     "text": [
      "      1/100     0.438G     0.3545         30        224: 100%|██████████| 161/161 [00:06<00:00, 23.25it/s]\n",
      "               classes   top1_acc   top5_acc: 100%|██████████| 18/18 [00:00<00:00, 91.10it/s]"
     ]
    },
    {
     "name": "stdout",
     "output_type": "stream",
     "text": [
      "                   all      0.611          1\n"
     ]
    },
    {
     "name": "stderr",
     "output_type": "stream",
     "text": [
      "\n"
     ]
    },
    {
     "name": "stdout",
     "output_type": "stream",
     "text": [
      "\n",
      "      Epoch    GPU_mem       loss  Instances       Size\n"
     ]
    },
    {
     "name": "stderr",
     "output_type": "stream",
     "text": [
      "      2/100     0.414G     0.4038         30        224: 100%|██████████| 161/161 [00:05<00:00, 27.09it/s]\n",
      "               classes   top1_acc   top5_acc: 100%|██████████| 18/18 [00:00<00:00, 90.35it/s]"
     ]
    },
    {
     "name": "stdout",
     "output_type": "stream",
     "text": [
      "                   all      0.658          1\n"
     ]
    },
    {
     "name": "stderr",
     "output_type": "stream",
     "text": [
      "\n"
     ]
    },
    {
     "name": "stdout",
     "output_type": "stream",
     "text": [
      "\n",
      "      Epoch    GPU_mem       loss  Instances       Size\n"
     ]
    },
    {
     "name": "stderr",
     "output_type": "stream",
     "text": [
      "      3/100     0.426G     0.3248         30        224: 100%|██████████| 161/161 [00:05<00:00, 31.59it/s]\n",
      "               classes   top1_acc   top5_acc: 100%|██████████| 18/18 [00:00<00:00, 90.39it/s]"
     ]
    },
    {
     "name": "stdout",
     "output_type": "stream",
     "text": [
      "                   all      0.564          1\n"
     ]
    },
    {
     "name": "stderr",
     "output_type": "stream",
     "text": [
      "\n"
     ]
    },
    {
     "name": "stdout",
     "output_type": "stream",
     "text": [
      "\n",
      "      Epoch    GPU_mem       loss  Instances       Size\n"
     ]
    },
    {
     "name": "stderr",
     "output_type": "stream",
     "text": [
      "      4/100     0.426G     0.5088         30        224: 100%|██████████| 161/161 [00:05<00:00, 31.44it/s]\n",
      "               classes   top1_acc   top5_acc: 100%|██████████| 18/18 [00:00<00:00, 89.57it/s]"
     ]
    },
    {
     "name": "stdout",
     "output_type": "stream",
     "text": [
      "                   all      0.808          1\n"
     ]
    },
    {
     "name": "stderr",
     "output_type": "stream",
     "text": [
      "\n"
     ]
    },
    {
     "name": "stdout",
     "output_type": "stream",
     "text": [
      "\n",
      "      Epoch    GPU_mem       loss  Instances       Size\n"
     ]
    },
    {
     "name": "stderr",
     "output_type": "stream",
     "text": [
      "      5/100     0.426G     0.4042         30        224: 100%|██████████| 161/161 [00:05<00:00, 30.98it/s]\n",
      "               classes   top1_acc   top5_acc: 100%|██████████| 18/18 [00:00<00:00, 87.31it/s]"
     ]
    },
    {
     "name": "stdout",
     "output_type": "stream",
     "text": [
      "                   all      0.834          1\n"
     ]
    },
    {
     "name": "stderr",
     "output_type": "stream",
     "text": [
      "\n"
     ]
    },
    {
     "name": "stdout",
     "output_type": "stream",
     "text": [
      "\n",
      "      Epoch    GPU_mem       loss  Instances       Size\n"
     ]
    },
    {
     "name": "stderr",
     "output_type": "stream",
     "text": [
      "      6/100     0.426G     0.3398         30        224: 100%|██████████| 161/161 [00:05<00:00, 31.82it/s]\n",
      "               classes   top1_acc   top5_acc: 100%|██████████| 18/18 [00:00<00:00, 90.22it/s]"
     ]
    },
    {
     "name": "stdout",
     "output_type": "stream",
     "text": [
      "                   all      0.756          1\n"
     ]
    },
    {
     "name": "stderr",
     "output_type": "stream",
     "text": [
      "\n"
     ]
    },
    {
     "name": "stdout",
     "output_type": "stream",
     "text": [
      "\n",
      "      Epoch    GPU_mem       loss  Instances       Size\n"
     ]
    },
    {
     "name": "stderr",
     "output_type": "stream",
     "text": [
      "      7/100     0.426G     0.2884         30        224: 100%|██████████| 161/161 [00:05<00:00, 31.08it/s]\n",
      "               classes   top1_acc   top5_acc: 100%|██████████| 18/18 [00:00<00:00, 92.83it/s] "
     ]
    },
    {
     "name": "stdout",
     "output_type": "stream",
     "text": [
      "                   all      0.732          1\n"
     ]
    },
    {
     "name": "stderr",
     "output_type": "stream",
     "text": [
      "\n"
     ]
    },
    {
     "name": "stdout",
     "output_type": "stream",
     "text": [
      "\n",
      "      Epoch    GPU_mem       loss  Instances       Size\n"
     ]
    },
    {
     "name": "stderr",
     "output_type": "stream",
     "text": [
      "      8/100     0.426G     0.2502         30        224: 100%|██████████| 161/161 [00:05<00:00, 31.18it/s]\n",
      "               classes   top1_acc   top5_acc: 100%|██████████| 18/18 [00:00<00:00, 91.03it/s]"
     ]
    },
    {
     "name": "stdout",
     "output_type": "stream",
     "text": [
      "                   all      0.971          1\n"
     ]
    },
    {
     "name": "stderr",
     "output_type": "stream",
     "text": [
      "\n"
     ]
    },
    {
     "name": "stdout",
     "output_type": "stream",
     "text": [
      "\n",
      "      Epoch    GPU_mem       loss  Instances       Size\n"
     ]
    },
    {
     "name": "stderr",
     "output_type": "stream",
     "text": [
      "      9/100     0.426G       0.19         30        224: 100%|██████████| 161/161 [00:04<00:00, 33.32it/s]\n",
      "               classes   top1_acc   top5_acc: 100%|██████████| 18/18 [00:00<00:00, 87.85it/s]"
     ]
    },
    {
     "name": "stdout",
     "output_type": "stream",
     "text": [
      "                   all      0.943          1\n"
     ]
    },
    {
     "name": "stderr",
     "output_type": "stream",
     "text": [
      "\n"
     ]
    },
    {
     "name": "stdout",
     "output_type": "stream",
     "text": [
      "\n",
      "      Epoch    GPU_mem       loss  Instances       Size\n"
     ]
    },
    {
     "name": "stderr",
     "output_type": "stream",
     "text": [
      "     10/100     0.426G     0.1971         30        224: 100%|██████████| 161/161 [00:04<00:00, 33.11it/s]\n",
      "               classes   top1_acc   top5_acc: 100%|██████████| 18/18 [00:00<00:00, 79.92it/s]"
     ]
    },
    {
     "name": "stdout",
     "output_type": "stream",
     "text": [
      "                   all      0.846          1\n"
     ]
    },
    {
     "name": "stderr",
     "output_type": "stream",
     "text": [
      "\n"
     ]
    },
    {
     "name": "stdout",
     "output_type": "stream",
     "text": [
      "\n",
      "      Epoch    GPU_mem       loss  Instances       Size\n"
     ]
    },
    {
     "name": "stderr",
     "output_type": "stream",
     "text": [
      "     11/100     0.426G     0.2087         30        224: 100%|██████████| 161/161 [00:05<00:00, 29.46it/s]\n",
      "               classes   top1_acc   top5_acc: 100%|██████████| 18/18 [00:00<00:00, 74.52it/s]"
     ]
    },
    {
     "name": "stdout",
     "output_type": "stream",
     "text": [
      "                   all      0.801          1\n"
     ]
    },
    {
     "name": "stderr",
     "output_type": "stream",
     "text": [
      "\n"
     ]
    },
    {
     "name": "stdout",
     "output_type": "stream",
     "text": [
      "\n",
      "      Epoch    GPU_mem       loss  Instances       Size\n"
     ]
    },
    {
     "name": "stderr",
     "output_type": "stream",
     "text": [
      "     12/100     0.426G     0.1807         30        224: 100%|██████████| 161/161 [00:05<00:00, 29.75it/s]\n",
      "               classes   top1_acc   top5_acc: 100%|██████████| 18/18 [00:00<00:00, 90.55it/s]"
     ]
    },
    {
     "name": "stdout",
     "output_type": "stream",
     "text": [
      "                   all       0.97          1\n"
     ]
    },
    {
     "name": "stderr",
     "output_type": "stream",
     "text": [
      "\n"
     ]
    },
    {
     "name": "stdout",
     "output_type": "stream",
     "text": [
      "\n",
      "      Epoch    GPU_mem       loss  Instances       Size\n"
     ]
    },
    {
     "name": "stderr",
     "output_type": "stream",
     "text": [
      "     13/100     0.426G     0.1733         30        224: 100%|██████████| 161/161 [00:05<00:00, 32.04it/s]\n",
      "               classes   top1_acc   top5_acc: 100%|██████████| 18/18 [00:00<00:00, 91.53it/s]"
     ]
    },
    {
     "name": "stdout",
     "output_type": "stream",
     "text": [
      "                   all      0.976          1\n"
     ]
    },
    {
     "name": "stderr",
     "output_type": "stream",
     "text": [
      "\n"
     ]
    },
    {
     "name": "stdout",
     "output_type": "stream",
     "text": [
      "\n",
      "      Epoch    GPU_mem       loss  Instances       Size\n"
     ]
    },
    {
     "name": "stderr",
     "output_type": "stream",
     "text": [
      "     14/100     0.426G     0.2091         30        224: 100%|██████████| 161/161 [00:05<00:00, 31.23it/s]\n",
      "               classes   top1_acc   top5_acc: 100%|██████████| 18/18 [00:00<00:00, 88.52it/s]"
     ]
    },
    {
     "name": "stdout",
     "output_type": "stream",
     "text": [
      "                   all      0.973          1\n"
     ]
    },
    {
     "name": "stderr",
     "output_type": "stream",
     "text": [
      "\n"
     ]
    },
    {
     "name": "stdout",
     "output_type": "stream",
     "text": [
      "\n",
      "      Epoch    GPU_mem       loss  Instances       Size\n"
     ]
    },
    {
     "name": "stderr",
     "output_type": "stream",
     "text": [
      "     15/100     0.426G     0.1736         30        224: 100%|██████████| 161/161 [00:05<00:00, 31.50it/s]\n",
      "               classes   top1_acc   top5_acc: 100%|██████████| 18/18 [00:00<00:00, 88.26it/s]"
     ]
    },
    {
     "name": "stdout",
     "output_type": "stream",
     "text": [
      "                   all      0.926          1\n"
     ]
    },
    {
     "name": "stderr",
     "output_type": "stream",
     "text": [
      "\n"
     ]
    },
    {
     "name": "stdout",
     "output_type": "stream",
     "text": [
      "\n",
      "      Epoch    GPU_mem       loss  Instances       Size\n"
     ]
    },
    {
     "name": "stderr",
     "output_type": "stream",
     "text": [
      "     16/100     0.426G     0.1822         30        224: 100%|██████████| 161/161 [00:05<00:00, 31.03it/s]\n",
      "               classes   top1_acc   top5_acc: 100%|██████████| 18/18 [00:00<00:00, 92.40it/s]"
     ]
    },
    {
     "name": "stdout",
     "output_type": "stream",
     "text": [
      "                   all      0.925          1\n"
     ]
    },
    {
     "name": "stderr",
     "output_type": "stream",
     "text": [
      "\n"
     ]
    },
    {
     "name": "stdout",
     "output_type": "stream",
     "text": [
      "\n",
      "      Epoch    GPU_mem       loss  Instances       Size\n"
     ]
    },
    {
     "name": "stderr",
     "output_type": "stream",
     "text": [
      "     17/100     0.426G     0.1796         30        224: 100%|██████████| 161/161 [00:05<00:00, 30.30it/s]\n",
      "               classes   top1_acc   top5_acc: 100%|██████████| 18/18 [00:00<00:00, 88.78it/s]"
     ]
    },
    {
     "name": "stdout",
     "output_type": "stream",
     "text": [
      "                   all      0.742          1\n"
     ]
    },
    {
     "name": "stderr",
     "output_type": "stream",
     "text": [
      "\n"
     ]
    },
    {
     "name": "stdout",
     "output_type": "stream",
     "text": [
      "\n",
      "      Epoch    GPU_mem       loss  Instances       Size\n"
     ]
    },
    {
     "name": "stderr",
     "output_type": "stream",
     "text": [
      "     18/100     0.426G     0.1487         30        224: 100%|██████████| 161/161 [00:05<00:00, 31.24it/s]\n",
      "               classes   top1_acc   top5_acc: 100%|██████████| 18/18 [00:00<00:00, 81.83it/s]"
     ]
    },
    {
     "name": "stdout",
     "output_type": "stream",
     "text": [
      "                   all      0.966          1\n"
     ]
    },
    {
     "name": "stderr",
     "output_type": "stream",
     "text": [
      "\n"
     ]
    },
    {
     "name": "stdout",
     "output_type": "stream",
     "text": [
      "\n",
      "      Epoch    GPU_mem       loss  Instances       Size\n"
     ]
    },
    {
     "name": "stderr",
     "output_type": "stream",
     "text": [
      "     19/100     0.426G     0.1909         30        224: 100%|██████████| 161/161 [00:05<00:00, 30.82it/s]\n",
      "               classes   top1_acc   top5_acc: 100%|██████████| 18/18 [00:00<00:00, 82.78it/s]"
     ]
    },
    {
     "name": "stdout",
     "output_type": "stream",
     "text": [
      "                   all      0.951          1\n"
     ]
    },
    {
     "name": "stderr",
     "output_type": "stream",
     "text": [
      "\n"
     ]
    },
    {
     "name": "stdout",
     "output_type": "stream",
     "text": [
      "\n",
      "      Epoch    GPU_mem       loss  Instances       Size\n"
     ]
    },
    {
     "name": "stderr",
     "output_type": "stream",
     "text": [
      "     20/100     0.426G     0.1885         30        224: 100%|██████████| 161/161 [00:05<00:00, 30.67it/s]\n",
      "               classes   top1_acc   top5_acc: 100%|██████████| 18/18 [00:00<00:00, 88.03it/s]"
     ]
    },
    {
     "name": "stdout",
     "output_type": "stream",
     "text": [
      "                   all      0.961          1\n"
     ]
    },
    {
     "name": "stderr",
     "output_type": "stream",
     "text": [
      "\n"
     ]
    },
    {
     "name": "stdout",
     "output_type": "stream",
     "text": [
      "\n",
      "      Epoch    GPU_mem       loss  Instances       Size\n"
     ]
    },
    {
     "name": "stderr",
     "output_type": "stream",
     "text": [
      "     21/100     0.426G     0.1647         30        224: 100%|██████████| 161/161 [00:05<00:00, 30.63it/s]\n",
      "               classes   top1_acc   top5_acc: 100%|██████████| 18/18 [00:00<00:00, 81.99it/s]"
     ]
    },
    {
     "name": "stdout",
     "output_type": "stream",
     "text": [
      "                   all      0.973          1\n"
     ]
    },
    {
     "name": "stderr",
     "output_type": "stream",
     "text": [
      "\n"
     ]
    },
    {
     "name": "stdout",
     "output_type": "stream",
     "text": [
      "\n",
      "      Epoch    GPU_mem       loss  Instances       Size\n"
     ]
    },
    {
     "name": "stderr",
     "output_type": "stream",
     "text": [
      "     22/100     0.428G     0.2836         30        224: 100%|██████████| 161/161 [00:05<00:00, 31.00it/s]\n",
      "               classes   top1_acc   top5_acc: 100%|██████████| 18/18 [00:00<00:00, 94.11it/s]"
     ]
    },
    {
     "name": "stdout",
     "output_type": "stream",
     "text": [
      "                   all      0.755          1\n"
     ]
    },
    {
     "name": "stderr",
     "output_type": "stream",
     "text": [
      "\n"
     ]
    },
    {
     "name": "stdout",
     "output_type": "stream",
     "text": [
      "\n",
      "      Epoch    GPU_mem       loss  Instances       Size\n"
     ]
    },
    {
     "name": "stderr",
     "output_type": "stream",
     "text": [
      "     23/100     0.426G     0.2471         30        224: 100%|██████████| 161/161 [00:05<00:00, 31.68it/s]\n",
      "               classes   top1_acc   top5_acc: 100%|██████████| 18/18 [00:00<00:00, 88.51it/s]"
     ]
    },
    {
     "name": "stdout",
     "output_type": "stream",
     "text": [
      "                   all      0.966          1\n"
     ]
    },
    {
     "name": "stderr",
     "output_type": "stream",
     "text": [
      "\n"
     ]
    },
    {
     "name": "stdout",
     "output_type": "stream",
     "text": [
      "\n",
      "      Epoch    GPU_mem       loss  Instances       Size\n"
     ]
    },
    {
     "name": "stderr",
     "output_type": "stream",
     "text": [
      "     24/100     0.426G     0.1448         30        224: 100%|██████████| 161/161 [00:05<00:00, 31.97it/s]\n",
      "               classes   top1_acc   top5_acc: 100%|██████████| 18/18 [00:00<00:00, 91.77it/s]"
     ]
    },
    {
     "name": "stdout",
     "output_type": "stream",
     "text": [
      "                   all      0.972          1\n"
     ]
    },
    {
     "name": "stderr",
     "output_type": "stream",
     "text": [
      "\n"
     ]
    },
    {
     "name": "stdout",
     "output_type": "stream",
     "text": [
      "\n",
      "      Epoch    GPU_mem       loss  Instances       Size\n"
     ]
    },
    {
     "name": "stderr",
     "output_type": "stream",
     "text": [
      "     25/100     0.426G     0.1535         30        224: 100%|██████████| 161/161 [00:05<00:00, 31.92it/s]\n",
      "               classes   top1_acc   top5_acc: 100%|██████████| 18/18 [00:00<00:00, 92.96it/s]"
     ]
    },
    {
     "name": "stdout",
     "output_type": "stream",
     "text": [
      "                   all      0.567          1\n"
     ]
    },
    {
     "name": "stderr",
     "output_type": "stream",
     "text": [
      "\n"
     ]
    },
    {
     "name": "stdout",
     "output_type": "stream",
     "text": [
      "\n",
      "      Epoch    GPU_mem       loss  Instances       Size\n"
     ]
    },
    {
     "name": "stderr",
     "output_type": "stream",
     "text": [
      "     26/100     0.428G     0.2545         30        224: 100%|██████████| 161/161 [00:05<00:00, 31.72it/s]\n",
      "               classes   top1_acc   top5_acc: 100%|██████████| 18/18 [00:00<00:00, 89.84it/s]"
     ]
    },
    {
     "name": "stdout",
     "output_type": "stream",
     "text": [
      "                   all      0.233          1\n"
     ]
    },
    {
     "name": "stderr",
     "output_type": "stream",
     "text": [
      "\n"
     ]
    },
    {
     "name": "stdout",
     "output_type": "stream",
     "text": [
      "\n",
      "      Epoch    GPU_mem       loss  Instances       Size\n"
     ]
    },
    {
     "name": "stderr",
     "output_type": "stream",
     "text": [
      "     27/100     0.426G     0.2587         30        224: 100%|██████████| 161/161 [00:05<00:00, 31.76it/s]\n",
      "               classes   top1_acc   top5_acc: 100%|██████████| 18/18 [00:00<00:00, 88.20it/s]"
     ]
    },
    {
     "name": "stdout",
     "output_type": "stream",
     "text": [
      "                   all      0.962          1\n"
     ]
    },
    {
     "name": "stderr",
     "output_type": "stream",
     "text": [
      "\n"
     ]
    },
    {
     "name": "stdout",
     "output_type": "stream",
     "text": [
      "\n",
      "      Epoch    GPU_mem       loss  Instances       Size\n"
     ]
    },
    {
     "name": "stderr",
     "output_type": "stream",
     "text": [
      "     28/100     0.426G      0.164         30        224: 100%|██████████| 161/161 [00:05<00:00, 31.33it/s]\n",
      "               classes   top1_acc   top5_acc: 100%|██████████| 18/18 [00:00<00:00, 90.49it/s]"
     ]
    },
    {
     "name": "stdout",
     "output_type": "stream",
     "text": [
      "                   all      0.987          1\n"
     ]
    },
    {
     "name": "stderr",
     "output_type": "stream",
     "text": [
      "\n"
     ]
    },
    {
     "name": "stdout",
     "output_type": "stream",
     "text": [
      "\n",
      "      Epoch    GPU_mem       loss  Instances       Size\n"
     ]
    },
    {
     "name": "stderr",
     "output_type": "stream",
     "text": [
      "     29/100     0.426G     0.1747         30        224: 100%|██████████| 161/161 [00:05<00:00, 31.35it/s]\n",
      "               classes   top1_acc   top5_acc: 100%|██████████| 18/18 [00:00<00:00, 79.46it/s]"
     ]
    },
    {
     "name": "stdout",
     "output_type": "stream",
     "text": [
      "                   all      0.975          1\n"
     ]
    },
    {
     "name": "stderr",
     "output_type": "stream",
     "text": [
      "\n"
     ]
    },
    {
     "name": "stdout",
     "output_type": "stream",
     "text": [
      "\n",
      "      Epoch    GPU_mem       loss  Instances       Size\n"
     ]
    },
    {
     "name": "stderr",
     "output_type": "stream",
     "text": [
      "     30/100     0.426G     0.1395         30        224: 100%|██████████| 161/161 [00:05<00:00, 30.68it/s]\n",
      "               classes   top1_acc   top5_acc: 100%|██████████| 18/18 [00:00<00:00, 92.60it/s]"
     ]
    },
    {
     "name": "stdout",
     "output_type": "stream",
     "text": [
      "                   all      0.842          1\n"
     ]
    },
    {
     "name": "stderr",
     "output_type": "stream",
     "text": [
      "\n"
     ]
    },
    {
     "name": "stdout",
     "output_type": "stream",
     "text": [
      "\n",
      "      Epoch    GPU_mem       loss  Instances       Size\n"
     ]
    },
    {
     "name": "stderr",
     "output_type": "stream",
     "text": [
      "     31/100     0.426G     0.1284         30        224: 100%|██████████| 161/161 [00:04<00:00, 32.23it/s]\n",
      "               classes   top1_acc   top5_acc: 100%|██████████| 18/18 [00:00<00:00, 92.53it/s]"
     ]
    },
    {
     "name": "stdout",
     "output_type": "stream",
     "text": [
      "                   all      0.946          1\n"
     ]
    },
    {
     "name": "stderr",
     "output_type": "stream",
     "text": [
      "\n"
     ]
    },
    {
     "name": "stdout",
     "output_type": "stream",
     "text": [
      "\n",
      "      Epoch    GPU_mem       loss  Instances       Size\n"
     ]
    },
    {
     "name": "stderr",
     "output_type": "stream",
     "text": [
      "     32/100     0.426G     0.1341         30        224: 100%|██████████| 161/161 [00:04<00:00, 32.45it/s]\n",
      "               classes   top1_acc   top5_acc: 100%|██████████| 18/18 [00:00<00:00, 84.95it/s]"
     ]
    },
    {
     "name": "stdout",
     "output_type": "stream",
     "text": [
      "                   all      0.961          1\n"
     ]
    },
    {
     "name": "stderr",
     "output_type": "stream",
     "text": [
      "\n"
     ]
    },
    {
     "name": "stdout",
     "output_type": "stream",
     "text": [
      "\n",
      "      Epoch    GPU_mem       loss  Instances       Size\n"
     ]
    },
    {
     "name": "stderr",
     "output_type": "stream",
     "text": [
      "     33/100     0.426G     0.1437         30        224: 100%|██████████| 161/161 [00:05<00:00, 30.76it/s]\n",
      "               classes   top1_acc   top5_acc: 100%|██████████| 18/18 [00:00<00:00, 67.53it/s]"
     ]
    },
    {
     "name": "stdout",
     "output_type": "stream",
     "text": [
      "                   all      0.969          1\n"
     ]
    },
    {
     "name": "stderr",
     "output_type": "stream",
     "text": [
      "\n"
     ]
    },
    {
     "name": "stdout",
     "output_type": "stream",
     "text": [
      "\n",
      "      Epoch    GPU_mem       loss  Instances       Size\n"
     ]
    },
    {
     "name": "stderr",
     "output_type": "stream",
     "text": [
      "     34/100     0.426G     0.1158         30        224: 100%|██████████| 161/161 [00:05<00:00, 30.62it/s]\n",
      "               classes   top1_acc   top5_acc: 100%|██████████| 18/18 [00:00<00:00, 64.62it/s]"
     ]
    },
    {
     "name": "stdout",
     "output_type": "stream",
     "text": [
      "                   all      0.977          1\n"
     ]
    },
    {
     "name": "stderr",
     "output_type": "stream",
     "text": [
      "\n"
     ]
    },
    {
     "name": "stdout",
     "output_type": "stream",
     "text": [
      "\n",
      "      Epoch    GPU_mem       loss  Instances       Size\n"
     ]
    },
    {
     "name": "stderr",
     "output_type": "stream",
     "text": [
      "     35/100     0.426G     0.1126         30        224: 100%|██████████| 161/161 [00:05<00:00, 31.49it/s]\n",
      "               classes   top1_acc   top5_acc: 100%|██████████| 18/18 [00:00<00:00, 86.88it/s]"
     ]
    },
    {
     "name": "stdout",
     "output_type": "stream",
     "text": [
      "                   all       0.99          1\n"
     ]
    },
    {
     "name": "stderr",
     "output_type": "stream",
     "text": [
      "\n"
     ]
    },
    {
     "name": "stdout",
     "output_type": "stream",
     "text": [
      "\n",
      "      Epoch    GPU_mem       loss  Instances       Size\n"
     ]
    },
    {
     "name": "stderr",
     "output_type": "stream",
     "text": [
      "     36/100     0.426G     0.1049         30        224: 100%|██████████| 161/161 [00:05<00:00, 31.35it/s]\n",
      "               classes   top1_acc   top5_acc: 100%|██████████| 18/18 [00:00<00:00, 86.55it/s]"
     ]
    },
    {
     "name": "stdout",
     "output_type": "stream",
     "text": [
      "                   all      0.988          1\n"
     ]
    },
    {
     "name": "stderr",
     "output_type": "stream",
     "text": [
      "\n"
     ]
    },
    {
     "name": "stdout",
     "output_type": "stream",
     "text": [
      "\n",
      "      Epoch    GPU_mem       loss  Instances       Size\n"
     ]
    },
    {
     "name": "stderr",
     "output_type": "stream",
     "text": [
      "     37/100     0.426G     0.1176         30        224: 100%|██████████| 161/161 [00:05<00:00, 30.36it/s]\n",
      "               classes   top1_acc   top5_acc: 100%|██████████| 18/18 [00:00<00:00, 84.68it/s]"
     ]
    },
    {
     "name": "stdout",
     "output_type": "stream",
     "text": [
      "                   all      0.907          1\n"
     ]
    },
    {
     "name": "stderr",
     "output_type": "stream",
     "text": [
      "\n"
     ]
    },
    {
     "name": "stdout",
     "output_type": "stream",
     "text": [
      "\n",
      "      Epoch    GPU_mem       loss  Instances       Size\n"
     ]
    },
    {
     "name": "stderr",
     "output_type": "stream",
     "text": [
      "     38/100     0.428G     0.1199         30        224: 100%|██████████| 161/161 [00:05<00:00, 32.11it/s]\n",
      "               classes   top1_acc   top5_acc: 100%|██████████| 18/18 [00:00<00:00, 92.33it/s]"
     ]
    },
    {
     "name": "stdout",
     "output_type": "stream",
     "text": [
      "                   all      0.993          1\n"
     ]
    },
    {
     "name": "stderr",
     "output_type": "stream",
     "text": [
      "\n"
     ]
    },
    {
     "name": "stdout",
     "output_type": "stream",
     "text": [
      "\n",
      "      Epoch    GPU_mem       loss  Instances       Size\n"
     ]
    },
    {
     "name": "stderr",
     "output_type": "stream",
     "text": [
      "     39/100     0.426G      0.136         30        224: 100%|██████████| 161/161 [00:04<00:00, 32.92it/s]\n",
      "               classes   top1_acc   top5_acc: 100%|██████████| 18/18 [00:00<00:00, 86.21it/s]"
     ]
    },
    {
     "name": "stdout",
     "output_type": "stream",
     "text": [
      "                   all      0.968          1\n"
     ]
    },
    {
     "name": "stderr",
     "output_type": "stream",
     "text": [
      "\n"
     ]
    },
    {
     "name": "stdout",
     "output_type": "stream",
     "text": [
      "\n",
      "      Epoch    GPU_mem       loss  Instances       Size\n"
     ]
    },
    {
     "name": "stderr",
     "output_type": "stream",
     "text": [
      "     40/100     0.426G     0.1283         30        224: 100%|██████████| 161/161 [00:04<00:00, 33.03it/s]\n",
      "               classes   top1_acc   top5_acc: 100%|██████████| 18/18 [00:00<00:00, 91.47it/s]"
     ]
    },
    {
     "name": "stdout",
     "output_type": "stream",
     "text": [
      "                   all      0.939          1\n"
     ]
    },
    {
     "name": "stderr",
     "output_type": "stream",
     "text": [
      "\n"
     ]
    },
    {
     "name": "stdout",
     "output_type": "stream",
     "text": [
      "\n",
      "      Epoch    GPU_mem       loss  Instances       Size\n"
     ]
    },
    {
     "name": "stderr",
     "output_type": "stream",
     "text": [
      "     41/100     0.426G     0.1093         30        224: 100%|██████████| 161/161 [00:04<00:00, 33.13it/s]\n",
      "               classes   top1_acc   top5_acc: 100%|██████████| 18/18 [00:00<00:00, 91.18it/s]"
     ]
    },
    {
     "name": "stdout",
     "output_type": "stream",
     "text": [
      "                   all      0.982          1\n"
     ]
    },
    {
     "name": "stderr",
     "output_type": "stream",
     "text": [
      "\n"
     ]
    },
    {
     "name": "stdout",
     "output_type": "stream",
     "text": [
      "\n",
      "      Epoch    GPU_mem       loss  Instances       Size\n"
     ]
    },
    {
     "name": "stderr",
     "output_type": "stream",
     "text": [
      "     42/100     0.426G     0.1216         30        224: 100%|██████████| 161/161 [00:04<00:00, 32.93it/s]\n",
      "               classes   top1_acc   top5_acc: 100%|██████████| 18/18 [00:00<00:00, 91.08it/s]"
     ]
    },
    {
     "name": "stdout",
     "output_type": "stream",
     "text": [
      "                   all      0.995          1\n"
     ]
    },
    {
     "name": "stderr",
     "output_type": "stream",
     "text": [
      "\n"
     ]
    },
    {
     "name": "stdout",
     "output_type": "stream",
     "text": [
      "\n",
      "      Epoch    GPU_mem       loss  Instances       Size\n"
     ]
    },
    {
     "name": "stderr",
     "output_type": "stream",
     "text": [
      "     43/100     0.426G    0.09772         30        224: 100%|██████████| 161/161 [00:04<00:00, 33.01it/s]\n",
      "               classes   top1_acc   top5_acc: 100%|██████████| 18/18 [00:00<00:00, 93.72it/s]"
     ]
    },
    {
     "name": "stdout",
     "output_type": "stream",
     "text": [
      "                   all      0.991          1\n"
     ]
    },
    {
     "name": "stderr",
     "output_type": "stream",
     "text": [
      "\n"
     ]
    },
    {
     "name": "stdout",
     "output_type": "stream",
     "text": [
      "\n",
      "      Epoch    GPU_mem       loss  Instances       Size\n"
     ]
    },
    {
     "name": "stderr",
     "output_type": "stream",
     "text": [
      "     44/100     0.426G     0.1316         30        224: 100%|██████████| 161/161 [00:04<00:00, 32.69it/s]\n",
      "               classes   top1_acc   top5_acc: 100%|██████████| 18/18 [00:00<00:00, 87.25it/s]"
     ]
    },
    {
     "name": "stdout",
     "output_type": "stream",
     "text": [
      "                   all      0.821          1\n"
     ]
    },
    {
     "name": "stderr",
     "output_type": "stream",
     "text": [
      "\n"
     ]
    },
    {
     "name": "stdout",
     "output_type": "stream",
     "text": [
      "\n",
      "      Epoch    GPU_mem       loss  Instances       Size\n"
     ]
    },
    {
     "name": "stderr",
     "output_type": "stream",
     "text": [
      "     45/100     0.426G     0.1295         30        224: 100%|██████████| 161/161 [00:05<00:00, 31.69it/s]\n",
      "               classes   top1_acc   top5_acc: 100%|██████████| 18/18 [00:00<00:00, 90.12it/s]"
     ]
    },
    {
     "name": "stdout",
     "output_type": "stream",
     "text": [
      "                   all      0.974          1\n"
     ]
    },
    {
     "name": "stderr",
     "output_type": "stream",
     "text": [
      "\n"
     ]
    },
    {
     "name": "stdout",
     "output_type": "stream",
     "text": [
      "\n",
      "      Epoch    GPU_mem       loss  Instances       Size\n"
     ]
    },
    {
     "name": "stderr",
     "output_type": "stream",
     "text": [
      "     46/100     0.426G     0.1245         30        224: 100%|██████████| 161/161 [00:05<00:00, 31.84it/s]\n",
      "               classes   top1_acc   top5_acc: 100%|██████████| 18/18 [00:00<00:00, 84.61it/s]"
     ]
    },
    {
     "name": "stdout",
     "output_type": "stream",
     "text": [
      "                   all      0.971          1\n"
     ]
    },
    {
     "name": "stderr",
     "output_type": "stream",
     "text": [
      "\n"
     ]
    },
    {
     "name": "stdout",
     "output_type": "stream",
     "text": [
      "\n",
      "      Epoch    GPU_mem       loss  Instances       Size\n"
     ]
    },
    {
     "name": "stderr",
     "output_type": "stream",
     "text": [
      "     47/100     0.426G     0.1244         30        224: 100%|██████████| 161/161 [00:05<00:00, 30.40it/s]\n",
      "               classes   top1_acc   top5_acc: 100%|██████████| 18/18 [00:00<00:00, 85.97it/s]"
     ]
    },
    {
     "name": "stdout",
     "output_type": "stream",
     "text": [
      "                   all      0.974          1\n"
     ]
    },
    {
     "name": "stderr",
     "output_type": "stream",
     "text": [
      "\n"
     ]
    },
    {
     "name": "stdout",
     "output_type": "stream",
     "text": [
      "\n",
      "      Epoch    GPU_mem       loss  Instances       Size\n"
     ]
    },
    {
     "name": "stderr",
     "output_type": "stream",
     "text": [
      "     48/100     0.428G     0.1146         30        224: 100%|██████████| 161/161 [00:05<00:00, 29.66it/s]\n",
      "               classes   top1_acc   top5_acc: 100%|██████████| 18/18 [00:00<00:00, 82.16it/s]"
     ]
    },
    {
     "name": "stdout",
     "output_type": "stream",
     "text": [
      "                   all      0.988          1\n"
     ]
    },
    {
     "name": "stderr",
     "output_type": "stream",
     "text": [
      "\n"
     ]
    },
    {
     "name": "stdout",
     "output_type": "stream",
     "text": [
      "\n",
      "      Epoch    GPU_mem       loss  Instances       Size\n"
     ]
    },
    {
     "name": "stderr",
     "output_type": "stream",
     "text": [
      "     49/100     0.426G     0.1036         30        224: 100%|██████████| 161/161 [00:05<00:00, 30.71it/s]\n",
      "               classes   top1_acc   top5_acc: 100%|██████████| 18/18 [00:00<00:00, 86.37it/s]"
     ]
    },
    {
     "name": "stdout",
     "output_type": "stream",
     "text": [
      "                   all      0.993          1\n"
     ]
    },
    {
     "name": "stderr",
     "output_type": "stream",
     "text": [
      "\n"
     ]
    },
    {
     "name": "stdout",
     "output_type": "stream",
     "text": [
      "\n",
      "      Epoch    GPU_mem       loss  Instances       Size\n"
     ]
    },
    {
     "name": "stderr",
     "output_type": "stream",
     "text": [
      "     50/100     0.426G     0.1011         30        224: 100%|██████████| 161/161 [00:05<00:00, 30.24it/s]\n",
      "               classes   top1_acc   top5_acc: 100%|██████████| 18/18 [00:00<00:00, 87.03it/s]"
     ]
    },
    {
     "name": "stdout",
     "output_type": "stream",
     "text": [
      "                   all      0.995          1\n"
     ]
    },
    {
     "name": "stderr",
     "output_type": "stream",
     "text": [
      "\n"
     ]
    },
    {
     "name": "stdout",
     "output_type": "stream",
     "text": [
      "\n",
      "      Epoch    GPU_mem       loss  Instances       Size\n"
     ]
    },
    {
     "name": "stderr",
     "output_type": "stream",
     "text": [
      "     51/100     0.426G    0.09781         30        224: 100%|██████████| 161/161 [00:05<00:00, 31.04it/s]\n",
      "               classes   top1_acc   top5_acc: 100%|██████████| 18/18 [00:00<00:00, 85.03it/s]"
     ]
    },
    {
     "name": "stdout",
     "output_type": "stream",
     "text": [
      "                   all      0.995          1\n"
     ]
    },
    {
     "name": "stderr",
     "output_type": "stream",
     "text": [
      "\n"
     ]
    },
    {
     "name": "stdout",
     "output_type": "stream",
     "text": [
      "\n",
      "      Epoch    GPU_mem       loss  Instances       Size\n"
     ]
    },
    {
     "name": "stderr",
     "output_type": "stream",
     "text": [
      "     52/100     0.426G    0.09805         30        224: 100%|██████████| 161/161 [00:05<00:00, 31.59it/s]\n",
      "               classes   top1_acc   top5_acc: 100%|██████████| 18/18 [00:00<00:00, 92.37it/s]"
     ]
    },
    {
     "name": "stdout",
     "output_type": "stream",
     "text": [
      "                   all      0.968          1\n"
     ]
    },
    {
     "name": "stderr",
     "output_type": "stream",
     "text": [
      "\n"
     ]
    },
    {
     "name": "stdout",
     "output_type": "stream",
     "text": [
      "\n",
      "      Epoch    GPU_mem       loss  Instances       Size\n"
     ]
    },
    {
     "name": "stderr",
     "output_type": "stream",
     "text": [
      "     53/100     0.426G    0.09445         30        224: 100%|██████████| 161/161 [00:05<00:00, 31.24it/s]\n",
      "               classes   top1_acc   top5_acc: 100%|██████████| 18/18 [00:00<00:00, 84.57it/s]"
     ]
    },
    {
     "name": "stdout",
     "output_type": "stream",
     "text": [
      "                   all      0.988          1\n"
     ]
    },
    {
     "name": "stderr",
     "output_type": "stream",
     "text": [
      "\n"
     ]
    },
    {
     "name": "stdout",
     "output_type": "stream",
     "text": [
      "\n",
      "      Epoch    GPU_mem       loss  Instances       Size\n"
     ]
    },
    {
     "name": "stderr",
     "output_type": "stream",
     "text": [
      "     54/100     0.426G    0.08954         30        224: 100%|██████████| 161/161 [00:05<00:00, 31.07it/s]\n",
      "               classes   top1_acc   top5_acc: 100%|██████████| 18/18 [00:00<00:00, 89.27it/s]"
     ]
    },
    {
     "name": "stdout",
     "output_type": "stream",
     "text": [
      "                   all      0.994          1\n"
     ]
    },
    {
     "name": "stderr",
     "output_type": "stream",
     "text": [
      "\n"
     ]
    },
    {
     "name": "stdout",
     "output_type": "stream",
     "text": [
      "\n",
      "      Epoch    GPU_mem       loss  Instances       Size\n"
     ]
    },
    {
     "name": "stderr",
     "output_type": "stream",
     "text": [
      "     55/100     0.426G     0.1007         30        224: 100%|██████████| 161/161 [00:05<00:00, 30.84it/s]\n",
      "               classes   top1_acc   top5_acc: 100%|██████████| 18/18 [00:00<00:00, 85.79it/s]"
     ]
    },
    {
     "name": "stdout",
     "output_type": "stream",
     "text": [
      "                   all      0.767          1\n"
     ]
    },
    {
     "name": "stderr",
     "output_type": "stream",
     "text": [
      "\n"
     ]
    },
    {
     "name": "stdout",
     "output_type": "stream",
     "text": [
      "\n",
      "      Epoch    GPU_mem       loss  Instances       Size\n"
     ]
    },
    {
     "name": "stderr",
     "output_type": "stream",
     "text": [
      "     56/100     0.426G     0.1063         30        224: 100%|██████████| 161/161 [00:05<00:00, 31.02it/s]\n",
      "               classes   top1_acc   top5_acc: 100%|██████████| 18/18 [00:00<00:00, 85.38it/s]"
     ]
    },
    {
     "name": "stdout",
     "output_type": "stream",
     "text": [
      "                   all      0.936          1\n"
     ]
    },
    {
     "name": "stderr",
     "output_type": "stream",
     "text": [
      "\n"
     ]
    },
    {
     "name": "stdout",
     "output_type": "stream",
     "text": [
      "\n",
      "      Epoch    GPU_mem       loss  Instances       Size\n"
     ]
    },
    {
     "name": "stderr",
     "output_type": "stream",
     "text": [
      "     57/100     0.426G    0.09545         30        224: 100%|██████████| 161/161 [00:05<00:00, 31.46it/s]\n",
      "               classes   top1_acc   top5_acc: 100%|██████████| 18/18 [00:00<00:00, 85.39it/s]"
     ]
    },
    {
     "name": "stdout",
     "output_type": "stream",
     "text": [
      "                   all      0.993          1\n"
     ]
    },
    {
     "name": "stderr",
     "output_type": "stream",
     "text": [
      "\n"
     ]
    },
    {
     "name": "stdout",
     "output_type": "stream",
     "text": [
      "\n",
      "      Epoch    GPU_mem       loss  Instances       Size\n"
     ]
    },
    {
     "name": "stderr",
     "output_type": "stream",
     "text": [
      "     58/100     0.426G    0.08832         30        224: 100%|██████████| 161/161 [00:05<00:00, 30.34it/s]\n",
      "               classes   top1_acc   top5_acc: 100%|██████████| 18/18 [00:00<00:00, 85.59it/s]"
     ]
    },
    {
     "name": "stdout",
     "output_type": "stream",
     "text": [
      "                   all      0.991          1\n"
     ]
    },
    {
     "name": "stderr",
     "output_type": "stream",
     "text": [
      "\n"
     ]
    },
    {
     "name": "stdout",
     "output_type": "stream",
     "text": [
      "\n",
      "      Epoch    GPU_mem       loss  Instances       Size\n"
     ]
    },
    {
     "name": "stderr",
     "output_type": "stream",
     "text": [
      "     59/100     0.426G    0.09497         30        224: 100%|██████████| 161/161 [00:05<00:00, 30.13it/s]\n",
      "               classes   top1_acc   top5_acc: 100%|██████████| 18/18 [00:00<00:00, 81.79it/s]"
     ]
    },
    {
     "name": "stdout",
     "output_type": "stream",
     "text": [
      "                   all      0.995          1\n"
     ]
    },
    {
     "name": "stderr",
     "output_type": "stream",
     "text": [
      "\n"
     ]
    },
    {
     "name": "stdout",
     "output_type": "stream",
     "text": [
      "\n",
      "      Epoch    GPU_mem       loss  Instances       Size\n"
     ]
    },
    {
     "name": "stderr",
     "output_type": "stream",
     "text": [
      "     60/100     0.426G    0.08938         30        224: 100%|██████████| 161/161 [00:05<00:00, 31.04it/s]\n",
      "               classes   top1_acc   top5_acc: 100%|██████████| 18/18 [00:00<00:00, 86.19it/s]"
     ]
    },
    {
     "name": "stdout",
     "output_type": "stream",
     "text": [
      "                   all      0.995          1\n"
     ]
    },
    {
     "name": "stderr",
     "output_type": "stream",
     "text": [
      "\n"
     ]
    },
    {
     "name": "stdout",
     "output_type": "stream",
     "text": [
      "\n",
      "      Epoch    GPU_mem       loss  Instances       Size\n"
     ]
    },
    {
     "name": "stderr",
     "output_type": "stream",
     "text": [
      "     61/100     0.426G     0.0929         30        224: 100%|██████████| 161/161 [00:05<00:00, 31.54it/s]\n",
      "               classes   top1_acc   top5_acc: 100%|██████████| 18/18 [00:00<00:00, 77.31it/s]"
     ]
    },
    {
     "name": "stdout",
     "output_type": "stream",
     "text": [
      "                   all      0.988          1\n"
     ]
    },
    {
     "name": "stderr",
     "output_type": "stream",
     "text": [
      "\n"
     ]
    },
    {
     "name": "stdout",
     "output_type": "stream",
     "text": [
      "\n",
      "      Epoch    GPU_mem       loss  Instances       Size\n"
     ]
    },
    {
     "name": "stderr",
     "output_type": "stream",
     "text": [
      "     62/100     0.426G    0.08344         30        224: 100%|██████████| 161/161 [00:05<00:00, 31.43it/s]\n",
      "               classes   top1_acc   top5_acc: 100%|██████████| 18/18 [00:00<00:00, 85.40it/s]"
     ]
    },
    {
     "name": "stdout",
     "output_type": "stream",
     "text": [
      "                   all      0.993          1\n"
     ]
    },
    {
     "name": "stderr",
     "output_type": "stream",
     "text": [
      "\n"
     ]
    },
    {
     "name": "stdout",
     "output_type": "stream",
     "text": [
      "\n",
      "      Epoch    GPU_mem       loss  Instances       Size\n"
     ]
    },
    {
     "name": "stderr",
     "output_type": "stream",
     "text": [
      "     63/100     0.426G    0.08652         30        224: 100%|██████████| 161/161 [00:05<00:00, 30.65it/s]\n",
      "               classes   top1_acc   top5_acc: 100%|██████████| 18/18 [00:00<00:00, 91.43it/s]"
     ]
    },
    {
     "name": "stdout",
     "output_type": "stream",
     "text": [
      "                   all      0.995          1\n"
     ]
    },
    {
     "name": "stderr",
     "output_type": "stream",
     "text": [
      "\n"
     ]
    },
    {
     "name": "stdout",
     "output_type": "stream",
     "text": [
      "\n",
      "      Epoch    GPU_mem       loss  Instances       Size\n"
     ]
    },
    {
     "name": "stderr",
     "output_type": "stream",
     "text": [
      "     64/100     0.426G    0.08019         30        224: 100%|██████████| 161/161 [00:05<00:00, 31.72it/s]\n",
      "               classes   top1_acc   top5_acc: 100%|██████████| 18/18 [00:00<00:00, 85.95it/s]"
     ]
    },
    {
     "name": "stdout",
     "output_type": "stream",
     "text": [
      "                   all      0.986          1\n"
     ]
    },
    {
     "name": "stderr",
     "output_type": "stream",
     "text": [
      "\n"
     ]
    },
    {
     "name": "stdout",
     "output_type": "stream",
     "text": [
      "\n",
      "      Epoch    GPU_mem       loss  Instances       Size\n"
     ]
    },
    {
     "name": "stderr",
     "output_type": "stream",
     "text": [
      "     65/100     0.426G    0.08297         30        224: 100%|██████████| 161/161 [00:05<00:00, 31.62it/s]\n",
      "               classes   top1_acc   top5_acc: 100%|██████████| 18/18 [00:00<00:00, 91.79it/s]"
     ]
    },
    {
     "name": "stdout",
     "output_type": "stream",
     "text": [
      "                   all      0.982          1\n"
     ]
    },
    {
     "name": "stderr",
     "output_type": "stream",
     "text": [
      "\n"
     ]
    },
    {
     "name": "stdout",
     "output_type": "stream",
     "text": [
      "\n",
      "      Epoch    GPU_mem       loss  Instances       Size\n"
     ]
    },
    {
     "name": "stderr",
     "output_type": "stream",
     "text": [
      "     66/100     0.426G    0.08206         30        224: 100%|██████████| 161/161 [00:05<00:00, 31.44it/s]\n",
      "               classes   top1_acc   top5_acc: 100%|██████████| 18/18 [00:00<00:00, 86.82it/s]"
     ]
    },
    {
     "name": "stdout",
     "output_type": "stream",
     "text": [
      "                   all      0.995          1\n"
     ]
    },
    {
     "name": "stderr",
     "output_type": "stream",
     "text": [
      "\n"
     ]
    },
    {
     "name": "stdout",
     "output_type": "stream",
     "text": [
      "\n",
      "      Epoch    GPU_mem       loss  Instances       Size\n"
     ]
    },
    {
     "name": "stderr",
     "output_type": "stream",
     "text": [
      "     67/100     0.426G    0.06784         30        224: 100%|██████████| 161/161 [00:05<00:00, 31.37it/s]\n",
      "               classes   top1_acc   top5_acc: 100%|██████████| 18/18 [00:00<00:00, 87.23it/s]"
     ]
    },
    {
     "name": "stdout",
     "output_type": "stream",
     "text": [
      "                   all      0.995          1\n"
     ]
    },
    {
     "name": "stderr",
     "output_type": "stream",
     "text": [
      "\n"
     ]
    },
    {
     "name": "stdout",
     "output_type": "stream",
     "text": [
      "\n",
      "      Epoch    GPU_mem       loss  Instances       Size\n"
     ]
    },
    {
     "name": "stderr",
     "output_type": "stream",
     "text": [
      "     68/100     0.426G    0.07837         30        224: 100%|██████████| 161/161 [00:05<00:00, 31.18it/s]\n",
      "               classes   top1_acc   top5_acc: 100%|██████████| 18/18 [00:00<00:00, 91.63it/s]"
     ]
    },
    {
     "name": "stdout",
     "output_type": "stream",
     "text": [
      "                   all      0.996          1\n"
     ]
    },
    {
     "name": "stderr",
     "output_type": "stream",
     "text": [
      "\n"
     ]
    },
    {
     "name": "stdout",
     "output_type": "stream",
     "text": [
      "\n",
      "      Epoch    GPU_mem       loss  Instances       Size\n"
     ]
    },
    {
     "name": "stderr",
     "output_type": "stream",
     "text": [
      "     69/100     0.426G     0.0812         30        224: 100%|██████████| 161/161 [00:05<00:00, 31.76it/s]\n",
      "               classes   top1_acc   top5_acc: 100%|██████████| 18/18 [00:00<00:00, 86.82it/s]"
     ]
    },
    {
     "name": "stdout",
     "output_type": "stream",
     "text": [
      "                   all      0.988          1\n"
     ]
    },
    {
     "name": "stderr",
     "output_type": "stream",
     "text": [
      "\n"
     ]
    },
    {
     "name": "stdout",
     "output_type": "stream",
     "text": [
      "\n",
      "      Epoch    GPU_mem       loss  Instances       Size\n"
     ]
    },
    {
     "name": "stderr",
     "output_type": "stream",
     "text": [
      "     70/100     0.426G    0.08365         30        224: 100%|██████████| 161/161 [00:05<00:00, 30.50it/s]\n",
      "               classes   top1_acc   top5_acc: 100%|██████████| 18/18 [00:00<00:00, 62.82it/s]\n"
     ]
    },
    {
     "name": "stdout",
     "output_type": "stream",
     "text": [
      "                   all      0.995          1\n",
      "\n",
      "      Epoch    GPU_mem       loss  Instances       Size\n"
     ]
    },
    {
     "name": "stderr",
     "output_type": "stream",
     "text": [
      "     71/100     0.426G    0.07344         30        224: 100%|██████████| 161/161 [00:05<00:00, 30.89it/s]\n",
      "               classes   top1_acc   top5_acc: 100%|██████████| 18/18 [00:00<00:00, 81.00it/s]"
     ]
    },
    {
     "name": "stdout",
     "output_type": "stream",
     "text": [
      "                   all      0.995          1\n"
     ]
    },
    {
     "name": "stderr",
     "output_type": "stream",
     "text": [
      "\n"
     ]
    },
    {
     "name": "stdout",
     "output_type": "stream",
     "text": [
      "\n",
      "      Epoch    GPU_mem       loss  Instances       Size\n"
     ]
    },
    {
     "name": "stderr",
     "output_type": "stream",
     "text": [
      "     72/100     0.426G    0.07831         30        224: 100%|██████████| 161/161 [00:05<00:00, 31.59it/s]\n",
      "               classes   top1_acc   top5_acc: 100%|██████████| 18/18 [00:00<00:00, 82.77it/s]"
     ]
    },
    {
     "name": "stdout",
     "output_type": "stream",
     "text": [
      "                   all      0.995          1\n"
     ]
    },
    {
     "name": "stderr",
     "output_type": "stream",
     "text": [
      "\n"
     ]
    },
    {
     "name": "stdout",
     "output_type": "stream",
     "text": [
      "\n",
      "      Epoch    GPU_mem       loss  Instances       Size\n"
     ]
    },
    {
     "name": "stderr",
     "output_type": "stream",
     "text": [
      "     73/100     0.426G    0.08001         30        224: 100%|██████████| 161/161 [00:05<00:00, 30.94it/s]\n",
      "               classes   top1_acc   top5_acc: 100%|██████████| 18/18 [00:00<00:00, 81.32it/s]"
     ]
    },
    {
     "name": "stdout",
     "output_type": "stream",
     "text": [
      "                   all      0.995          1\n"
     ]
    },
    {
     "name": "stderr",
     "output_type": "stream",
     "text": [
      "\n"
     ]
    },
    {
     "name": "stdout",
     "output_type": "stream",
     "text": [
      "\n",
      "      Epoch    GPU_mem       loss  Instances       Size\n"
     ]
    },
    {
     "name": "stderr",
     "output_type": "stream",
     "text": [
      "     74/100     0.426G    0.06919         30        224: 100%|██████████| 161/161 [00:04<00:00, 32.34it/s]\n",
      "               classes   top1_acc   top5_acc: 100%|██████████| 18/18 [00:00<00:00, 90.57it/s]"
     ]
    },
    {
     "name": "stdout",
     "output_type": "stream",
     "text": [
      "                   all      0.995          1\n"
     ]
    },
    {
     "name": "stderr",
     "output_type": "stream",
     "text": [
      "\n"
     ]
    },
    {
     "name": "stdout",
     "output_type": "stream",
     "text": [
      "\n",
      "      Epoch    GPU_mem       loss  Instances       Size\n"
     ]
    },
    {
     "name": "stderr",
     "output_type": "stream",
     "text": [
      "     75/100     0.426G    0.07785         30        224: 100%|██████████| 161/161 [00:05<00:00, 31.59it/s]\n",
      "               classes   top1_acc   top5_acc: 100%|██████████| 18/18 [00:00<00:00, 84.76it/s]"
     ]
    },
    {
     "name": "stdout",
     "output_type": "stream",
     "text": [
      "                   all      0.995          1\n"
     ]
    },
    {
     "name": "stderr",
     "output_type": "stream",
     "text": [
      "\n"
     ]
    },
    {
     "name": "stdout",
     "output_type": "stream",
     "text": [
      "\n",
      "      Epoch    GPU_mem       loss  Instances       Size\n"
     ]
    },
    {
     "name": "stderr",
     "output_type": "stream",
     "text": [
      "     76/100     0.426G    0.07867         30        224: 100%|██████████| 161/161 [00:05<00:00, 31.85it/s]\n",
      "               classes   top1_acc   top5_acc: 100%|██████████| 18/18 [00:00<00:00, 86.02it/s]"
     ]
    },
    {
     "name": "stdout",
     "output_type": "stream",
     "text": [
      "                   all      0.995          1\n"
     ]
    },
    {
     "name": "stderr",
     "output_type": "stream",
     "text": [
      "\n"
     ]
    },
    {
     "name": "stdout",
     "output_type": "stream",
     "text": [
      "\n",
      "      Epoch    GPU_mem       loss  Instances       Size\n"
     ]
    },
    {
     "name": "stderr",
     "output_type": "stream",
     "text": [
      "     77/100     0.426G    0.07451         30        224: 100%|██████████| 161/161 [00:05<00:00, 31.62it/s]\n",
      "               classes   top1_acc   top5_acc: 100%|██████████| 18/18 [00:00<00:00, 75.30it/s]"
     ]
    },
    {
     "name": "stdout",
     "output_type": "stream",
     "text": [
      "                   all      0.978          1\n"
     ]
    },
    {
     "name": "stderr",
     "output_type": "stream",
     "text": [
      "\n"
     ]
    },
    {
     "name": "stdout",
     "output_type": "stream",
     "text": [
      "\n",
      "      Epoch    GPU_mem       loss  Instances       Size\n"
     ]
    },
    {
     "name": "stderr",
     "output_type": "stream",
     "text": [
      "     78/100     0.426G    0.05771         30        224: 100%|██████████| 161/161 [00:05<00:00, 31.59it/s]\n",
      "               classes   top1_acc   top5_acc: 100%|██████████| 18/18 [00:00<00:00, 87.65it/s]"
     ]
    },
    {
     "name": "stdout",
     "output_type": "stream",
     "text": [
      "                   all      0.996          1\n"
     ]
    },
    {
     "name": "stderr",
     "output_type": "stream",
     "text": [
      "\n"
     ]
    },
    {
     "name": "stdout",
     "output_type": "stream",
     "text": [
      "\n",
      "      Epoch    GPU_mem       loss  Instances       Size\n"
     ]
    },
    {
     "name": "stderr",
     "output_type": "stream",
     "text": [
      "     79/100     0.426G    0.05476         30        224: 100%|██████████| 161/161 [00:05<00:00, 31.50it/s]\n",
      "               classes   top1_acc   top5_acc: 100%|██████████| 18/18 [00:00<00:00, 89.02it/s]"
     ]
    },
    {
     "name": "stdout",
     "output_type": "stream",
     "text": [
      "                   all      0.995          1\n"
     ]
    },
    {
     "name": "stderr",
     "output_type": "stream",
     "text": [
      "\n"
     ]
    },
    {
     "name": "stdout",
     "output_type": "stream",
     "text": [
      "\n",
      "      Epoch    GPU_mem       loss  Instances       Size\n"
     ]
    },
    {
     "name": "stderr",
     "output_type": "stream",
     "text": [
      "     80/100     0.426G     0.0664         30        224: 100%|██████████| 161/161 [00:05<00:00, 31.54it/s]\n",
      "               classes   top1_acc   top5_acc: 100%|██████████| 18/18 [00:00<00:00, 89.80it/s]"
     ]
    },
    {
     "name": "stdout",
     "output_type": "stream",
     "text": [
      "                   all      0.996          1\n"
     ]
    },
    {
     "name": "stderr",
     "output_type": "stream",
     "text": [
      "\n"
     ]
    },
    {
     "name": "stdout",
     "output_type": "stream",
     "text": [
      "\n",
      "      Epoch    GPU_mem       loss  Instances       Size\n"
     ]
    },
    {
     "name": "stderr",
     "output_type": "stream",
     "text": [
      "     81/100     0.426G    0.05694         30        224: 100%|██████████| 161/161 [00:05<00:00, 31.28it/s]\n",
      "               classes   top1_acc   top5_acc: 100%|██████████| 18/18 [00:00<00:00, 91.22it/s]"
     ]
    },
    {
     "name": "stdout",
     "output_type": "stream",
     "text": [
      "                   all      0.995          1\n"
     ]
    },
    {
     "name": "stderr",
     "output_type": "stream",
     "text": [
      "\n"
     ]
    },
    {
     "name": "stdout",
     "output_type": "stream",
     "text": [
      "\n",
      "      Epoch    GPU_mem       loss  Instances       Size\n"
     ]
    },
    {
     "name": "stderr",
     "output_type": "stream",
     "text": [
      "     82/100     0.428G    0.05318         30        224: 100%|██████████| 161/161 [00:05<00:00, 30.96it/s]\n",
      "               classes   top1_acc   top5_acc: 100%|██████████| 18/18 [00:00<00:00, 87.77it/s]"
     ]
    },
    {
     "name": "stdout",
     "output_type": "stream",
     "text": [
      "                   all      0.995          1\n"
     ]
    },
    {
     "name": "stderr",
     "output_type": "stream",
     "text": [
      "\n"
     ]
    },
    {
     "name": "stdout",
     "output_type": "stream",
     "text": [
      "\n",
      "      Epoch    GPU_mem       loss  Instances       Size\n"
     ]
    },
    {
     "name": "stderr",
     "output_type": "stream",
     "text": [
      "     83/100     0.426G    0.05961         30        224: 100%|██████████| 161/161 [00:05<00:00, 31.17it/s]\n",
      "               classes   top1_acc   top5_acc: 100%|██████████| 18/18 [00:00<00:00, 90.70it/s]"
     ]
    },
    {
     "name": "stdout",
     "output_type": "stream",
     "text": [
      "                   all      0.995          1\n"
     ]
    },
    {
     "name": "stderr",
     "output_type": "stream",
     "text": [
      "\n"
     ]
    },
    {
     "name": "stdout",
     "output_type": "stream",
     "text": [
      "\n",
      "      Epoch    GPU_mem       loss  Instances       Size\n"
     ]
    },
    {
     "name": "stderr",
     "output_type": "stream",
     "text": [
      "     84/100     0.426G    0.05887         30        224: 100%|██████████| 161/161 [00:05<00:00, 30.94it/s]\n",
      "               classes   top1_acc   top5_acc: 100%|██████████| 18/18 [00:00<00:00, 87.11it/s]"
     ]
    },
    {
     "name": "stdout",
     "output_type": "stream",
     "text": [
      "                   all      0.996          1\n"
     ]
    },
    {
     "name": "stderr",
     "output_type": "stream",
     "text": [
      "\n"
     ]
    },
    {
     "name": "stdout",
     "output_type": "stream",
     "text": [
      "\n",
      "      Epoch    GPU_mem       loss  Instances       Size\n"
     ]
    },
    {
     "name": "stderr",
     "output_type": "stream",
     "text": [
      "     85/100     0.426G    0.06165         30        224: 100%|██████████| 161/161 [00:05<00:00, 31.12it/s]\n",
      "               classes   top1_acc   top5_acc: 100%|██████████| 18/18 [00:00<00:00, 85.76it/s]"
     ]
    },
    {
     "name": "stdout",
     "output_type": "stream",
     "text": [
      "                   all      0.995          1\n"
     ]
    },
    {
     "name": "stderr",
     "output_type": "stream",
     "text": [
      "\n"
     ]
    },
    {
     "name": "stdout",
     "output_type": "stream",
     "text": [
      "\n",
      "      Epoch    GPU_mem       loss  Instances       Size\n"
     ]
    },
    {
     "name": "stderr",
     "output_type": "stream",
     "text": [
      "     86/100     0.426G    0.05695         30        224: 100%|██████████| 161/161 [00:05<00:00, 31.29it/s]\n",
      "               classes   top1_acc   top5_acc: 100%|██████████| 18/18 [00:00<00:00, 90.36it/s]"
     ]
    },
    {
     "name": "stdout",
     "output_type": "stream",
     "text": [
      "                   all      0.995          1\n"
     ]
    },
    {
     "name": "stderr",
     "output_type": "stream",
     "text": [
      "\n"
     ]
    },
    {
     "name": "stdout",
     "output_type": "stream",
     "text": [
      "\n",
      "      Epoch    GPU_mem       loss  Instances       Size\n"
     ]
    },
    {
     "name": "stderr",
     "output_type": "stream",
     "text": [
      "     87/100     0.426G    0.05943         30        224: 100%|██████████| 161/161 [00:05<00:00, 32.04it/s]\n",
      "               classes   top1_acc   top5_acc: 100%|██████████| 18/18 [00:00<00:00, 86.02it/s]"
     ]
    },
    {
     "name": "stdout",
     "output_type": "stream",
     "text": [
      "                   all      0.995          1\n"
     ]
    },
    {
     "name": "stderr",
     "output_type": "stream",
     "text": [
      "\n"
     ]
    },
    {
     "name": "stdout",
     "output_type": "stream",
     "text": [
      "\n",
      "      Epoch    GPU_mem       loss  Instances       Size\n"
     ]
    },
    {
     "name": "stderr",
     "output_type": "stream",
     "text": [
      "     88/100     0.426G    0.05518         30        224: 100%|██████████| 161/161 [00:05<00:00, 31.19it/s]\n",
      "               classes   top1_acc   top5_acc: 100%|██████████| 18/18 [00:00<00:00, 92.77it/s]"
     ]
    },
    {
     "name": "stdout",
     "output_type": "stream",
     "text": [
      "                   all      0.996          1\n"
     ]
    },
    {
     "name": "stderr",
     "output_type": "stream",
     "text": [
      "\n"
     ]
    },
    {
     "name": "stdout",
     "output_type": "stream",
     "text": [
      "\n",
      "      Epoch    GPU_mem       loss  Instances       Size\n"
     ]
    },
    {
     "name": "stderr",
     "output_type": "stream",
     "text": [
      "     89/100     0.426G    0.05072         30        224: 100%|██████████| 161/161 [00:05<00:00, 31.79it/s]\n",
      "               classes   top1_acc   top5_acc: 100%|██████████| 18/18 [00:00<00:00, 85.83it/s]"
     ]
    },
    {
     "name": "stdout",
     "output_type": "stream",
     "text": [
      "                   all      0.996          1\n"
     ]
    },
    {
     "name": "stderr",
     "output_type": "stream",
     "text": [
      "\n"
     ]
    },
    {
     "name": "stdout",
     "output_type": "stream",
     "text": [
      "\n",
      "      Epoch    GPU_mem       loss  Instances       Size\n"
     ]
    },
    {
     "name": "stderr",
     "output_type": "stream",
     "text": [
      "     90/100     0.426G    0.05556         30        224: 100%|██████████| 161/161 [00:05<00:00, 31.32it/s]\n",
      "               classes   top1_acc   top5_acc: 100%|██████████| 18/18 [00:00<00:00, 91.59it/s]"
     ]
    },
    {
     "name": "stdout",
     "output_type": "stream",
     "text": [
      "                   all      0.995          1\n"
     ]
    },
    {
     "name": "stderr",
     "output_type": "stream",
     "text": [
      "\n"
     ]
    },
    {
     "name": "stdout",
     "output_type": "stream",
     "text": [
      "\n",
      "      Epoch    GPU_mem       loss  Instances       Size\n"
     ]
    },
    {
     "name": "stderr",
     "output_type": "stream",
     "text": [
      "     91/100     0.426G    0.04375         30        224: 100%|██████████| 161/161 [00:05<00:00, 31.11it/s]\n",
      "               classes   top1_acc   top5_acc: 100%|██████████| 18/18 [00:00<00:00, 81.84it/s]"
     ]
    },
    {
     "name": "stdout",
     "output_type": "stream",
     "text": [
      "                   all      0.995          1\n"
     ]
    },
    {
     "name": "stderr",
     "output_type": "stream",
     "text": [
      "\n"
     ]
    },
    {
     "name": "stdout",
     "output_type": "stream",
     "text": [
      "\n",
      "      Epoch    GPU_mem       loss  Instances       Size\n"
     ]
    },
    {
     "name": "stderr",
     "output_type": "stream",
     "text": [
      "     92/100     0.426G    0.04993         30        224: 100%|██████████| 161/161 [00:05<00:00, 30.27it/s]\n",
      "               classes   top1_acc   top5_acc: 100%|██████████| 18/18 [00:00<00:00, 89.53it/s]"
     ]
    },
    {
     "name": "stdout",
     "output_type": "stream",
     "text": [
      "                   all      0.996          1\n"
     ]
    },
    {
     "name": "stderr",
     "output_type": "stream",
     "text": [
      "\n"
     ]
    },
    {
     "name": "stdout",
     "output_type": "stream",
     "text": [
      "\n",
      "      Epoch    GPU_mem       loss  Instances       Size\n"
     ]
    },
    {
     "name": "stderr",
     "output_type": "stream",
     "text": [
      "     93/100     0.426G    0.04779         30        224: 100%|██████████| 161/161 [00:05<00:00, 31.32it/s]\n",
      "               classes   top1_acc   top5_acc: 100%|██████████| 18/18 [00:00<00:00, 91.41it/s]"
     ]
    },
    {
     "name": "stdout",
     "output_type": "stream",
     "text": [
      "                   all      0.996          1\n"
     ]
    },
    {
     "name": "stderr",
     "output_type": "stream",
     "text": [
      "\n"
     ]
    },
    {
     "name": "stdout",
     "output_type": "stream",
     "text": [
      "\n",
      "      Epoch    GPU_mem       loss  Instances       Size\n"
     ]
    },
    {
     "name": "stderr",
     "output_type": "stream",
     "text": [
      "     94/100     0.426G    0.04852         30        224: 100%|██████████| 161/161 [00:05<00:00, 30.86it/s]\n",
      "               classes   top1_acc   top5_acc: 100%|██████████| 18/18 [00:00<00:00, 91.62it/s]"
     ]
    },
    {
     "name": "stdout",
     "output_type": "stream",
     "text": [
      "                   all      0.995          1\n"
     ]
    },
    {
     "name": "stderr",
     "output_type": "stream",
     "text": [
      "\n"
     ]
    },
    {
     "name": "stdout",
     "output_type": "stream",
     "text": [
      "\n",
      "      Epoch    GPU_mem       loss  Instances       Size\n"
     ]
    },
    {
     "name": "stderr",
     "output_type": "stream",
     "text": [
      "     95/100     0.426G    0.04362         30        224: 100%|██████████| 161/161 [00:05<00:00, 31.12it/s]\n",
      "               classes   top1_acc   top5_acc: 100%|██████████| 18/18 [00:00<00:00, 80.94it/s]"
     ]
    },
    {
     "name": "stdout",
     "output_type": "stream",
     "text": [
      "                   all      0.995          1\n"
     ]
    },
    {
     "name": "stderr",
     "output_type": "stream",
     "text": [
      "\n"
     ]
    },
    {
     "name": "stdout",
     "output_type": "stream",
     "text": [
      "\n",
      "      Epoch    GPU_mem       loss  Instances       Size\n"
     ]
    },
    {
     "name": "stderr",
     "output_type": "stream",
     "text": [
      "     96/100     0.428G    0.03715         30        224: 100%|██████████| 161/161 [00:05<00:00, 30.79it/s]\n",
      "               classes   top1_acc   top5_acc: 100%|██████████| 18/18 [00:00<00:00, 85.84it/s]"
     ]
    },
    {
     "name": "stdout",
     "output_type": "stream",
     "text": [
      "                   all      0.996          1\n"
     ]
    },
    {
     "name": "stderr",
     "output_type": "stream",
     "text": [
      "\n"
     ]
    },
    {
     "name": "stdout",
     "output_type": "stream",
     "text": [
      "\n",
      "      Epoch    GPU_mem       loss  Instances       Size\n"
     ]
    },
    {
     "name": "stderr",
     "output_type": "stream",
     "text": [
      "     97/100     0.426G    0.03885         30        224: 100%|██████████| 161/161 [00:05<00:00, 30.98it/s]\n",
      "               classes   top1_acc   top5_acc: 100%|██████████| 18/18 [00:00<00:00, 75.39it/s]"
     ]
    },
    {
     "name": "stdout",
     "output_type": "stream",
     "text": [
      "                   all      0.996          1\n"
     ]
    },
    {
     "name": "stderr",
     "output_type": "stream",
     "text": [
      "\n"
     ]
    },
    {
     "name": "stdout",
     "output_type": "stream",
     "text": [
      "\n",
      "      Epoch    GPU_mem       loss  Instances       Size\n"
     ]
    },
    {
     "name": "stderr",
     "output_type": "stream",
     "text": [
      "     98/100     0.426G    0.03487         30        224: 100%|██████████| 161/161 [00:05<00:00, 30.59it/s]\n",
      "               classes   top1_acc   top5_acc: 100%|██████████| 18/18 [00:00<00:00, 75.44it/s]"
     ]
    },
    {
     "name": "stdout",
     "output_type": "stream",
     "text": [
      "                   all      0.996          1\n"
     ]
    },
    {
     "name": "stderr",
     "output_type": "stream",
     "text": [
      "\n"
     ]
    },
    {
     "name": "stdout",
     "output_type": "stream",
     "text": [
      "\n",
      "      Epoch    GPU_mem       loss  Instances       Size\n"
     ]
    },
    {
     "name": "stderr",
     "output_type": "stream",
     "text": [
      "     99/100     0.426G    0.03406         30        224: 100%|██████████| 161/161 [00:05<00:00, 31.28it/s]\n",
      "               classes   top1_acc   top5_acc: 100%|██████████| 18/18 [00:00<00:00, 75.57it/s]"
     ]
    },
    {
     "name": "stdout",
     "output_type": "stream",
     "text": [
      "                   all      0.996          1\n"
     ]
    },
    {
     "name": "stderr",
     "output_type": "stream",
     "text": [
      "\n"
     ]
    },
    {
     "name": "stdout",
     "output_type": "stream",
     "text": [
      "\n",
      "      Epoch    GPU_mem       loss  Instances       Size\n"
     ]
    },
    {
     "name": "stderr",
     "output_type": "stream",
     "text": [
      "    100/100     0.426G    0.03066         30        224: 100%|██████████| 161/161 [00:05<00:00, 31.05it/s]\n",
      "               classes   top1_acc   top5_acc: 100%|██████████| 18/18 [00:00<00:00, 93.64it/s]"
     ]
    },
    {
     "name": "stdout",
     "output_type": "stream",
     "text": [
      "                   all      0.996          1\n"
     ]
    },
    {
     "name": "stderr",
     "output_type": "stream",
     "text": [
      "\n"
     ]
    },
    {
     "name": "stdout",
     "output_type": "stream",
     "text": [
      "\n",
      "100 epochs completed in 0.164 hours.\n",
      "Optimizer stripped from runs\\classify\\yolov11n_classifier6\\weights\\last.pt, 3.2MB\n",
      "Optimizer stripped from runs\\classify\\yolov11n_classifier6\\weights\\best.pt, 3.2MB\n",
      "\n",
      "Validating runs\\classify\\yolov11n_classifier6\\weights\\best.pt...\n",
      "Ultralytics 8.3.85  Python-3.11.9 torch-2.6.0+cu126 CUDA:0 (NVIDIA GeForce RTX 4070 Ti, 12282MiB)\n",
      "YOLO11n-cls summary (fused): 47 layers, 1,528,586 parameters, 0 gradients, 3.2 GFLOPs\n",
      "\u001b[34m\u001b[1mtrain:\u001b[0m C:\\Users\\User\\OneDrive\\Documents\\Programming\\metal_cast_detection\\notebooks\\model_training\\datasets\\metal_casting_2\\train... found 5150 images in 2 classes  \n",
      "\u001b[34m\u001b[1mval:\u001b[0m C:\\Users\\User\\OneDrive\\Documents\\Programming\\metal_cast_detection\\notebooks\\model_training\\datasets\\metal_casting_2\\val... found 1092 images in 2 classes  \n",
      "\u001b[34m\u001b[1mtest:\u001b[0m C:\\Users\\User\\OneDrive\\Documents\\Programming\\metal_cast_detection\\notebooks\\model_training\\datasets\\metal_casting_2\\test... found 1106 images in 2 classes  \n"
     ]
    },
    {
     "name": "stderr",
     "output_type": "stream",
     "text": [
      "               classes   top1_acc   top5_acc: 100%|██████████| 18/18 [00:00<00:00, 77.18it/s]\n"
     ]
    },
    {
     "name": "stdout",
     "output_type": "stream",
     "text": [
      "                   all      0.996          1\n",
      "Speed: 0.0ms preprocess, 0.1ms inference, 0.0ms loss, 0.0ms postprocess per image\n",
      "Results saved to \u001b[1mruns\\classify\\yolov11n_classifier6\u001b[0m\n"
     ]
    }
   ],
   "source": [
    "#Yolo model training\n",
    "\n",
    "from ultralytics import YOLO\n",
    "\n",
    "# Initialize model\n",
    "model = YOLO('yolo11n-cls.pt')\n",
    "\n",
    "# Start training\n",
    "results = model.train(\n",
    "    data=r'C:\\Users\\User\\OneDrive\\Documents\\Programming\\metal_cast_detection\\notebooks\\model_training\\datasets\\metal_casting_2',\n",
    "    epochs=100,\n",
    "    imgsz=224,\n",
    "    batch=32,\n",
    "    optimizer='Adam',\n",
    "    seed=42,\n",
    "    device='0',  # '0' for GPU, 'cpu' for CPU\n",
    "    name='yolov11n_classifier'\n",
    ")"
   ]
  },
  {
   "cell_type": "code",
   "execution_count": 17,
   "metadata": {},
   "outputs": [
    {
     "name": "stdout",
     "output_type": "stream",
     "text": [
      "Ultralytics 8.3.85  Python-3.11.9 torch-2.6.0+cu126 CUDA:0 (NVIDIA GeForce RTX 4070 Ti, 12282MiB)\n",
      "YOLO11n-cls summary (fused): 47 layers, 1,528,586 parameters, 0 gradients, 3.2 GFLOPs\n"
     ]
    },
    {
     "name": "stderr",
     "output_type": "stream",
     "text": [
      "\u001b[34m\u001b[1mtest: \u001b[0mScanning C:\\Users\\User\\OneDrive\\Documents\\Programming\\metal_cast_detection\\notebooks\\model_training\\datasets\\metal_casting_2\\test... 1106 images, 0 corrupt: 100%|██████████| 1106/1106 [00:00<00:00, 1455.78it/s]\n"
     ]
    },
    {
     "name": "stdout",
     "output_type": "stream",
     "text": [
      "\u001b[34m\u001b[1mtest: \u001b[0mNew cache created: C:\\Users\\User\\OneDrive\\Documents\\Programming\\metal_cast_detection\\notebooks\\model_training\\datasets\\metal_casting_2\\test.cache\n"
     ]
    },
    {
     "name": "stderr",
     "output_type": "stream",
     "text": [
      "               classes   top1_acc   top5_acc: 100%|██████████| 35/35 [00:00<00:00, 70.92it/s]\n"
     ]
    },
    {
     "name": "stdout",
     "output_type": "stream",
     "text": [
      "                   all      0.998          1\n",
      "Speed: 0.0ms preprocess, 0.3ms inference, 0.0ms loss, 0.0ms postprocess per image\n",
      "Results saved to \u001b[1mruns\\classify\\yolov11n_classifier62\u001b[0m\n"
     ]
    }
   ],
   "source": [
    "# Validate the model\n",
    "metrics = model.val(data='metal_casting.yaml', split = 'test')  \n"
   ]
  },
  {
   "cell_type": "code",
   "execution_count": 18,
   "metadata": {},
   "outputs": [
    {
     "data": {
      "text/plain": [
       "ultralytics.utils.metrics.ClassifyMetrics object with attributes:\n",
       "\n",
       "confusion_matrix: <ultralytics.utils.metrics.ConfusionMatrix object at 0x000001EC80999D90>\n",
       "curves: []\n",
       "curves_results: []\n",
       "fitness: 0.9990958273410797\n",
       "keys: ['metrics/accuracy_top1', 'metrics/accuracy_top5']\n",
       "results_dict: {'metrics/accuracy_top1': 0.9981916546821594, 'metrics/accuracy_top5': 1.0, 'fitness': 0.9990958273410797}\n",
       "save_dir: WindowsPath('runs/classify/yolov11n_classifier62')\n",
       "speed: {'preprocess': 0.029185352706776472, 'inference': 0.2953415008381373, 'loss': 0.00020054239101007336, 'postprocess': 0.0002992765832301667}\n",
       "task: 'classify'\n",
       "top1: 0.9981916546821594\n",
       "top5: 1.0"
      ]
     },
     "execution_count": 18,
     "metadata": {},
     "output_type": "execute_result"
    }
   ],
   "source": [
    "metrics"
   ]
  },
  {
   "cell_type": "code",
   "execution_count": null,
   "metadata": {},
   "outputs": [
    {
     "name": "stdout",
     "output_type": "stream",
     "text": [
      "\n",
      "image 1/592 C:\\Users\\User\\OneDrive\\Documents\\Programming\\metal_cast_detection\\notebooks\\model_training\\datasets\\metal_casting\\test\\0_def_front\\cast_def_0_1059.jpeg: 224x224 Defect 1.00, OK 0.00, 6.1ms\n",
      "image 2/592 C:\\Users\\User\\OneDrive\\Documents\\Programming\\metal_cast_detection\\notebooks\\model_training\\datasets\\metal_casting\\test\\0_def_front\\cast_def_0_1063.jpeg: 224x224 Defect 1.00, OK 0.00, 5.6ms\n",
      "image 3/592 C:\\Users\\User\\OneDrive\\Documents\\Programming\\metal_cast_detection\\notebooks\\model_training\\datasets\\metal_casting\\test\\0_def_front\\cast_def_0_108.jpeg: 224x224 Defect 1.00, OK 0.00, 10.5ms\n",
      "image 4/592 C:\\Users\\User\\OneDrive\\Documents\\Programming\\metal_cast_detection\\notebooks\\model_training\\datasets\\metal_casting\\test\\0_def_front\\cast_def_0_1096.jpeg: 224x224 Defect 1.00, OK 0.00, 8.8ms\n",
      "image 5/592 C:\\Users\\User\\OneDrive\\Documents\\Programming\\metal_cast_detection\\notebooks\\model_training\\datasets\\metal_casting\\test\\0_def_front\\cast_def_0_112.jpeg: 224x224 Defect 1.00, OK 0.00, 5.6ms\n",
      "image 6/592 C:\\Users\\User\\OneDrive\\Documents\\Programming\\metal_cast_detection\\notebooks\\model_training\\datasets\\metal_casting\\test\\0_def_front\\cast_def_0_1134.jpeg: 224x224 Defect 1.00, OK 0.00, 5.4ms\n",
      "image 7/592 C:\\Users\\User\\OneDrive\\Documents\\Programming\\metal_cast_detection\\notebooks\\model_training\\datasets\\metal_casting\\test\\0_def_front\\cast_def_0_1136.jpeg: 224x224 Defect 1.00, OK 0.00, 4.5ms\n",
      "image 8/592 C:\\Users\\User\\OneDrive\\Documents\\Programming\\metal_cast_detection\\notebooks\\model_training\\datasets\\metal_casting\\test\\0_def_front\\cast_def_0_1137.jpeg: 224x224 Defect 1.00, OK 0.00, 6.7ms\n",
      "image 9/592 C:\\Users\\User\\OneDrive\\Documents\\Programming\\metal_cast_detection\\notebooks\\model_training\\datasets\\metal_casting\\test\\0_def_front\\cast_def_0_1153.jpeg: 224x224 Defect 1.00, OK 0.00, 6.8ms\n",
      "image 10/592 C:\\Users\\User\\OneDrive\\Documents\\Programming\\metal_cast_detection\\notebooks\\model_training\\datasets\\metal_casting\\test\\0_def_front\\cast_def_0_1171.jpeg: 224x224 Defect 1.00, OK 0.00, 6.0ms\n",
      "image 11/592 C:\\Users\\User\\OneDrive\\Documents\\Programming\\metal_cast_detection\\notebooks\\model_training\\datasets\\metal_casting\\test\\0_def_front\\cast_def_0_1172.jpeg: 224x224 Defect 1.00, OK 0.00, 7.3ms\n",
      "image 12/592 C:\\Users\\User\\OneDrive\\Documents\\Programming\\metal_cast_detection\\notebooks\\model_training\\datasets\\metal_casting\\test\\0_def_front\\cast_def_0_1174.jpeg: 224x224 Defect 1.00, OK 0.00, 7.1ms\n",
      "image 13/592 C:\\Users\\User\\OneDrive\\Documents\\Programming\\metal_cast_detection\\notebooks\\model_training\\datasets\\metal_casting\\test\\0_def_front\\cast_def_0_118.jpeg: 224x224 Defect 1.00, OK 0.00, 6.2ms\n",
      "image 14/592 C:\\Users\\User\\OneDrive\\Documents\\Programming\\metal_cast_detection\\notebooks\\model_training\\datasets\\metal_casting\\test\\0_def_front\\cast_def_0_1186.jpeg: 224x224 Defect 1.00, OK 0.00, 5.0ms\n",
      "image 15/592 C:\\Users\\User\\OneDrive\\Documents\\Programming\\metal_cast_detection\\notebooks\\model_training\\datasets\\metal_casting\\test\\0_def_front\\cast_def_0_1189.jpeg: 224x224 Defect 1.00, OK 0.00, 5.2ms\n",
      "image 16/592 C:\\Users\\User\\OneDrive\\Documents\\Programming\\metal_cast_detection\\notebooks\\model_training\\datasets\\metal_casting\\test\\0_def_front\\cast_def_0_1191.jpeg: 224x224 Defect 1.00, OK 0.00, 5.1ms\n",
      "image 17/592 C:\\Users\\User\\OneDrive\\Documents\\Programming\\metal_cast_detection\\notebooks\\model_training\\datasets\\metal_casting\\test\\0_def_front\\cast_def_0_1203.jpeg: 224x224 Defect 1.00, OK 0.00, 4.5ms\n",
      "image 18/592 C:\\Users\\User\\OneDrive\\Documents\\Programming\\metal_cast_detection\\notebooks\\model_training\\datasets\\metal_casting\\test\\0_def_front\\cast_def_0_1211.jpeg: 224x224 Defect 1.00, OK 0.00, 4.9ms\n",
      "image 19/592 C:\\Users\\User\\OneDrive\\Documents\\Programming\\metal_cast_detection\\notebooks\\model_training\\datasets\\metal_casting\\test\\0_def_front\\cast_def_0_1215.jpeg: 224x224 Defect 1.00, OK 0.00, 4.4ms\n",
      "image 20/592 C:\\Users\\User\\OneDrive\\Documents\\Programming\\metal_cast_detection\\notebooks\\model_training\\datasets\\metal_casting\\test\\0_def_front\\cast_def_0_1231.jpeg: 224x224 Defect 1.00, OK 0.00, 7.0ms\n",
      "image 21/592 C:\\Users\\User\\OneDrive\\Documents\\Programming\\metal_cast_detection\\notebooks\\model_training\\datasets\\metal_casting\\test\\0_def_front\\cast_def_0_1233.jpeg: 224x224 Defect 1.00, OK 0.00, 4.7ms\n",
      "image 22/592 C:\\Users\\User\\OneDrive\\Documents\\Programming\\metal_cast_detection\\notebooks\\model_training\\datasets\\metal_casting\\test\\0_def_front\\cast_def_0_1238.jpeg: 224x224 Defect 1.00, OK 0.00, 5.1ms\n",
      "image 23/592 C:\\Users\\User\\OneDrive\\Documents\\Programming\\metal_cast_detection\\notebooks\\model_training\\datasets\\metal_casting\\test\\0_def_front\\cast_def_0_1239.jpeg: 224x224 Defect 1.00, OK 0.00, 4.3ms\n",
      "image 24/592 C:\\Users\\User\\OneDrive\\Documents\\Programming\\metal_cast_detection\\notebooks\\model_training\\datasets\\metal_casting\\test\\0_def_front\\cast_def_0_1258.jpeg: 224x224 Defect 1.00, OK 0.00, 4.3ms\n",
      "image 25/592 C:\\Users\\User\\OneDrive\\Documents\\Programming\\metal_cast_detection\\notebooks\\model_training\\datasets\\metal_casting\\test\\0_def_front\\cast_def_0_1260.jpeg: 224x224 Defect 1.00, OK 0.00, 5.6ms\n",
      "image 26/592 C:\\Users\\User\\OneDrive\\Documents\\Programming\\metal_cast_detection\\notebooks\\model_training\\datasets\\metal_casting\\test\\0_def_front\\cast_def_0_1264.jpeg: 224x224 Defect 1.00, OK 0.00, 4.0ms\n",
      "image 27/592 C:\\Users\\User\\OneDrive\\Documents\\Programming\\metal_cast_detection\\notebooks\\model_training\\datasets\\metal_casting\\test\\0_def_front\\cast_def_0_1269.jpeg: 224x224 Defect 1.00, OK 0.00, 4.5ms\n",
      "image 28/592 C:\\Users\\User\\OneDrive\\Documents\\Programming\\metal_cast_detection\\notebooks\\model_training\\datasets\\metal_casting\\test\\0_def_front\\cast_def_0_1291.jpeg: 224x224 Defect 1.00, OK 0.00, 5.8ms\n",
      "image 29/592 C:\\Users\\User\\OneDrive\\Documents\\Programming\\metal_cast_detection\\notebooks\\model_training\\datasets\\metal_casting\\test\\0_def_front\\cast_def_0_1292.jpeg: 224x224 Defect 1.00, OK 0.00, 5.9ms\n",
      "image 30/592 C:\\Users\\User\\OneDrive\\Documents\\Programming\\metal_cast_detection\\notebooks\\model_training\\datasets\\metal_casting\\test\\0_def_front\\cast_def_0_1294.jpeg: 224x224 Defect 1.00, OK 0.00, 5.4ms\n",
      "image 31/592 C:\\Users\\User\\OneDrive\\Documents\\Programming\\metal_cast_detection\\notebooks\\model_training\\datasets\\metal_casting\\test\\0_def_front\\cast_def_0_1298.jpeg: 224x224 Defect 1.00, OK 0.00, 4.7ms\n",
      "image 32/592 C:\\Users\\User\\OneDrive\\Documents\\Programming\\metal_cast_detection\\notebooks\\model_training\\datasets\\metal_casting\\test\\0_def_front\\cast_def_0_1320.jpeg: 224x224 Defect 1.00, OK 0.00, 5.5ms\n",
      "image 33/592 C:\\Users\\User\\OneDrive\\Documents\\Programming\\metal_cast_detection\\notebooks\\model_training\\datasets\\metal_casting\\test\\0_def_front\\cast_def_0_1323.jpeg: 224x224 Defect 1.00, OK 0.00, 4.5ms\n",
      "image 34/592 C:\\Users\\User\\OneDrive\\Documents\\Programming\\metal_cast_detection\\notebooks\\model_training\\datasets\\metal_casting\\test\\0_def_front\\cast_def_0_1324.jpeg: 224x224 Defect 1.00, OK 0.00, 4.6ms\n",
      "image 35/592 C:\\Users\\User\\OneDrive\\Documents\\Programming\\metal_cast_detection\\notebooks\\model_training\\datasets\\metal_casting\\test\\0_def_front\\cast_def_0_1351.jpeg: 224x224 Defect 1.00, OK 0.00, 4.4ms\n",
      "image 36/592 C:\\Users\\User\\OneDrive\\Documents\\Programming\\metal_cast_detection\\notebooks\\model_training\\datasets\\metal_casting\\test\\0_def_front\\cast_def_0_1352.jpeg: 224x224 Defect 1.00, OK 0.00, 3.5ms\n",
      "image 37/592 C:\\Users\\User\\OneDrive\\Documents\\Programming\\metal_cast_detection\\notebooks\\model_training\\datasets\\metal_casting\\test\\0_def_front\\cast_def_0_1358.jpeg: 224x224 Defect 1.00, OK 0.00, 3.4ms\n",
      "image 38/592 C:\\Users\\User\\OneDrive\\Documents\\Programming\\metal_cast_detection\\notebooks\\model_training\\datasets\\metal_casting\\test\\0_def_front\\cast_def_0_1359.jpeg: 224x224 Defect 1.00, OK 0.00, 3.8ms\n",
      "image 39/592 C:\\Users\\User\\OneDrive\\Documents\\Programming\\metal_cast_detection\\notebooks\\model_training\\datasets\\metal_casting\\test\\0_def_front\\cast_def_0_1376.jpeg: 224x224 Defect 1.00, OK 0.00, 3.5ms\n",
      "image 40/592 C:\\Users\\User\\OneDrive\\Documents\\Programming\\metal_cast_detection\\notebooks\\model_training\\datasets\\metal_casting\\test\\0_def_front\\cast_def_0_1379.jpeg: 224x224 Defect 1.00, OK 0.00, 5.1ms\n",
      "image 41/592 C:\\Users\\User\\OneDrive\\Documents\\Programming\\metal_cast_detection\\notebooks\\model_training\\datasets\\metal_casting\\test\\0_def_front\\cast_def_0_138.jpeg: 224x224 Defect 1.00, OK 0.00, 3.4ms\n",
      "image 42/592 C:\\Users\\User\\OneDrive\\Documents\\Programming\\metal_cast_detection\\notebooks\\model_training\\datasets\\metal_casting\\test\\0_def_front\\cast_def_0_1381.jpeg: 224x224 Defect 1.00, OK 0.00, 4.1ms\n",
      "image 43/592 C:\\Users\\User\\OneDrive\\Documents\\Programming\\metal_cast_detection\\notebooks\\model_training\\datasets\\metal_casting\\test\\0_def_front\\cast_def_0_1388.jpeg: 224x224 Defect 1.00, OK 0.00, 5.5ms\n",
      "image 44/592 C:\\Users\\User\\OneDrive\\Documents\\Programming\\metal_cast_detection\\notebooks\\model_training\\datasets\\metal_casting\\test\\0_def_front\\cast_def_0_1392.jpeg: 224x224 Defect 1.00, OK 0.00, 3.9ms\n",
      "image 45/592 C:\\Users\\User\\OneDrive\\Documents\\Programming\\metal_cast_detection\\notebooks\\model_training\\datasets\\metal_casting\\test\\0_def_front\\cast_def_0_1394.jpeg: 224x224 Defect 1.00, OK 0.00, 5.0ms\n",
      "image 46/592 C:\\Users\\User\\OneDrive\\Documents\\Programming\\metal_cast_detection\\notebooks\\model_training\\datasets\\metal_casting\\test\\0_def_front\\cast_def_0_1397.jpeg: 224x224 Defect 1.00, OK 0.00, 5.7ms\n",
      "image 47/592 C:\\Users\\User\\OneDrive\\Documents\\Programming\\metal_cast_detection\\notebooks\\model_training\\datasets\\metal_casting\\test\\0_def_front\\cast_def_0_1399.jpeg: 224x224 Defect 1.00, OK 0.00, 4.0ms\n",
      "image 48/592 C:\\Users\\User\\OneDrive\\Documents\\Programming\\metal_cast_detection\\notebooks\\model_training\\datasets\\metal_casting\\test\\0_def_front\\cast_def_0_1400.jpeg: 224x224 Defect 1.00, OK 0.00, 4.9ms\n",
      "image 49/592 C:\\Users\\User\\OneDrive\\Documents\\Programming\\metal_cast_detection\\notebooks\\model_training\\datasets\\metal_casting\\test\\0_def_front\\cast_def_0_1411.jpeg: 224x224 Defect 1.00, OK 0.00, 4.3ms\n",
      "image 50/592 C:\\Users\\User\\OneDrive\\Documents\\Programming\\metal_cast_detection\\notebooks\\model_training\\datasets\\metal_casting\\test\\0_def_front\\cast_def_0_1412.jpeg: 224x224 Defect 1.00, OK 0.00, 3.8ms\n",
      "image 51/592 C:\\Users\\User\\OneDrive\\Documents\\Programming\\metal_cast_detection\\notebooks\\model_training\\datasets\\metal_casting\\test\\0_def_front\\cast_def_0_1413.jpeg: 224x224 Defect 1.00, OK 0.00, 4.8ms\n",
      "image 52/592 C:\\Users\\User\\OneDrive\\Documents\\Programming\\metal_cast_detection\\notebooks\\model_training\\datasets\\metal_casting\\test\\0_def_front\\cast_def_0_1414.jpeg: 224x224 Defect 1.00, OK 0.00, 3.7ms\n",
      "image 53/592 C:\\Users\\User\\OneDrive\\Documents\\Programming\\metal_cast_detection\\notebooks\\model_training\\datasets\\metal_casting\\test\\0_def_front\\cast_def_0_1418.jpeg: 224x224 Defect 1.00, OK 0.00, 4.6ms\n",
      "image 54/592 C:\\Users\\User\\OneDrive\\Documents\\Programming\\metal_cast_detection\\notebooks\\model_training\\datasets\\metal_casting\\test\\0_def_front\\cast_def_0_1421.jpeg: 224x224 Defect 1.00, OK 0.00, 4.5ms\n",
      "image 55/592 C:\\Users\\User\\OneDrive\\Documents\\Programming\\metal_cast_detection\\notebooks\\model_training\\datasets\\metal_casting\\test\\0_def_front\\cast_def_0_1422.jpeg: 224x224 Defect 1.00, OK 0.00, 3.5ms\n",
      "image 56/592 C:\\Users\\User\\OneDrive\\Documents\\Programming\\metal_cast_detection\\notebooks\\model_training\\datasets\\metal_casting\\test\\0_def_front\\cast_def_0_1424.jpeg: 224x224 Defect 1.00, OK 0.00, 4.3ms\n",
      "image 57/592 C:\\Users\\User\\OneDrive\\Documents\\Programming\\metal_cast_detection\\notebooks\\model_training\\datasets\\metal_casting\\test\\0_def_front\\cast_def_0_1425.jpeg: 224x224 Defect 1.00, OK 0.00, 4.1ms\n",
      "image 58/592 C:\\Users\\User\\OneDrive\\Documents\\Programming\\metal_cast_detection\\notebooks\\model_training\\datasets\\metal_casting\\test\\0_def_front\\cast_def_0_143.jpeg: 224x224 Defect 1.00, OK 0.00, 4.0ms\n",
      "image 59/592 C:\\Users\\User\\OneDrive\\Documents\\Programming\\metal_cast_detection\\notebooks\\model_training\\datasets\\metal_casting\\test\\0_def_front\\cast_def_0_144.jpeg: 224x224 Defect 1.00, OK 0.00, 3.1ms\n",
      "image 60/592 C:\\Users\\User\\OneDrive\\Documents\\Programming\\metal_cast_detection\\notebooks\\model_training\\datasets\\metal_casting\\test\\0_def_front\\cast_def_0_1443.jpeg: 224x224 Defect 1.00, OK 0.00, 4.6ms\n",
      "image 61/592 C:\\Users\\User\\OneDrive\\Documents\\Programming\\metal_cast_detection\\notebooks\\model_training\\datasets\\metal_casting\\test\\0_def_front\\cast_def_0_1447.jpeg: 224x224 Defect 1.00, OK 0.00, 3.4ms\n",
      "image 62/592 C:\\Users\\User\\OneDrive\\Documents\\Programming\\metal_cast_detection\\notebooks\\model_training\\datasets\\metal_casting\\test\\0_def_front\\cast_def_0_1453.jpeg: 224x224 Defect 1.00, OK 0.00, 4.5ms\n",
      "image 63/592 C:\\Users\\User\\OneDrive\\Documents\\Programming\\metal_cast_detection\\notebooks\\model_training\\datasets\\metal_casting\\test\\0_def_front\\cast_def_0_1462.jpeg: 224x224 Defect 1.00, OK 0.00, 3.8ms\n",
      "image 64/592 C:\\Users\\User\\OneDrive\\Documents\\Programming\\metal_cast_detection\\notebooks\\model_training\\datasets\\metal_casting\\test\\0_def_front\\cast_def_0_1466.jpeg: 224x224 Defect 1.00, OK 0.00, 4.6ms\n",
      "image 65/592 C:\\Users\\User\\OneDrive\\Documents\\Programming\\metal_cast_detection\\notebooks\\model_training\\datasets\\metal_casting\\test\\0_def_front\\cast_def_0_1467.jpeg: 224x224 Defect 1.00, OK 0.00, 3.5ms\n",
      "image 66/592 C:\\Users\\User\\OneDrive\\Documents\\Programming\\metal_cast_detection\\notebooks\\model_training\\datasets\\metal_casting\\test\\0_def_front\\cast_def_0_147.jpeg: 224x224 Defect 1.00, OK 0.00, 4.4ms\n",
      "image 67/592 C:\\Users\\User\\OneDrive\\Documents\\Programming\\metal_cast_detection\\notebooks\\model_training\\datasets\\metal_casting\\test\\0_def_front\\cast_def_0_1471.jpeg: 224x224 Defect 1.00, OK 0.00, 5.6ms\n",
      "image 68/592 C:\\Users\\User\\OneDrive\\Documents\\Programming\\metal_cast_detection\\notebooks\\model_training\\datasets\\metal_casting\\test\\0_def_front\\cast_def_0_1474.jpeg: 224x224 Defect 1.00, OK 0.00, 3.6ms\n",
      "image 69/592 C:\\Users\\User\\OneDrive\\Documents\\Programming\\metal_cast_detection\\notebooks\\model_training\\datasets\\metal_casting\\test\\0_def_front\\cast_def_0_1476.jpeg: 224x224 Defect 1.00, OK 0.00, 3.7ms\n",
      "image 70/592 C:\\Users\\User\\OneDrive\\Documents\\Programming\\metal_cast_detection\\notebooks\\model_training\\datasets\\metal_casting\\test\\0_def_front\\cast_def_0_1477.jpeg: 224x224 Defect 1.00, OK 0.00, 3.4ms\n",
      "image 71/592 C:\\Users\\User\\OneDrive\\Documents\\Programming\\metal_cast_detection\\notebooks\\model_training\\datasets\\metal_casting\\test\\0_def_front\\cast_def_0_148.jpeg: 224x224 Defect 1.00, OK 0.00, 3.5ms\n",
      "image 72/592 C:\\Users\\User\\OneDrive\\Documents\\Programming\\metal_cast_detection\\notebooks\\model_training\\datasets\\metal_casting\\test\\0_def_front\\cast_def_0_1480.jpeg: 224x224 Defect 1.00, OK 0.00, 4.5ms\n",
      "image 73/592 C:\\Users\\User\\OneDrive\\Documents\\Programming\\metal_cast_detection\\notebooks\\model_training\\datasets\\metal_casting\\test\\0_def_front\\cast_def_0_1486.jpeg: 224x224 Defect 1.00, OK 0.00, 5.5ms\n",
      "image 74/592 C:\\Users\\User\\OneDrive\\Documents\\Programming\\metal_cast_detection\\notebooks\\model_training\\datasets\\metal_casting\\test\\0_def_front\\cast_def_0_1488.jpeg: 224x224 Defect 1.00, OK 0.00, 3.4ms\n",
      "image 75/592 C:\\Users\\User\\OneDrive\\Documents\\Programming\\metal_cast_detection\\notebooks\\model_training\\datasets\\metal_casting\\test\\0_def_front\\cast_def_0_149.jpeg: 224x224 Defect 1.00, OK 0.00, 3.5ms\n",
      "image 76/592 C:\\Users\\User\\OneDrive\\Documents\\Programming\\metal_cast_detection\\notebooks\\model_training\\datasets\\metal_casting\\test\\0_def_front\\cast_def_0_1492.jpeg: 224x224 Defect 1.00, OK 0.00, 5.8ms\n",
      "image 77/592 C:\\Users\\User\\OneDrive\\Documents\\Programming\\metal_cast_detection\\notebooks\\model_training\\datasets\\metal_casting\\test\\0_def_front\\cast_def_0_1493.jpeg: 224x224 Defect 1.00, OK 0.00, 3.2ms\n",
      "image 78/592 C:\\Users\\User\\OneDrive\\Documents\\Programming\\metal_cast_detection\\notebooks\\model_training\\datasets\\metal_casting\\test\\0_def_front\\cast_def_0_1497.jpeg: 224x224 Defect 1.00, OK 0.00, 3.9ms\n",
      "image 79/592 C:\\Users\\User\\OneDrive\\Documents\\Programming\\metal_cast_detection\\notebooks\\model_training\\datasets\\metal_casting\\test\\0_def_front\\cast_def_0_1499.jpeg: 224x224 Defect 1.00, OK 0.00, 3.5ms\n",
      "image 80/592 C:\\Users\\User\\OneDrive\\Documents\\Programming\\metal_cast_detection\\notebooks\\model_training\\datasets\\metal_casting\\test\\0_def_front\\cast_def_0_15.jpeg: 224x224 Defect 1.00, OK 0.00, 3.6ms\n",
      "image 81/592 C:\\Users\\User\\OneDrive\\Documents\\Programming\\metal_cast_detection\\notebooks\\model_training\\datasets\\metal_casting\\test\\0_def_front\\cast_def_0_150.jpeg: 224x224 Defect 0.64, OK 0.36, 3.8ms\n",
      "image 82/592 C:\\Users\\User\\OneDrive\\Documents\\Programming\\metal_cast_detection\\notebooks\\model_training\\datasets\\metal_casting\\test\\0_def_front\\cast_def_0_1500.jpeg: 224x224 Defect 1.00, OK 0.00, 3.3ms\n",
      "image 83/592 C:\\Users\\User\\OneDrive\\Documents\\Programming\\metal_cast_detection\\notebooks\\model_training\\datasets\\metal_casting\\test\\0_def_front\\cast_def_0_1505.jpeg: 224x224 Defect 1.00, OK 0.00, 3.7ms\n",
      "image 84/592 C:\\Users\\User\\OneDrive\\Documents\\Programming\\metal_cast_detection\\notebooks\\model_training\\datasets\\metal_casting\\test\\0_def_front\\cast_def_0_1506.jpeg: 224x224 Defect 1.00, OK 0.00, 3.6ms\n",
      "image 85/592 C:\\Users\\User\\OneDrive\\Documents\\Programming\\metal_cast_detection\\notebooks\\model_training\\datasets\\metal_casting\\test\\0_def_front\\cast_def_0_1507.jpeg: 224x224 Defect 1.00, OK 0.00, 4.0ms\n",
      "image 86/592 C:\\Users\\User\\OneDrive\\Documents\\Programming\\metal_cast_detection\\notebooks\\model_training\\datasets\\metal_casting\\test\\0_def_front\\cast_def_0_1509.jpeg: 224x224 Defect 1.00, OK 0.00, 4.4ms\n",
      "image 87/592 C:\\Users\\User\\OneDrive\\Documents\\Programming\\metal_cast_detection\\notebooks\\model_training\\datasets\\metal_casting\\test\\0_def_front\\cast_def_0_151.jpeg: 224x224 Defect 1.00, OK 0.00, 3.7ms\n",
      "image 88/592 C:\\Users\\User\\OneDrive\\Documents\\Programming\\metal_cast_detection\\notebooks\\model_training\\datasets\\metal_casting\\test\\0_def_front\\cast_def_0_1510.jpeg: 224x224 Defect 1.00, OK 0.00, 4.1ms\n",
      "image 89/592 C:\\Users\\User\\OneDrive\\Documents\\Programming\\metal_cast_detection\\notebooks\\model_training\\datasets\\metal_casting\\test\\0_def_front\\cast_def_0_1511.jpeg: 224x224 Defect 1.00, OK 0.00, 3.5ms\n",
      "image 90/592 C:\\Users\\User\\OneDrive\\Documents\\Programming\\metal_cast_detection\\notebooks\\model_training\\datasets\\metal_casting\\test\\0_def_front\\cast_def_0_1517.jpeg: 224x224 Defect 1.00, OK 0.00, 3.6ms\n",
      "image 91/592 C:\\Users\\User\\OneDrive\\Documents\\Programming\\metal_cast_detection\\notebooks\\model_training\\datasets\\metal_casting\\test\\0_def_front\\cast_def_0_1518.jpeg: 224x224 Defect 1.00, OK 0.00, 3.4ms\n",
      "image 92/592 C:\\Users\\User\\OneDrive\\Documents\\Programming\\metal_cast_detection\\notebooks\\model_training\\datasets\\metal_casting\\test\\0_def_front\\cast_def_0_1519.jpeg: 224x224 Defect 1.00, OK 0.00, 3.8ms\n",
      "image 93/592 C:\\Users\\User\\OneDrive\\Documents\\Programming\\metal_cast_detection\\notebooks\\model_training\\datasets\\metal_casting\\test\\0_def_front\\cast_def_0_1528.jpeg: 224x224 Defect 1.00, OK 0.00, 3.1ms\n",
      "image 94/592 C:\\Users\\User\\OneDrive\\Documents\\Programming\\metal_cast_detection\\notebooks\\model_training\\datasets\\metal_casting\\test\\0_def_front\\cast_def_0_1529.jpeg: 224x224 Defect 1.00, OK 0.00, 3.5ms\n",
      "image 95/592 C:\\Users\\User\\OneDrive\\Documents\\Programming\\metal_cast_detection\\notebooks\\model_training\\datasets\\metal_casting\\test\\0_def_front\\cast_def_0_1535.jpeg: 224x224 Defect 1.00, OK 0.00, 3.7ms\n",
      "image 96/592 C:\\Users\\User\\OneDrive\\Documents\\Programming\\metal_cast_detection\\notebooks\\model_training\\datasets\\metal_casting\\test\\0_def_front\\cast_def_0_1536.jpeg: 224x224 Defect 1.00, OK 0.00, 3.9ms\n",
      "image 97/592 C:\\Users\\User\\OneDrive\\Documents\\Programming\\metal_cast_detection\\notebooks\\model_training\\datasets\\metal_casting\\test\\0_def_front\\cast_def_0_1539.jpeg: 224x224 Defect 1.00, OK 0.00, 4.4ms\n",
      "image 98/592 C:\\Users\\User\\OneDrive\\Documents\\Programming\\metal_cast_detection\\notebooks\\model_training\\datasets\\metal_casting\\test\\0_def_front\\cast_def_0_154.jpeg: 224x224 Defect 1.00, OK 0.00, 3.4ms\n",
      "image 99/592 C:\\Users\\User\\OneDrive\\Documents\\Programming\\metal_cast_detection\\notebooks\\model_training\\datasets\\metal_casting\\test\\0_def_front\\cast_def_0_1544.jpeg: 224x224 Defect 1.00, OK 0.00, 3.8ms\n",
      "image 100/592 C:\\Users\\User\\OneDrive\\Documents\\Programming\\metal_cast_detection\\notebooks\\model_training\\datasets\\metal_casting\\test\\0_def_front\\cast_def_0_1546.jpeg: 224x224 Defect 1.00, OK 0.00, 3.1ms\n",
      "image 101/592 C:\\Users\\User\\OneDrive\\Documents\\Programming\\metal_cast_detection\\notebooks\\model_training\\datasets\\metal_casting\\test\\0_def_front\\cast_def_0_1547.jpeg: 224x224 Defect 1.00, OK 0.00, 3.6ms\n",
      "image 102/592 C:\\Users\\User\\OneDrive\\Documents\\Programming\\metal_cast_detection\\notebooks\\model_training\\datasets\\metal_casting\\test\\0_def_front\\cast_def_0_1553.jpeg: 224x224 Defect 1.00, OK 0.00, 3.9ms\n",
      "image 103/592 C:\\Users\\User\\OneDrive\\Documents\\Programming\\metal_cast_detection\\notebooks\\model_training\\datasets\\metal_casting\\test\\0_def_front\\cast_def_0_1555.jpeg: 224x224 Defect 1.00, OK 0.00, 4.0ms\n",
      "image 104/592 C:\\Users\\User\\OneDrive\\Documents\\Programming\\metal_cast_detection\\notebooks\\model_training\\datasets\\metal_casting\\test\\0_def_front\\cast_def_0_1556.jpeg: 224x224 Defect 1.00, OK 0.00, 4.0ms\n",
      "image 105/592 C:\\Users\\User\\OneDrive\\Documents\\Programming\\metal_cast_detection\\notebooks\\model_training\\datasets\\metal_casting\\test\\0_def_front\\cast_def_0_1560.jpeg: 224x224 Defect 1.00, OK 0.00, 3.4ms\n",
      "image 106/592 C:\\Users\\User\\OneDrive\\Documents\\Programming\\metal_cast_detection\\notebooks\\model_training\\datasets\\metal_casting\\test\\0_def_front\\cast_def_0_1565.jpeg: 224x224 Defect 1.00, OK 0.00, 3.0ms\n",
      "image 107/592 C:\\Users\\User\\OneDrive\\Documents\\Programming\\metal_cast_detection\\notebooks\\model_training\\datasets\\metal_casting\\test\\0_def_front\\cast_def_0_1567.jpeg: 224x224 Defect 1.00, OK 0.00, 3.4ms\n",
      "image 108/592 C:\\Users\\User\\OneDrive\\Documents\\Programming\\metal_cast_detection\\notebooks\\model_training\\datasets\\metal_casting\\test\\0_def_front\\cast_def_0_1568.jpeg: 224x224 Defect 1.00, OK 0.00, 3.3ms\n",
      "image 109/592 C:\\Users\\User\\OneDrive\\Documents\\Programming\\metal_cast_detection\\notebooks\\model_training\\datasets\\metal_casting\\test\\0_def_front\\cast_def_0_1569.jpeg: 224x224 Defect 1.00, OK 0.00, 3.4ms\n",
      "image 110/592 C:\\Users\\User\\OneDrive\\Documents\\Programming\\metal_cast_detection\\notebooks\\model_training\\datasets\\metal_casting\\test\\0_def_front\\cast_def_0_157.jpeg: 224x224 Defect 1.00, OK 0.00, 4.3ms\n",
      "image 111/592 C:\\Users\\User\\OneDrive\\Documents\\Programming\\metal_cast_detection\\notebooks\\model_training\\datasets\\metal_casting\\test\\0_def_front\\cast_def_0_1570.jpeg: 224x224 Defect 1.00, OK 0.00, 3.6ms\n",
      "image 112/592 C:\\Users\\User\\OneDrive\\Documents\\Programming\\metal_cast_detection\\notebooks\\model_training\\datasets\\metal_casting\\test\\0_def_front\\cast_def_0_1571.jpeg: 224x224 Defect 1.00, OK 0.00, 3.5ms\n",
      "image 113/592 C:\\Users\\User\\OneDrive\\Documents\\Programming\\metal_cast_detection\\notebooks\\model_training\\datasets\\metal_casting\\test\\0_def_front\\cast_def_0_1573.jpeg: 224x224 Defect 1.00, OK 0.00, 3.5ms\n",
      "image 114/592 C:\\Users\\User\\OneDrive\\Documents\\Programming\\metal_cast_detection\\notebooks\\model_training\\datasets\\metal_casting\\test\\0_def_front\\cast_def_0_1574.jpeg: 224x224 Defect 1.00, OK 0.00, 4.2ms\n",
      "image 115/592 C:\\Users\\User\\OneDrive\\Documents\\Programming\\metal_cast_detection\\notebooks\\model_training\\datasets\\metal_casting\\test\\0_def_front\\cast_def_0_1576.jpeg: 224x224 Defect 1.00, OK 0.00, 3.5ms\n",
      "image 116/592 C:\\Users\\User\\OneDrive\\Documents\\Programming\\metal_cast_detection\\notebooks\\model_training\\datasets\\metal_casting\\test\\0_def_front\\cast_def_0_158.jpeg: 224x224 Defect 1.00, OK 0.00, 4.1ms\n",
      "image 117/592 C:\\Users\\User\\OneDrive\\Documents\\Programming\\metal_cast_detection\\notebooks\\model_training\\datasets\\metal_casting\\test\\0_def_front\\cast_def_0_1583.jpeg: 224x224 Defect 1.00, OK 0.00, 3.5ms\n",
      "image 118/592 C:\\Users\\User\\OneDrive\\Documents\\Programming\\metal_cast_detection\\notebooks\\model_training\\datasets\\metal_casting\\test\\0_def_front\\cast_def_0_1585.jpeg: 224x224 Defect 1.00, OK 0.00, 3.4ms\n",
      "image 119/592 C:\\Users\\User\\OneDrive\\Documents\\Programming\\metal_cast_detection\\notebooks\\model_training\\datasets\\metal_casting\\test\\0_def_front\\cast_def_0_1586.jpeg: 224x224 Defect 1.00, OK 0.00, 3.6ms\n",
      "image 120/592 C:\\Users\\User\\OneDrive\\Documents\\Programming\\metal_cast_detection\\notebooks\\model_training\\datasets\\metal_casting\\test\\0_def_front\\cast_def_0_1589.jpeg: 224x224 Defect 1.00, OK 0.00, 3.0ms\n",
      "image 121/592 C:\\Users\\User\\OneDrive\\Documents\\Programming\\metal_cast_detection\\notebooks\\model_training\\datasets\\metal_casting\\test\\0_def_front\\cast_def_0_159.jpeg: 224x224 Defect 1.00, OK 0.00, 4.9ms\n",
      "image 122/592 C:\\Users\\User\\OneDrive\\Documents\\Programming\\metal_cast_detection\\notebooks\\model_training\\datasets\\metal_casting\\test\\0_def_front\\cast_def_0_1590.jpeg: 224x224 Defect 1.00, OK 0.00, 4.9ms\n",
      "image 123/592 C:\\Users\\User\\OneDrive\\Documents\\Programming\\metal_cast_detection\\notebooks\\model_training\\datasets\\metal_casting\\test\\0_def_front\\cast_def_0_1591.jpeg: 224x224 OK 0.58, Defect 0.42, 3.4ms\n",
      "image 124/592 C:\\Users\\User\\OneDrive\\Documents\\Programming\\metal_cast_detection\\notebooks\\model_training\\datasets\\metal_casting\\test\\0_def_front\\cast_def_0_1593.jpeg: 224x224 Defect 1.00, OK 0.00, 3.4ms\n",
      "image 125/592 C:\\Users\\User\\OneDrive\\Documents\\Programming\\metal_cast_detection\\notebooks\\model_training\\datasets\\metal_casting\\test\\0_def_front\\cast_def_0_1594.jpeg: 224x224 Defect 1.00, OK 0.00, 3.3ms\n",
      "image 126/592 C:\\Users\\User\\OneDrive\\Documents\\Programming\\metal_cast_detection\\notebooks\\model_training\\datasets\\metal_casting\\test\\0_def_front\\cast_def_0_1596.jpeg: 224x224 Defect 1.00, OK 0.00, 3.8ms\n",
      "image 127/592 C:\\Users\\User\\OneDrive\\Documents\\Programming\\metal_cast_detection\\notebooks\\model_training\\datasets\\metal_casting\\test\\0_def_front\\cast_def_0_1599.jpeg: 224x224 Defect 1.00, OK 0.00, 3.3ms\n",
      "image 128/592 C:\\Users\\User\\OneDrive\\Documents\\Programming\\metal_cast_detection\\notebooks\\model_training\\datasets\\metal_casting\\test\\0_def_front\\cast_def_0_160.jpeg: 224x224 Defect 1.00, OK 0.00, 4.1ms\n",
      "image 129/592 C:\\Users\\User\\OneDrive\\Documents\\Programming\\metal_cast_detection\\notebooks\\model_training\\datasets\\metal_casting\\test\\0_def_front\\cast_def_0_1603.jpeg: 224x224 Defect 1.00, OK 0.00, 3.6ms\n",
      "image 130/592 C:\\Users\\User\\OneDrive\\Documents\\Programming\\metal_cast_detection\\notebooks\\model_training\\datasets\\metal_casting\\test\\0_def_front\\cast_def_0_1607.jpeg: 224x224 Defect 1.00, OK 0.00, 3.6ms\n",
      "image 131/592 C:\\Users\\User\\OneDrive\\Documents\\Programming\\metal_cast_detection\\notebooks\\model_training\\datasets\\metal_casting\\test\\0_def_front\\cast_def_0_1608.jpeg: 224x224 Defect 1.00, OK 0.00, 4.0ms\n",
      "image 132/592 C:\\Users\\User\\OneDrive\\Documents\\Programming\\metal_cast_detection\\notebooks\\model_training\\datasets\\metal_casting\\test\\0_def_front\\cast_def_0_161.jpeg: 224x224 Defect 1.00, OK 0.00, 3.4ms\n",
      "image 133/592 C:\\Users\\User\\OneDrive\\Documents\\Programming\\metal_cast_detection\\notebooks\\model_training\\datasets\\metal_casting\\test\\0_def_front\\cast_def_0_1612.jpeg: 224x224 Defect 1.00, OK 0.00, 3.4ms\n",
      "image 134/592 C:\\Users\\User\\OneDrive\\Documents\\Programming\\metal_cast_detection\\notebooks\\model_training\\datasets\\metal_casting\\test\\0_def_front\\cast_def_0_1613.jpeg: 224x224 Defect 1.00, OK 0.00, 3.4ms\n",
      "image 135/592 C:\\Users\\User\\OneDrive\\Documents\\Programming\\metal_cast_detection\\notebooks\\model_training\\datasets\\metal_casting\\test\\0_def_front\\cast_def_0_1614.jpeg: 224x224 Defect 0.90, OK 0.10, 3.7ms\n",
      "image 136/592 C:\\Users\\User\\OneDrive\\Documents\\Programming\\metal_cast_detection\\notebooks\\model_training\\datasets\\metal_casting\\test\\0_def_front\\cast_def_0_1617.jpeg: 224x224 Defect 1.00, OK 0.00, 5.3ms\n",
      "image 137/592 C:\\Users\\User\\OneDrive\\Documents\\Programming\\metal_cast_detection\\notebooks\\model_training\\datasets\\metal_casting\\test\\0_def_front\\cast_def_0_1618.jpeg: 224x224 Defect 1.00, OK 0.00, 3.5ms\n",
      "image 138/592 C:\\Users\\User\\OneDrive\\Documents\\Programming\\metal_cast_detection\\notebooks\\model_training\\datasets\\metal_casting\\test\\0_def_front\\cast_def_0_162.jpeg: 224x224 Defect 1.00, OK 0.00, 3.9ms\n",
      "image 139/592 C:\\Users\\User\\OneDrive\\Documents\\Programming\\metal_cast_detection\\notebooks\\model_training\\datasets\\metal_casting\\test\\0_def_front\\cast_def_0_1620.jpeg: 224x224 Defect 1.00, OK 0.00, 3.5ms\n",
      "image 140/592 C:\\Users\\User\\OneDrive\\Documents\\Programming\\metal_cast_detection\\notebooks\\model_training\\datasets\\metal_casting\\test\\0_def_front\\cast_def_0_1625.jpeg: 224x224 Defect 1.00, OK 0.00, 3.6ms\n",
      "image 141/592 C:\\Users\\User\\OneDrive\\Documents\\Programming\\metal_cast_detection\\notebooks\\model_training\\datasets\\metal_casting\\test\\0_def_front\\cast_def_0_1628.jpeg: 224x224 Defect 1.00, OK 0.00, 3.5ms\n",
      "image 142/592 C:\\Users\\User\\OneDrive\\Documents\\Programming\\metal_cast_detection\\notebooks\\model_training\\datasets\\metal_casting\\test\\0_def_front\\cast_def_0_1629.jpeg: 224x224 Defect 1.00, OK 0.00, 3.4ms\n",
      "image 143/592 C:\\Users\\User\\OneDrive\\Documents\\Programming\\metal_cast_detection\\notebooks\\model_training\\datasets\\metal_casting\\test\\0_def_front\\cast_def_0_1633.jpeg: 224x224 Defect 1.00, OK 0.00, 3.5ms\n",
      "image 144/592 C:\\Users\\User\\OneDrive\\Documents\\Programming\\metal_cast_detection\\notebooks\\model_training\\datasets\\metal_casting\\test\\0_def_front\\cast_def_0_1634.jpeg: 224x224 Defect 1.00, OK 0.00, 3.4ms\n",
      "image 145/592 C:\\Users\\User\\OneDrive\\Documents\\Programming\\metal_cast_detection\\notebooks\\model_training\\datasets\\metal_casting\\test\\0_def_front\\cast_def_0_1635.jpeg: 224x224 Defect 1.00, OK 0.00, 3.3ms\n",
      "image 146/592 C:\\Users\\User\\OneDrive\\Documents\\Programming\\metal_cast_detection\\notebooks\\model_training\\datasets\\metal_casting\\test\\0_def_front\\cast_def_0_1636.jpeg: 224x224 Defect 1.00, OK 0.00, 4.2ms\n",
      "image 147/592 C:\\Users\\User\\OneDrive\\Documents\\Programming\\metal_cast_detection\\notebooks\\model_training\\datasets\\metal_casting\\test\\0_def_front\\cast_def_0_1637.jpeg: 224x224 Defect 1.00, OK 0.00, 3.4ms\n",
      "image 148/592 C:\\Users\\User\\OneDrive\\Documents\\Programming\\metal_cast_detection\\notebooks\\model_training\\datasets\\metal_casting\\test\\0_def_front\\cast_def_0_1638.jpeg: 224x224 Defect 1.00, OK 0.00, 4.4ms\n",
      "image 149/592 C:\\Users\\User\\OneDrive\\Documents\\Programming\\metal_cast_detection\\notebooks\\model_training\\datasets\\metal_casting\\test\\0_def_front\\cast_def_0_1639.jpeg: 224x224 Defect 1.00, OK 0.00, 3.1ms\n",
      "image 150/592 C:\\Users\\User\\OneDrive\\Documents\\Programming\\metal_cast_detection\\notebooks\\model_training\\datasets\\metal_casting\\test\\0_def_front\\cast_def_0_164.jpeg: 224x224 Defect 1.00, OK 0.00, 3.6ms\n",
      "image 151/592 C:\\Users\\User\\OneDrive\\Documents\\Programming\\metal_cast_detection\\notebooks\\model_training\\datasets\\metal_casting\\test\\0_def_front\\cast_def_0_1640.jpeg: 224x224 Defect 1.00, OK 0.00, 3.5ms\n",
      "image 152/592 C:\\Users\\User\\OneDrive\\Documents\\Programming\\metal_cast_detection\\notebooks\\model_training\\datasets\\metal_casting\\test\\0_def_front\\cast_def_0_1642.jpeg: 224x224 Defect 1.00, OK 0.00, 3.8ms\n",
      "image 153/592 C:\\Users\\User\\OneDrive\\Documents\\Programming\\metal_cast_detection\\notebooks\\model_training\\datasets\\metal_casting\\test\\0_def_front\\cast_def_0_1644.jpeg: 224x224 Defect 1.00, OK 0.00, 3.1ms\n",
      "image 154/592 C:\\Users\\User\\OneDrive\\Documents\\Programming\\metal_cast_detection\\notebooks\\model_training\\datasets\\metal_casting\\test\\0_def_front\\cast_def_0_1645.jpeg: 224x224 Defect 1.00, OK 0.00, 3.3ms\n",
      "image 155/592 C:\\Users\\User\\OneDrive\\Documents\\Programming\\metal_cast_detection\\notebooks\\model_training\\datasets\\metal_casting\\test\\0_def_front\\cast_def_0_1647.jpeg: 224x224 Defect 1.00, OK 0.00, 3.7ms\n",
      "image 156/592 C:\\Users\\User\\OneDrive\\Documents\\Programming\\metal_cast_detection\\notebooks\\model_training\\datasets\\metal_casting\\test\\0_def_front\\cast_def_0_1653.jpeg: 224x224 Defect 1.00, OK 0.00, 3.9ms\n",
      "image 157/592 C:\\Users\\User\\OneDrive\\Documents\\Programming\\metal_cast_detection\\notebooks\\model_training\\datasets\\metal_casting\\test\\0_def_front\\cast_def_0_1660.jpeg: 224x224 Defect 1.00, OK 0.00, 4.2ms\n",
      "image 158/592 C:\\Users\\User\\OneDrive\\Documents\\Programming\\metal_cast_detection\\notebooks\\model_training\\datasets\\metal_casting\\test\\0_def_front\\cast_def_0_1661.jpeg: 224x224 Defect 1.00, OK 0.00, 3.7ms\n",
      "image 159/592 C:\\Users\\User\\OneDrive\\Documents\\Programming\\metal_cast_detection\\notebooks\\model_training\\datasets\\metal_casting\\test\\0_def_front\\cast_def_0_1665.jpeg: 224x224 Defect 1.00, OK 0.00, 4.2ms\n",
      "image 160/592 C:\\Users\\User\\OneDrive\\Documents\\Programming\\metal_cast_detection\\notebooks\\model_training\\datasets\\metal_casting\\test\\0_def_front\\cast_def_0_1666.jpeg: 224x224 Defect 1.00, OK 0.00, 3.7ms\n",
      "image 161/592 C:\\Users\\User\\OneDrive\\Documents\\Programming\\metal_cast_detection\\notebooks\\model_training\\datasets\\metal_casting\\test\\0_def_front\\cast_def_0_1677.jpeg: 224x224 Defect 1.00, OK 0.00, 4.3ms\n",
      "image 162/592 C:\\Users\\User\\OneDrive\\Documents\\Programming\\metal_cast_detection\\notebooks\\model_training\\datasets\\metal_casting\\test\\0_def_front\\cast_def_0_1678.jpeg: 224x224 Defect 1.00, OK 0.00, 4.0ms\n",
      "image 163/592 C:\\Users\\User\\OneDrive\\Documents\\Programming\\metal_cast_detection\\notebooks\\model_training\\datasets\\metal_casting\\test\\0_def_front\\cast_def_0_1681.jpeg: 224x224 Defect 1.00, OK 0.00, 3.9ms\n",
      "image 164/592 C:\\Users\\User\\OneDrive\\Documents\\Programming\\metal_cast_detection\\notebooks\\model_training\\datasets\\metal_casting\\test\\0_def_front\\cast_def_0_1682.jpeg: 224x224 Defect 1.00, OK 0.00, 3.5ms\n",
      "image 165/592 C:\\Users\\User\\OneDrive\\Documents\\Programming\\metal_cast_detection\\notebooks\\model_training\\datasets\\metal_casting\\test\\0_def_front\\cast_def_0_1683.jpeg: 224x224 Defect 1.00, OK 0.00, 4.1ms\n",
      "image 166/592 C:\\Users\\User\\OneDrive\\Documents\\Programming\\metal_cast_detection\\notebooks\\model_training\\datasets\\metal_casting\\test\\0_def_front\\cast_def_0_1684.jpeg: 224x224 Defect 1.00, OK 0.00, 3.7ms\n",
      "image 167/592 C:\\Users\\User\\OneDrive\\Documents\\Programming\\metal_cast_detection\\notebooks\\model_training\\datasets\\metal_casting\\test\\0_def_front\\cast_def_0_1685.jpeg: 224x224 Defect 1.00, OK 0.00, 3.5ms\n",
      "image 168/592 C:\\Users\\User\\OneDrive\\Documents\\Programming\\metal_cast_detection\\notebooks\\model_training\\datasets\\metal_casting\\test\\0_def_front\\cast_def_0_1686.jpeg: 224x224 Defect 1.00, OK 0.00, 3.9ms\n",
      "image 169/592 C:\\Users\\User\\OneDrive\\Documents\\Programming\\metal_cast_detection\\notebooks\\model_training\\datasets\\metal_casting\\test\\0_def_front\\cast_def_0_1688.jpeg: 224x224 Defect 1.00, OK 0.00, 3.6ms\n",
      "image 170/592 C:\\Users\\User\\OneDrive\\Documents\\Programming\\metal_cast_detection\\notebooks\\model_training\\datasets\\metal_casting\\test\\0_def_front\\cast_def_0_1707.jpeg: 224x224 Defect 1.00, OK 0.00, 3.7ms\n",
      "image 171/592 C:\\Users\\User\\OneDrive\\Documents\\Programming\\metal_cast_detection\\notebooks\\model_training\\datasets\\metal_casting\\test\\0_def_front\\cast_def_0_1709.jpeg: 224x224 Defect 1.00, OK 0.00, 3.5ms\n",
      "image 172/592 C:\\Users\\User\\OneDrive\\Documents\\Programming\\metal_cast_detection\\notebooks\\model_training\\datasets\\metal_casting\\test\\0_def_front\\cast_def_0_1710.jpeg: 224x224 Defect 1.00, OK 0.00, 3.9ms\n",
      "image 173/592 C:\\Users\\User\\OneDrive\\Documents\\Programming\\metal_cast_detection\\notebooks\\model_training\\datasets\\metal_casting\\test\\0_def_front\\cast_def_0_1711.jpeg: 224x224 Defect 1.00, OK 0.00, 3.3ms\n",
      "image 174/592 C:\\Users\\User\\OneDrive\\Documents\\Programming\\metal_cast_detection\\notebooks\\model_training\\datasets\\metal_casting\\test\\0_def_front\\cast_def_0_1713.jpeg: 224x224 Defect 1.00, OK 0.00, 3.0ms\n",
      "image 175/592 C:\\Users\\User\\OneDrive\\Documents\\Programming\\metal_cast_detection\\notebooks\\model_training\\datasets\\metal_casting\\test\\0_def_front\\cast_def_0_1717.jpeg: 224x224 Defect 1.00, OK 0.00, 3.6ms\n",
      "image 176/592 C:\\Users\\User\\OneDrive\\Documents\\Programming\\metal_cast_detection\\notebooks\\model_training\\datasets\\metal_casting\\test\\0_def_front\\cast_def_0_1720.jpeg: 224x224 Defect 1.00, OK 0.00, 4.9ms\n",
      "image 177/592 C:\\Users\\User\\OneDrive\\Documents\\Programming\\metal_cast_detection\\notebooks\\model_training\\datasets\\metal_casting\\test\\0_def_front\\cast_def_0_1723.jpeg: 224x224 Defect 1.00, OK 0.00, 5.6ms\n",
      "image 178/592 C:\\Users\\User\\OneDrive\\Documents\\Programming\\metal_cast_detection\\notebooks\\model_training\\datasets\\metal_casting\\test\\0_def_front\\cast_def_0_1727.jpeg: 224x224 Defect 1.00, OK 0.00, 4.3ms\n",
      "image 179/592 C:\\Users\\User\\OneDrive\\Documents\\Programming\\metal_cast_detection\\notebooks\\model_training\\datasets\\metal_casting\\test\\0_def_front\\cast_def_0_1728.jpeg: 224x224 Defect 1.00, OK 0.00, 5.8ms\n",
      "image 180/592 C:\\Users\\User\\OneDrive\\Documents\\Programming\\metal_cast_detection\\notebooks\\model_training\\datasets\\metal_casting\\test\\0_def_front\\cast_def_0_1731.jpeg: 224x224 Defect 1.00, OK 0.00, 3.9ms\n",
      "image 181/592 C:\\Users\\User\\OneDrive\\Documents\\Programming\\metal_cast_detection\\notebooks\\model_training\\datasets\\metal_casting\\test\\0_def_front\\cast_def_0_1733.jpeg: 224x224 Defect 1.00, OK 0.00, 3.4ms\n",
      "image 182/592 C:\\Users\\User\\OneDrive\\Documents\\Programming\\metal_cast_detection\\notebooks\\model_training\\datasets\\metal_casting\\test\\0_def_front\\cast_def_0_1734.jpeg: 224x224 Defect 1.00, OK 0.00, 4.0ms\n",
      "image 183/592 C:\\Users\\User\\OneDrive\\Documents\\Programming\\metal_cast_detection\\notebooks\\model_training\\datasets\\metal_casting\\test\\0_def_front\\cast_def_0_1737.jpeg: 224x224 Defect 1.00, OK 0.00, 3.7ms\n",
      "image 184/592 C:\\Users\\User\\OneDrive\\Documents\\Programming\\metal_cast_detection\\notebooks\\model_training\\datasets\\metal_casting\\test\\0_def_front\\cast_def_0_1738.jpeg: 224x224 Defect 1.00, OK 0.00, 4.4ms\n",
      "image 185/592 C:\\Users\\User\\OneDrive\\Documents\\Programming\\metal_cast_detection\\notebooks\\model_training\\datasets\\metal_casting\\test\\0_def_front\\cast_def_0_174.jpeg: 224x224 Defect 1.00, OK 0.00, 3.9ms\n",
      "image 186/592 C:\\Users\\User\\OneDrive\\Documents\\Programming\\metal_cast_detection\\notebooks\\model_training\\datasets\\metal_casting\\test\\0_def_front\\cast_def_0_1745.jpeg: 224x224 Defect 1.00, OK 0.00, 3.7ms\n",
      "image 187/592 C:\\Users\\User\\OneDrive\\Documents\\Programming\\metal_cast_detection\\notebooks\\model_training\\datasets\\metal_casting\\test\\0_def_front\\cast_def_0_175.jpeg: 224x224 Defect 1.00, OK 0.00, 4.3ms\n",
      "image 188/592 C:\\Users\\User\\OneDrive\\Documents\\Programming\\metal_cast_detection\\notebooks\\model_training\\datasets\\metal_casting\\test\\0_def_front\\cast_def_0_1750.jpeg: 224x224 Defect 1.00, OK 0.00, 4.6ms\n",
      "image 189/592 C:\\Users\\User\\OneDrive\\Documents\\Programming\\metal_cast_detection\\notebooks\\model_training\\datasets\\metal_casting\\test\\0_def_front\\cast_def_0_1752.jpeg: 224x224 Defect 1.00, OK 0.00, 5.0ms\n",
      "image 190/592 C:\\Users\\User\\OneDrive\\Documents\\Programming\\metal_cast_detection\\notebooks\\model_training\\datasets\\metal_casting\\test\\0_def_front\\cast_def_0_1754.jpeg: 224x224 Defect 1.00, OK 0.00, 4.4ms\n",
      "image 191/592 C:\\Users\\User\\OneDrive\\Documents\\Programming\\metal_cast_detection\\notebooks\\model_training\\datasets\\metal_casting\\test\\0_def_front\\cast_def_0_176.jpeg: 224x224 Defect 1.00, OK 0.00, 4.4ms\n",
      "image 192/592 C:\\Users\\User\\OneDrive\\Documents\\Programming\\metal_cast_detection\\notebooks\\model_training\\datasets\\metal_casting\\test\\0_def_front\\cast_def_0_1761.jpeg: 224x224 Defect 1.00, OK 0.00, 3.9ms\n",
      "image 193/592 C:\\Users\\User\\OneDrive\\Documents\\Programming\\metal_cast_detection\\notebooks\\model_training\\datasets\\metal_casting\\test\\0_def_front\\cast_def_0_1762.jpeg: 224x224 Defect 1.00, OK 0.00, 5.3ms\n",
      "image 194/592 C:\\Users\\User\\OneDrive\\Documents\\Programming\\metal_cast_detection\\notebooks\\model_training\\datasets\\metal_casting\\test\\0_def_front\\cast_def_0_1763.jpeg: 224x224 Defect 1.00, OK 0.00, 4.6ms\n",
      "image 195/592 C:\\Users\\User\\OneDrive\\Documents\\Programming\\metal_cast_detection\\notebooks\\model_training\\datasets\\metal_casting\\test\\0_def_front\\cast_def_0_1768.jpeg: 224x224 Defect 1.00, OK 0.00, 5.5ms\n",
      "image 196/592 C:\\Users\\User\\OneDrive\\Documents\\Programming\\metal_cast_detection\\notebooks\\model_training\\datasets\\metal_casting\\test\\0_def_front\\cast_def_0_1770.jpeg: 224x224 Defect 1.00, OK 0.00, 3.6ms\n",
      "image 197/592 C:\\Users\\User\\OneDrive\\Documents\\Programming\\metal_cast_detection\\notebooks\\model_training\\datasets\\metal_casting\\test\\0_def_front\\cast_def_0_1771.jpeg: 224x224 Defect 1.00, OK 0.00, 5.1ms\n",
      "image 198/592 C:\\Users\\User\\OneDrive\\Documents\\Programming\\metal_cast_detection\\notebooks\\model_training\\datasets\\metal_casting\\test\\0_def_front\\cast_def_0_1775.jpeg: 224x224 Defect 1.00, OK 0.00, 5.5ms\n",
      "image 199/592 C:\\Users\\User\\OneDrive\\Documents\\Programming\\metal_cast_detection\\notebooks\\model_training\\datasets\\metal_casting\\test\\0_def_front\\cast_def_0_1776.jpeg: 224x224 Defect 1.00, OK 0.00, 5.1ms\n",
      "image 200/592 C:\\Users\\User\\OneDrive\\Documents\\Programming\\metal_cast_detection\\notebooks\\model_training\\datasets\\metal_casting\\test\\0_def_front\\cast_def_0_1778.jpeg: 224x224 Defect 1.00, OK 0.00, 5.6ms\n",
      "image 201/592 C:\\Users\\User\\OneDrive\\Documents\\Programming\\metal_cast_detection\\notebooks\\model_training\\datasets\\metal_casting\\test\\0_def_front\\cast_def_0_1781.jpeg: 224x224 Defect 1.00, OK 0.00, 5.1ms\n",
      "image 202/592 C:\\Users\\User\\OneDrive\\Documents\\Programming\\metal_cast_detection\\notebooks\\model_training\\datasets\\metal_casting\\test\\0_def_front\\cast_def_0_1782.jpeg: 224x224 Defect 1.00, OK 0.00, 10.5ms\n",
      "image 203/592 C:\\Users\\User\\OneDrive\\Documents\\Programming\\metal_cast_detection\\notebooks\\model_training\\datasets\\metal_casting\\test\\0_def_front\\cast_def_0_1784.jpeg: 224x224 Defect 1.00, OK 0.00, 10.8ms\n",
      "image 204/592 C:\\Users\\User\\OneDrive\\Documents\\Programming\\metal_cast_detection\\notebooks\\model_training\\datasets\\metal_casting\\test\\0_def_front\\cast_def_0_1785.jpeg: 224x224 Defect 1.00, OK 0.00, 4.9ms\n",
      "image 205/592 C:\\Users\\User\\OneDrive\\Documents\\Programming\\metal_cast_detection\\notebooks\\model_training\\datasets\\metal_casting\\test\\0_def_front\\cast_def_0_1786.jpeg: 224x224 Defect 1.00, OK 0.00, 7.8ms\n",
      "image 206/592 C:\\Users\\User\\OneDrive\\Documents\\Programming\\metal_cast_detection\\notebooks\\model_training\\datasets\\metal_casting\\test\\0_def_front\\cast_def_0_1791.jpeg: 224x224 Defect 1.00, OK 0.00, 6.1ms\n",
      "image 207/592 C:\\Users\\User\\OneDrive\\Documents\\Programming\\metal_cast_detection\\notebooks\\model_training\\datasets\\metal_casting\\test\\0_def_front\\cast_def_0_1794.jpeg: 224x224 Defect 1.00, OK 0.00, 5.8ms\n",
      "image 208/592 C:\\Users\\User\\OneDrive\\Documents\\Programming\\metal_cast_detection\\notebooks\\model_training\\datasets\\metal_casting\\test\\0_def_front\\cast_def_0_1797.jpeg: 224x224 Defect 1.00, OK 0.00, 5.2ms\n",
      "image 209/592 C:\\Users\\User\\OneDrive\\Documents\\Programming\\metal_cast_detection\\notebooks\\model_training\\datasets\\metal_casting\\test\\0_def_front\\cast_def_0_1799.jpeg: 224x224 Defect 1.00, OK 0.00, 4.0ms\n",
      "image 210/592 C:\\Users\\User\\OneDrive\\Documents\\Programming\\metal_cast_detection\\notebooks\\model_training\\datasets\\metal_casting\\test\\0_def_front\\cast_def_0_1800.jpeg: 224x224 Defect 1.00, OK 0.00, 3.5ms\n",
      "image 211/592 C:\\Users\\User\\OneDrive\\Documents\\Programming\\metal_cast_detection\\notebooks\\model_training\\datasets\\metal_casting\\test\\0_def_front\\cast_def_0_1801.jpeg: 224x224 Defect 1.00, OK 0.00, 4.2ms\n",
      "image 212/592 C:\\Users\\User\\OneDrive\\Documents\\Programming\\metal_cast_detection\\notebooks\\model_training\\datasets\\metal_casting\\test\\0_def_front\\cast_def_0_1804.jpeg: 224x224 Defect 1.00, OK 0.00, 4.4ms\n",
      "image 213/592 C:\\Users\\User\\OneDrive\\Documents\\Programming\\metal_cast_detection\\notebooks\\model_training\\datasets\\metal_casting\\test\\0_def_front\\cast_def_0_1807.jpeg: 224x224 Defect 1.00, OK 0.00, 4.3ms\n",
      "image 214/592 C:\\Users\\User\\OneDrive\\Documents\\Programming\\metal_cast_detection\\notebooks\\model_training\\datasets\\metal_casting\\test\\0_def_front\\cast_def_0_181.jpeg: 224x224 Defect 1.00, OK 0.00, 3.9ms\n",
      "image 215/592 C:\\Users\\User\\OneDrive\\Documents\\Programming\\metal_cast_detection\\notebooks\\model_training\\datasets\\metal_casting\\test\\0_def_front\\cast_def_0_1810.jpeg: 224x224 Defect 1.00, OK 0.00, 4.5ms\n",
      "image 216/592 C:\\Users\\User\\OneDrive\\Documents\\Programming\\metal_cast_detection\\notebooks\\model_training\\datasets\\metal_casting\\test\\0_def_front\\cast_def_0_1811.jpeg: 224x224 Defect 1.00, OK 0.00, 5.0ms\n",
      "image 217/592 C:\\Users\\User\\OneDrive\\Documents\\Programming\\metal_cast_detection\\notebooks\\model_training\\datasets\\metal_casting\\test\\0_def_front\\cast_def_0_1815.jpeg: 224x224 Defect 1.00, OK 0.00, 5.4ms\n",
      "image 218/592 C:\\Users\\User\\OneDrive\\Documents\\Programming\\metal_cast_detection\\notebooks\\model_training\\datasets\\metal_casting\\test\\0_def_front\\cast_def_0_1816.jpeg: 224x224 Defect 1.00, OK 0.00, 4.1ms\n",
      "image 219/592 C:\\Users\\User\\OneDrive\\Documents\\Programming\\metal_cast_detection\\notebooks\\model_training\\datasets\\metal_casting\\test\\0_def_front\\cast_def_0_1817.jpeg: 224x224 Defect 1.00, OK 0.00, 3.8ms\n",
      "image 220/592 C:\\Users\\User\\OneDrive\\Documents\\Programming\\metal_cast_detection\\notebooks\\model_training\\datasets\\metal_casting\\test\\0_def_front\\cast_def_0_182.jpeg: 224x224 Defect 1.00, OK 0.00, 2.9ms\n",
      "image 221/592 C:\\Users\\User\\OneDrive\\Documents\\Programming\\metal_cast_detection\\notebooks\\model_training\\datasets\\metal_casting\\test\\0_def_front\\cast_def_0_1825.jpeg: 224x224 Defect 1.00, OK 0.00, 4.2ms\n",
      "image 222/592 C:\\Users\\User\\OneDrive\\Documents\\Programming\\metal_cast_detection\\notebooks\\model_training\\datasets\\metal_casting\\test\\0_def_front\\cast_def_0_1827.jpeg: 224x224 Defect 1.00, OK 0.00, 3.1ms\n",
      "image 223/592 C:\\Users\\User\\OneDrive\\Documents\\Programming\\metal_cast_detection\\notebooks\\model_training\\datasets\\metal_casting\\test\\0_def_front\\cast_def_0_1828.jpeg: 224x224 Defect 1.00, OK 0.00, 3.7ms\n",
      "image 224/592 C:\\Users\\User\\OneDrive\\Documents\\Programming\\metal_cast_detection\\notebooks\\model_training\\datasets\\metal_casting\\test\\0_def_front\\cast_def_0_1831.jpeg: 224x224 Defect 1.00, OK 0.00, 3.6ms\n",
      "image 225/592 C:\\Users\\User\\OneDrive\\Documents\\Programming\\metal_cast_detection\\notebooks\\model_training\\datasets\\metal_casting\\test\\0_def_front\\cast_def_0_1832.jpeg: 224x224 Defect 1.00, OK 0.00, 4.9ms\n",
      "image 226/592 C:\\Users\\User\\OneDrive\\Documents\\Programming\\metal_cast_detection\\notebooks\\model_training\\datasets\\metal_casting\\test\\0_def_front\\cast_def_0_1833.jpeg: 224x224 Defect 1.00, OK 0.00, 3.5ms\n",
      "image 227/592 C:\\Users\\User\\OneDrive\\Documents\\Programming\\metal_cast_detection\\notebooks\\model_training\\datasets\\metal_casting\\test\\0_def_front\\cast_def_0_1834.jpeg: 224x224 Defect 1.00, OK 0.00, 3.0ms\n",
      "image 228/592 C:\\Users\\User\\OneDrive\\Documents\\Programming\\metal_cast_detection\\notebooks\\model_training\\datasets\\metal_casting\\test\\0_def_front\\cast_def_0_1836.jpeg: 224x224 Defect 1.00, OK 0.00, 4.0ms\n",
      "image 229/592 C:\\Users\\User\\OneDrive\\Documents\\Programming\\metal_cast_detection\\notebooks\\model_training\\datasets\\metal_casting\\test\\0_def_front\\cast_def_0_184.jpeg: 224x224 Defect 1.00, OK 0.00, 3.6ms\n",
      "image 230/592 C:\\Users\\User\\OneDrive\\Documents\\Programming\\metal_cast_detection\\notebooks\\model_training\\datasets\\metal_casting\\test\\0_def_front\\cast_def_0_1840.jpeg: 224x224 Defect 1.00, OK 0.00, 3.2ms\n",
      "image 231/592 C:\\Users\\User\\OneDrive\\Documents\\Programming\\metal_cast_detection\\notebooks\\model_training\\datasets\\metal_casting\\test\\0_def_front\\cast_def_0_1842.jpeg: 224x224 Defect 1.00, OK 0.00, 3.3ms\n",
      "image 232/592 C:\\Users\\User\\OneDrive\\Documents\\Programming\\metal_cast_detection\\notebooks\\model_training\\datasets\\metal_casting\\test\\0_def_front\\cast_def_0_1844.jpeg: 224x224 Defect 1.00, OK 0.00, 3.3ms\n",
      "image 233/592 C:\\Users\\User\\OneDrive\\Documents\\Programming\\metal_cast_detection\\notebooks\\model_training\\datasets\\metal_casting\\test\\0_def_front\\cast_def_0_1847.jpeg: 224x224 Defect 1.00, OK 0.00, 3.7ms\n",
      "image 234/592 C:\\Users\\User\\OneDrive\\Documents\\Programming\\metal_cast_detection\\notebooks\\model_training\\datasets\\metal_casting\\test\\0_def_front\\cast_def_0_1850.jpeg: 224x224 Defect 1.00, OK 0.00, 4.3ms\n",
      "image 235/592 C:\\Users\\User\\OneDrive\\Documents\\Programming\\metal_cast_detection\\notebooks\\model_training\\datasets\\metal_casting\\test\\0_def_front\\cast_def_0_1852.jpeg: 224x224 Defect 1.00, OK 0.00, 4.7ms\n",
      "image 236/592 C:\\Users\\User\\OneDrive\\Documents\\Programming\\metal_cast_detection\\notebooks\\model_training\\datasets\\metal_casting\\test\\0_def_front\\cast_def_0_1853.jpeg: 224x224 Defect 1.00, OK 0.00, 3.3ms\n",
      "image 237/592 C:\\Users\\User\\OneDrive\\Documents\\Programming\\metal_cast_detection\\notebooks\\model_training\\datasets\\metal_casting\\test\\0_def_front\\cast_def_0_1856.jpeg: 224x224 Defect 1.00, OK 0.00, 3.6ms\n",
      "image 238/592 C:\\Users\\User\\OneDrive\\Documents\\Programming\\metal_cast_detection\\notebooks\\model_training\\datasets\\metal_casting\\test\\0_def_front\\cast_def_0_1858.jpeg: 224x224 Defect 1.00, OK 0.00, 4.6ms\n",
      "image 239/592 C:\\Users\\User\\OneDrive\\Documents\\Programming\\metal_cast_detection\\notebooks\\model_training\\datasets\\metal_casting\\test\\0_def_front\\cast_def_0_186.jpeg: 224x224 Defect 1.00, OK 0.00, 2.9ms\n",
      "image 240/592 C:\\Users\\User\\OneDrive\\Documents\\Programming\\metal_cast_detection\\notebooks\\model_training\\datasets\\metal_casting\\test\\0_def_front\\cast_def_0_1860.jpeg: 224x224 Defect 1.00, OK 0.00, 3.8ms\n",
      "image 241/592 C:\\Users\\User\\OneDrive\\Documents\\Programming\\metal_cast_detection\\notebooks\\model_training\\datasets\\metal_casting\\test\\0_def_front\\cast_def_0_1861.jpeg: 224x224 Defect 1.00, OK 0.00, 3.5ms\n",
      "image 242/592 C:\\Users\\User\\OneDrive\\Documents\\Programming\\metal_cast_detection\\notebooks\\model_training\\datasets\\metal_casting\\test\\0_def_front\\cast_def_0_1862.jpeg: 224x224 Defect 1.00, OK 0.00, 3.8ms\n",
      "image 243/592 C:\\Users\\User\\OneDrive\\Documents\\Programming\\metal_cast_detection\\notebooks\\model_training\\datasets\\metal_casting\\test\\0_def_front\\cast_def_0_1863.jpeg: 224x224 Defect 1.00, OK 0.00, 3.9ms\n",
      "image 244/592 C:\\Users\\User\\OneDrive\\Documents\\Programming\\metal_cast_detection\\notebooks\\model_training\\datasets\\metal_casting\\test\\0_def_front\\cast_def_0_1866.jpeg: 224x224 Defect 1.00, OK 0.00, 3.4ms\n",
      "image 245/592 C:\\Users\\User\\OneDrive\\Documents\\Programming\\metal_cast_detection\\notebooks\\model_training\\datasets\\metal_casting\\test\\0_def_front\\cast_def_0_1868.jpeg: 224x224 Defect 1.00, OK 0.00, 4.1ms\n",
      "image 246/592 C:\\Users\\User\\OneDrive\\Documents\\Programming\\metal_cast_detection\\notebooks\\model_training\\datasets\\metal_casting\\test\\0_def_front\\cast_def_0_1870.jpeg: 224x224 Defect 1.00, OK 0.00, 3.7ms\n",
      "image 247/592 C:\\Users\\User\\OneDrive\\Documents\\Programming\\metal_cast_detection\\notebooks\\model_training\\datasets\\metal_casting\\test\\0_def_front\\cast_def_0_1881.jpeg: 224x224 Defect 1.00, OK 0.00, 4.7ms\n",
      "image 248/592 C:\\Users\\User\\OneDrive\\Documents\\Programming\\metal_cast_detection\\notebooks\\model_training\\datasets\\metal_casting\\test\\0_def_front\\cast_def_0_1883.jpeg: 224x224 Defect 1.00, OK 0.00, 3.5ms\n",
      "image 249/592 C:\\Users\\User\\OneDrive\\Documents\\Programming\\metal_cast_detection\\notebooks\\model_training\\datasets\\metal_casting\\test\\0_def_front\\cast_def_0_1884.jpeg: 224x224 Defect 1.00, OK 0.00, 4.6ms\n",
      "image 250/592 C:\\Users\\User\\OneDrive\\Documents\\Programming\\metal_cast_detection\\notebooks\\model_training\\datasets\\metal_casting\\test\\0_def_front\\cast_def_0_1886.jpeg: 224x224 Defect 1.00, OK 0.00, 4.0ms\n",
      "image 251/592 C:\\Users\\User\\OneDrive\\Documents\\Programming\\metal_cast_detection\\notebooks\\model_training\\datasets\\metal_casting\\test\\0_def_front\\cast_def_0_1887.jpeg: 224x224 Defect 1.00, OK 0.00, 4.2ms\n",
      "image 252/592 C:\\Users\\User\\OneDrive\\Documents\\Programming\\metal_cast_detection\\notebooks\\model_training\\datasets\\metal_casting\\test\\0_def_front\\cast_def_0_1891.jpeg: 224x224 Defect 1.00, OK 0.00, 5.4ms\n",
      "image 253/592 C:\\Users\\User\\OneDrive\\Documents\\Programming\\metal_cast_detection\\notebooks\\model_training\\datasets\\metal_casting\\test\\0_def_front\\cast_def_0_1892.jpeg: 224x224 Defect 1.00, OK 0.00, 3.0ms\n",
      "image 254/592 C:\\Users\\User\\OneDrive\\Documents\\Programming\\metal_cast_detection\\notebooks\\model_training\\datasets\\metal_casting\\test\\0_def_front\\cast_def_0_1895.jpeg: 224x224 Defect 1.00, OK 0.00, 3.2ms\n",
      "image 255/592 C:\\Users\\User\\OneDrive\\Documents\\Programming\\metal_cast_detection\\notebooks\\model_training\\datasets\\metal_casting\\test\\0_def_front\\cast_def_0_1896.jpeg: 224x224 Defect 1.00, OK 0.00, 4.2ms\n",
      "image 256/592 C:\\Users\\User\\OneDrive\\Documents\\Programming\\metal_cast_detection\\notebooks\\model_training\\datasets\\metal_casting\\test\\0_def_front\\cast_def_0_1899.jpeg: 224x224 Defect 1.00, OK 0.00, 3.6ms\n",
      "image 257/592 C:\\Users\\User\\OneDrive\\Documents\\Programming\\metal_cast_detection\\notebooks\\model_training\\datasets\\metal_casting\\test\\0_def_front\\cast_def_0_190.jpeg: 224x224 Defect 1.00, OK 0.00, 3.5ms\n",
      "image 258/592 C:\\Users\\User\\OneDrive\\Documents\\Programming\\metal_cast_detection\\notebooks\\model_training\\datasets\\metal_casting\\test\\0_def_front\\cast_def_0_1903.jpeg: 224x224 Defect 1.00, OK 0.00, 3.8ms\n",
      "image 259/592 C:\\Users\\User\\OneDrive\\Documents\\Programming\\metal_cast_detection\\notebooks\\model_training\\datasets\\metal_casting\\test\\0_def_front\\cast_def_0_1906.jpeg: 224x224 Defect 1.00, OK 0.00, 3.4ms\n",
      "image 260/592 C:\\Users\\User\\OneDrive\\Documents\\Programming\\metal_cast_detection\\notebooks\\model_training\\datasets\\metal_casting\\test\\0_def_front\\cast_def_0_1907.jpeg: 224x224 Defect 1.00, OK 0.00, 3.2ms\n",
      "image 261/592 C:\\Users\\User\\OneDrive\\Documents\\Programming\\metal_cast_detection\\notebooks\\model_training\\datasets\\metal_casting\\test\\0_def_front\\cast_def_0_1909.jpeg: 224x224 Defect 1.00, OK 0.00, 2.9ms\n",
      "image 262/592 C:\\Users\\User\\OneDrive\\Documents\\Programming\\metal_cast_detection\\notebooks\\model_training\\datasets\\metal_casting\\test\\0_def_front\\cast_def_0_1912.jpeg: 224x224 Defect 1.00, OK 0.00, 4.2ms\n",
      "image 263/592 C:\\Users\\User\\OneDrive\\Documents\\Programming\\metal_cast_detection\\notebooks\\model_training\\datasets\\metal_casting\\test\\0_def_front\\cast_def_0_1915.jpeg: 224x224 Defect 1.00, OK 0.00, 3.9ms\n",
      "image 264/592 C:\\Users\\User\\OneDrive\\Documents\\Programming\\metal_cast_detection\\notebooks\\model_training\\datasets\\metal_casting\\test\\0_def_front\\cast_def_0_1918.jpeg: 224x224 Defect 1.00, OK 0.00, 3.6ms\n",
      "image 265/592 C:\\Users\\User\\OneDrive\\Documents\\Programming\\metal_cast_detection\\notebooks\\model_training\\datasets\\metal_casting\\test\\0_def_front\\cast_def_0_1919.jpeg: 224x224 Defect 1.00, OK 0.00, 3.3ms\n",
      "image 266/592 C:\\Users\\User\\OneDrive\\Documents\\Programming\\metal_cast_detection\\notebooks\\model_training\\datasets\\metal_casting\\test\\0_def_front\\cast_def_0_1920.jpeg: 224x224 Defect 1.00, OK 0.00, 3.0ms\n",
      "image 267/592 C:\\Users\\User\\OneDrive\\Documents\\Programming\\metal_cast_detection\\notebooks\\model_training\\datasets\\metal_casting\\test\\0_def_front\\cast_def_0_1921.jpeg: 224x224 Defect 1.00, OK 0.00, 3.6ms\n",
      "image 268/592 C:\\Users\\User\\OneDrive\\Documents\\Programming\\metal_cast_detection\\notebooks\\model_training\\datasets\\metal_casting\\test\\0_def_front\\cast_def_0_1922.jpeg: 224x224 Defect 1.00, OK 0.00, 3.4ms\n",
      "image 269/592 C:\\Users\\User\\OneDrive\\Documents\\Programming\\metal_cast_detection\\notebooks\\model_training\\datasets\\metal_casting\\test\\0_def_front\\cast_def_0_1926.jpeg: 224x224 Defect 1.00, OK 0.00, 3.3ms\n",
      "image 270/592 C:\\Users\\User\\OneDrive\\Documents\\Programming\\metal_cast_detection\\notebooks\\model_training\\datasets\\metal_casting\\test\\0_def_front\\cast_def_0_1928.jpeg: 224x224 Defect 1.00, OK 0.00, 3.4ms\n",
      "image 271/592 C:\\Users\\User\\OneDrive\\Documents\\Programming\\metal_cast_detection\\notebooks\\model_training\\datasets\\metal_casting\\test\\0_def_front\\cast_def_0_193.jpeg: 224x224 Defect 1.00, OK 0.00, 3.5ms\n",
      "image 272/592 C:\\Users\\User\\OneDrive\\Documents\\Programming\\metal_cast_detection\\notebooks\\model_training\\datasets\\metal_casting\\test\\0_def_front\\cast_def_0_1931.jpeg: 224x224 Defect 1.00, OK 0.00, 4.2ms\n",
      "image 273/592 C:\\Users\\User\\OneDrive\\Documents\\Programming\\metal_cast_detection\\notebooks\\model_training\\datasets\\metal_casting\\test\\0_def_front\\cast_def_0_1935.jpeg: 224x224 Defect 1.00, OK 0.00, 3.6ms\n",
      "image 274/592 C:\\Users\\User\\OneDrive\\Documents\\Programming\\metal_cast_detection\\notebooks\\model_training\\datasets\\metal_casting\\test\\0_def_front\\cast_def_0_1939.jpeg: 224x224 Defect 1.00, OK 0.00, 4.1ms\n",
      "image 275/592 C:\\Users\\User\\OneDrive\\Documents\\Programming\\metal_cast_detection\\notebooks\\model_training\\datasets\\metal_casting\\test\\0_def_front\\cast_def_0_1946.jpeg: 224x224 Defect 1.00, OK 0.00, 3.3ms\n",
      "image 276/592 C:\\Users\\User\\OneDrive\\Documents\\Programming\\metal_cast_detection\\notebooks\\model_training\\datasets\\metal_casting\\test\\0_def_front\\cast_def_0_1948.jpeg: 224x224 Defect 1.00, OK 0.00, 3.4ms\n",
      "image 277/592 C:\\Users\\User\\OneDrive\\Documents\\Programming\\metal_cast_detection\\notebooks\\model_training\\datasets\\metal_casting\\test\\0_def_front\\cast_def_0_1950.jpeg: 224x224 Defect 1.00, OK 0.00, 3.6ms\n",
      "image 278/592 C:\\Users\\User\\OneDrive\\Documents\\Programming\\metal_cast_detection\\notebooks\\model_training\\datasets\\metal_casting\\test\\0_def_front\\cast_def_0_1951.jpeg: 224x224 Defect 1.00, OK 0.00, 3.4ms\n",
      "image 279/592 C:\\Users\\User\\OneDrive\\Documents\\Programming\\metal_cast_detection\\notebooks\\model_training\\datasets\\metal_casting\\test\\0_def_front\\cast_def_0_1953.jpeg: 224x224 Defect 1.00, OK 0.00, 4.0ms\n",
      "image 280/592 C:\\Users\\User\\OneDrive\\Documents\\Programming\\metal_cast_detection\\notebooks\\model_training\\datasets\\metal_casting\\test\\0_def_front\\cast_def_0_1954.jpeg: 224x224 Defect 1.00, OK 0.00, 3.9ms\n",
      "image 281/592 C:\\Users\\User\\OneDrive\\Documents\\Programming\\metal_cast_detection\\notebooks\\model_training\\datasets\\metal_casting\\test\\0_def_front\\cast_def_0_1960.jpeg: 224x224 Defect 1.00, OK 0.00, 3.4ms\n",
      "image 282/592 C:\\Users\\User\\OneDrive\\Documents\\Programming\\metal_cast_detection\\notebooks\\model_training\\datasets\\metal_casting\\test\\0_def_front\\cast_def_0_1961.jpeg: 224x224 Defect 1.00, OK 0.00, 3.9ms\n",
      "image 283/592 C:\\Users\\User\\OneDrive\\Documents\\Programming\\metal_cast_detection\\notebooks\\model_training\\datasets\\metal_casting\\test\\0_def_front\\cast_def_0_1963.jpeg: 224x224 Defect 1.00, OK 0.00, 4.2ms\n",
      "image 284/592 C:\\Users\\User\\OneDrive\\Documents\\Programming\\metal_cast_detection\\notebooks\\model_training\\datasets\\metal_casting\\test\\0_def_front\\cast_def_0_1965.jpeg: 224x224 Defect 1.00, OK 0.00, 3.3ms\n",
      "image 285/592 C:\\Users\\User\\OneDrive\\Documents\\Programming\\metal_cast_detection\\notebooks\\model_training\\datasets\\metal_casting\\test\\0_def_front\\cast_def_0_1966.jpeg: 224x224 Defect 1.00, OK 0.00, 3.7ms\n",
      "image 286/592 C:\\Users\\User\\OneDrive\\Documents\\Programming\\metal_cast_detection\\notebooks\\model_training\\datasets\\metal_casting\\test\\0_def_front\\cast_def_0_197.jpeg: 224x224 Defect 1.00, OK 0.00, 3.5ms\n",
      "image 287/592 C:\\Users\\User\\OneDrive\\Documents\\Programming\\metal_cast_detection\\notebooks\\model_training\\datasets\\metal_casting\\test\\0_def_front\\cast_def_0_1972.jpeg: 224x224 Defect 1.00, OK 0.00, 3.8ms\n",
      "image 288/592 C:\\Users\\User\\OneDrive\\Documents\\Programming\\metal_cast_detection\\notebooks\\model_training\\datasets\\metal_casting\\test\\0_def_front\\cast_def_0_1976.jpeg: 224x224 Defect 1.00, OK 0.00, 3.6ms\n",
      "image 289/592 C:\\Users\\User\\OneDrive\\Documents\\Programming\\metal_cast_detection\\notebooks\\model_training\\datasets\\metal_casting\\test\\0_def_front\\cast_def_0_1981.jpeg: 224x224 Defect 1.00, OK 0.00, 4.1ms\n",
      "image 290/592 C:\\Users\\User\\OneDrive\\Documents\\Programming\\metal_cast_detection\\notebooks\\model_training\\datasets\\metal_casting\\test\\0_def_front\\cast_def_0_1984.jpeg: 224x224 Defect 1.00, OK 0.00, 3.6ms\n",
      "image 291/592 C:\\Users\\User\\OneDrive\\Documents\\Programming\\metal_cast_detection\\notebooks\\model_training\\datasets\\metal_casting\\test\\0_def_front\\cast_def_0_1985.jpeg: 224x224 Defect 1.00, OK 0.00, 4.2ms\n",
      "image 292/592 C:\\Users\\User\\OneDrive\\Documents\\Programming\\metal_cast_detection\\notebooks\\model_training\\datasets\\metal_casting\\test\\0_def_front\\cast_def_0_1986.jpeg: 224x224 Defect 1.00, OK 0.00, 3.4ms\n",
      "image 293/592 C:\\Users\\User\\OneDrive\\Documents\\Programming\\metal_cast_detection\\notebooks\\model_training\\datasets\\metal_casting\\test\\0_def_front\\cast_def_0_1987.jpeg: 224x224 Defect 1.00, OK 0.00, 3.3ms\n",
      "image 294/592 C:\\Users\\User\\OneDrive\\Documents\\Programming\\metal_cast_detection\\notebooks\\model_training\\datasets\\metal_casting\\test\\0_def_front\\cast_def_0_1988.jpeg: 224x224 Defect 1.00, OK 0.00, 3.9ms\n",
      "image 295/592 C:\\Users\\User\\OneDrive\\Documents\\Programming\\metal_cast_detection\\notebooks\\model_training\\datasets\\metal_casting\\test\\0_def_front\\cast_def_0_1990.jpeg: 224x224 Defect 1.00, OK 0.00, 3.5ms\n",
      "image 296/592 C:\\Users\\User\\OneDrive\\Documents\\Programming\\metal_cast_detection\\notebooks\\model_training\\datasets\\metal_casting\\test\\0_def_front\\cast_def_0_1994.jpeg: 224x224 Defect 1.00, OK 0.00, 4.2ms\n",
      "image 297/592 C:\\Users\\User\\OneDrive\\Documents\\Programming\\metal_cast_detection\\notebooks\\model_training\\datasets\\metal_casting\\test\\0_def_front\\cast_def_0_1995.jpeg: 224x224 Defect 1.00, OK 0.00, 3.4ms\n",
      "image 298/592 C:\\Users\\User\\OneDrive\\Documents\\Programming\\metal_cast_detection\\notebooks\\model_training\\datasets\\metal_casting\\test\\0_def_front\\cast_def_0_1997.jpeg: 224x224 Defect 1.00, OK 0.00, 4.4ms\n",
      "image 299/592 C:\\Users\\User\\OneDrive\\Documents\\Programming\\metal_cast_detection\\notebooks\\model_training\\datasets\\metal_casting\\test\\0_def_front\\cast_def_0_1998.jpeg: 224x224 Defect 1.00, OK 0.00, 3.6ms\n",
      "image 300/592 C:\\Users\\User\\OneDrive\\Documents\\Programming\\metal_cast_detection\\notebooks\\model_training\\datasets\\metal_casting\\test\\0_def_front\\cast_def_0_2053.jpeg: 224x224 Defect 1.00, OK 0.00, 4.6ms\n",
      "image 301/592 C:\\Users\\User\\OneDrive\\Documents\\Programming\\metal_cast_detection\\notebooks\\model_training\\datasets\\metal_casting\\test\\0_def_front\\cast_def_0_2084.jpeg: 224x224 Defect 1.00, OK 0.00, 3.7ms\n",
      "image 302/592 C:\\Users\\User\\OneDrive\\Documents\\Programming\\metal_cast_detection\\notebooks\\model_training\\datasets\\metal_casting\\test\\0_def_front\\cast_def_0_2100.jpeg: 224x224 Defect 1.00, OK 0.00, 3.5ms\n",
      "image 303/592 C:\\Users\\User\\OneDrive\\Documents\\Programming\\metal_cast_detection\\notebooks\\model_training\\datasets\\metal_casting\\test\\0_def_front\\cast_def_0_2102.jpeg: 224x224 OK 0.93, Defect 0.07, 3.3ms\n",
      "image 304/592 C:\\Users\\User\\OneDrive\\Documents\\Programming\\metal_cast_detection\\notebooks\\model_training\\datasets\\metal_casting\\test\\0_def_front\\cast_def_0_2104.jpeg: 224x224 Defect 1.00, OK 0.00, 3.4ms\n",
      "image 305/592 C:\\Users\\User\\OneDrive\\Documents\\Programming\\metal_cast_detection\\notebooks\\model_training\\datasets\\metal_casting\\test\\0_def_front\\cast_def_0_2126.jpeg: 224x224 Defect 1.00, OK 0.00, 3.6ms\n",
      "image 306/592 C:\\Users\\User\\OneDrive\\Documents\\Programming\\metal_cast_detection\\notebooks\\model_training\\datasets\\metal_casting\\test\\0_def_front\\cast_def_0_2135.jpeg: 224x224 Defect 1.00, OK 0.00, 3.3ms\n",
      "image 307/592 C:\\Users\\User\\OneDrive\\Documents\\Programming\\metal_cast_detection\\notebooks\\model_training\\datasets\\metal_casting\\test\\0_def_front\\cast_def_0_2136.jpeg: 224x224 Defect 1.00, OK 0.00, 3.2ms\n",
      "image 308/592 C:\\Users\\User\\OneDrive\\Documents\\Programming\\metal_cast_detection\\notebooks\\model_training\\datasets\\metal_casting\\test\\0_def_front\\cast_def_0_2137.jpeg: 224x224 Defect 1.00, OK 0.00, 3.8ms\n",
      "image 309/592 C:\\Users\\User\\OneDrive\\Documents\\Programming\\metal_cast_detection\\notebooks\\model_training\\datasets\\metal_casting\\test\\0_def_front\\cast_def_0_2154.jpeg: 224x224 Defect 1.00, OK 0.00, 4.5ms\n",
      "image 310/592 C:\\Users\\User\\OneDrive\\Documents\\Programming\\metal_cast_detection\\notebooks\\model_training\\datasets\\metal_casting\\test\\0_def_front\\cast_def_0_2155.jpeg: 224x224 Defect 1.00, OK 0.00, 4.2ms\n",
      "image 311/592 C:\\Users\\User\\OneDrive\\Documents\\Programming\\metal_cast_detection\\notebooks\\model_training\\datasets\\metal_casting\\test\\0_def_front\\cast_def_0_2156.jpeg: 224x224 Defect 1.00, OK 0.00, 3.8ms\n",
      "image 312/592 C:\\Users\\User\\OneDrive\\Documents\\Programming\\metal_cast_detection\\notebooks\\model_training\\datasets\\metal_casting\\test\\0_def_front\\cast_def_0_216.jpeg: 224x224 Defect 1.00, OK 0.00, 4.1ms\n",
      "image 313/592 C:\\Users\\User\\OneDrive\\Documents\\Programming\\metal_cast_detection\\notebooks\\model_training\\datasets\\metal_casting\\test\\0_def_front\\cast_def_0_2176.jpeg: 224x224 Defect 1.00, OK 0.00, 3.9ms\n",
      "image 314/592 C:\\Users\\User\\OneDrive\\Documents\\Programming\\metal_cast_detection\\notebooks\\model_training\\datasets\\metal_casting\\test\\0_def_front\\cast_def_0_2177.jpeg: 224x224 Defect 1.00, OK 0.00, 3.1ms\n",
      "image 315/592 C:\\Users\\User\\OneDrive\\Documents\\Programming\\metal_cast_detection\\notebooks\\model_training\\datasets\\metal_casting\\test\\0_def_front\\cast_def_0_2179.jpeg: 224x224 Defect 1.00, OK 0.00, 3.6ms\n",
      "image 316/592 C:\\Users\\User\\OneDrive\\Documents\\Programming\\metal_cast_detection\\notebooks\\model_training\\datasets\\metal_casting\\test\\0_def_front\\cast_def_0_218.jpeg: 224x224 Defect 1.00, OK 0.00, 3.8ms\n",
      "image 317/592 C:\\Users\\User\\OneDrive\\Documents\\Programming\\metal_cast_detection\\notebooks\\model_training\\datasets\\metal_casting\\test\\0_def_front\\cast_def_0_220.jpeg: 224x224 Defect 1.00, OK 0.00, 3.7ms\n",
      "image 318/592 C:\\Users\\User\\OneDrive\\Documents\\Programming\\metal_cast_detection\\notebooks\\model_training\\datasets\\metal_casting\\test\\0_def_front\\cast_def_0_221.jpeg: 224x224 Defect 1.00, OK 0.00, 3.9ms\n",
      "image 319/592 C:\\Users\\User\\OneDrive\\Documents\\Programming\\metal_cast_detection\\notebooks\\model_training\\datasets\\metal_casting\\test\\0_def_front\\cast_def_0_2211.jpeg: 224x224 Defect 1.00, OK 0.00, 4.1ms\n",
      "image 320/592 C:\\Users\\User\\OneDrive\\Documents\\Programming\\metal_cast_detection\\notebooks\\model_training\\datasets\\metal_casting\\test\\0_def_front\\cast_def_0_2212.jpeg: 224x224 Defect 1.00, OK 0.00, 3.6ms\n",
      "image 321/592 C:\\Users\\User\\OneDrive\\Documents\\Programming\\metal_cast_detection\\notebooks\\model_training\\datasets\\metal_casting\\test\\0_def_front\\cast_def_0_2215.jpeg: 224x224 Defect 1.00, OK 0.00, 4.2ms\n",
      "image 322/592 C:\\Users\\User\\OneDrive\\Documents\\Programming\\metal_cast_detection\\notebooks\\model_training\\datasets\\metal_casting\\test\\0_def_front\\cast_def_0_224.jpeg: 224x224 Defect 1.00, OK 0.00, 4.6ms\n",
      "image 323/592 C:\\Users\\User\\OneDrive\\Documents\\Programming\\metal_cast_detection\\notebooks\\model_training\\datasets\\metal_casting\\test\\0_def_front\\cast_def_0_2241.jpeg: 224x224 Defect 1.00, OK 0.00, 4.6ms\n",
      "image 324/592 C:\\Users\\User\\OneDrive\\Documents\\Programming\\metal_cast_detection\\notebooks\\model_training\\datasets\\metal_casting\\test\\0_def_front\\cast_def_0_2244.jpeg: 224x224 Defect 1.00, OK 0.00, 3.7ms\n",
      "image 325/592 C:\\Users\\User\\OneDrive\\Documents\\Programming\\metal_cast_detection\\notebooks\\model_training\\datasets\\metal_casting\\test\\0_def_front\\cast_def_0_2247.jpeg: 224x224 Defect 1.00, OK 0.00, 4.5ms\n",
      "image 326/592 C:\\Users\\User\\OneDrive\\Documents\\Programming\\metal_cast_detection\\notebooks\\model_training\\datasets\\metal_casting\\test\\0_def_front\\cast_def_0_2273.jpeg: 224x224 Defect 1.00, OK 0.00, 3.4ms\n",
      "image 327/592 C:\\Users\\User\\OneDrive\\Documents\\Programming\\metal_cast_detection\\notebooks\\model_training\\datasets\\metal_casting\\test\\0_def_front\\cast_def_0_2274.jpeg: 224x224 Defect 1.00, OK 0.00, 3.0ms\n",
      "image 328/592 C:\\Users\\User\\OneDrive\\Documents\\Programming\\metal_cast_detection\\notebooks\\model_training\\datasets\\metal_casting\\test\\0_def_front\\cast_def_0_2276.jpeg: 224x224 Defect 1.00, OK 0.00, 5.2ms\n",
      "image 329/592 C:\\Users\\User\\OneDrive\\Documents\\Programming\\metal_cast_detection\\notebooks\\model_training\\datasets\\metal_casting\\test\\0_def_front\\cast_def_0_228.jpeg: 224x224 Defect 1.00, OK 0.00, 4.0ms\n",
      "image 330/592 C:\\Users\\User\\OneDrive\\Documents\\Programming\\metal_cast_detection\\notebooks\\model_training\\datasets\\metal_casting\\test\\0_def_front\\cast_def_0_2299.jpeg: 224x224 Defect 1.00, OK 0.00, 4.2ms\n",
      "image 331/592 C:\\Users\\User\\OneDrive\\Documents\\Programming\\metal_cast_detection\\notebooks\\model_training\\datasets\\metal_casting\\test\\0_def_front\\cast_def_0_230.jpeg: 224x224 Defect 1.00, OK 0.00, 3.6ms\n",
      "image 332/592 C:\\Users\\User\\OneDrive\\Documents\\Programming\\metal_cast_detection\\notebooks\\model_training\\datasets\\metal_casting\\test\\0_def_front\\cast_def_0_2305.jpeg: 224x224 Defect 1.00, OK 0.00, 3.2ms\n",
      "image 333/592 C:\\Users\\User\\OneDrive\\Documents\\Programming\\metal_cast_detection\\notebooks\\model_training\\datasets\\metal_casting\\test\\0_def_front\\cast_def_0_2308.jpeg: 224x224 Defect 1.00, OK 0.00, 4.0ms\n",
      "image 334/592 C:\\Users\\User\\OneDrive\\Documents\\Programming\\metal_cast_detection\\notebooks\\model_training\\datasets\\metal_casting\\test\\0_def_front\\cast_def_0_2309.jpeg: 224x224 Defect 1.00, OK 0.00, 3.3ms\n",
      "image 335/592 C:\\Users\\User\\OneDrive\\Documents\\Programming\\metal_cast_detection\\notebooks\\model_training\\datasets\\metal_casting\\test\\0_def_front\\cast_def_0_231.jpeg: 224x224 Defect 1.00, OK 0.00, 3.1ms\n",
      "image 336/592 C:\\Users\\User\\OneDrive\\Documents\\Programming\\metal_cast_detection\\notebooks\\model_training\\datasets\\metal_casting\\test\\0_def_front\\cast_def_0_2319.jpeg: 224x224 Defect 1.00, OK 0.00, 3.6ms\n",
      "image 337/592 C:\\Users\\User\\OneDrive\\Documents\\Programming\\metal_cast_detection\\notebooks\\model_training\\datasets\\metal_casting\\test\\0_def_front\\cast_def_0_2324.jpeg: 224x224 Defect 1.00, OK 0.00, 4.1ms\n",
      "image 338/592 C:\\Users\\User\\OneDrive\\Documents\\Programming\\metal_cast_detection\\notebooks\\model_training\\datasets\\metal_casting\\test\\0_def_front\\cast_def_0_2339.jpeg: 224x224 Defect 1.00, OK 0.00, 4.1ms\n",
      "image 339/592 C:\\Users\\User\\OneDrive\\Documents\\Programming\\metal_cast_detection\\notebooks\\model_training\\datasets\\metal_casting\\test\\0_def_front\\cast_def_0_2341.jpeg: 224x224 Defect 1.00, OK 0.00, 4.5ms\n",
      "image 340/592 C:\\Users\\User\\OneDrive\\Documents\\Programming\\metal_cast_detection\\notebooks\\model_training\\datasets\\metal_casting\\test\\0_def_front\\cast_def_0_2342.jpeg: 224x224 Defect 1.00, OK 0.00, 3.7ms\n",
      "image 341/592 C:\\Users\\User\\OneDrive\\Documents\\Programming\\metal_cast_detection\\notebooks\\model_training\\datasets\\metal_casting\\test\\0_def_front\\cast_def_0_235.jpeg: 224x224 Defect 1.00, OK 0.00, 3.3ms\n",
      "image 342/592 C:\\Users\\User\\OneDrive\\Documents\\Programming\\metal_cast_detection\\notebooks\\model_training\\datasets\\metal_casting\\test\\0_def_front\\cast_def_0_236.jpeg: 224x224 Defect 1.00, OK 0.00, 3.6ms\n",
      "image 343/592 C:\\Users\\User\\OneDrive\\Documents\\Programming\\metal_cast_detection\\notebooks\\model_training\\datasets\\metal_casting\\test\\0_def_front\\cast_def_0_2372.jpeg: 224x224 Defect 1.00, OK 0.00, 3.3ms\n",
      "image 344/592 C:\\Users\\User\\OneDrive\\Documents\\Programming\\metal_cast_detection\\notebooks\\model_training\\datasets\\metal_casting\\test\\0_def_front\\cast_def_0_2375.jpeg: 224x224 Defect 1.00, OK 0.00, 3.3ms\n",
      "image 345/592 C:\\Users\\User\\OneDrive\\Documents\\Programming\\metal_cast_detection\\notebooks\\model_training\\datasets\\metal_casting\\test\\0_def_front\\cast_def_0_2376.jpeg: 224x224 Defect 1.00, OK 0.00, 3.4ms\n",
      "image 346/592 C:\\Users\\User\\OneDrive\\Documents\\Programming\\metal_cast_detection\\notebooks\\model_training\\datasets\\metal_casting\\test\\0_def_front\\cast_def_0_2392.jpeg: 224x224 Defect 1.00, OK 0.00, 4.9ms\n",
      "image 347/592 C:\\Users\\User\\OneDrive\\Documents\\Programming\\metal_cast_detection\\notebooks\\model_training\\datasets\\metal_casting\\test\\0_def_front\\cast_def_0_2393.jpeg: 224x224 Defect 1.00, OK 0.00, 3.9ms\n",
      "image 348/592 C:\\Users\\User\\OneDrive\\Documents\\Programming\\metal_cast_detection\\notebooks\\model_training\\datasets\\metal_casting\\test\\0_def_front\\cast_def_0_2396.jpeg: 224x224 Defect 1.00, OK 0.00, 4.0ms\n",
      "image 349/592 C:\\Users\\User\\OneDrive\\Documents\\Programming\\metal_cast_detection\\notebooks\\model_training\\datasets\\metal_casting\\test\\0_def_front\\cast_def_0_242.jpeg: 224x224 Defect 1.00, OK 0.00, 3.7ms\n",
      "image 350/592 C:\\Users\\User\\OneDrive\\Documents\\Programming\\metal_cast_detection\\notebooks\\model_training\\datasets\\metal_casting\\test\\0_def_front\\cast_def_0_2420.jpeg: 224x224 Defect 1.00, OK 0.00, 3.6ms\n",
      "image 351/592 C:\\Users\\User\\OneDrive\\Documents\\Programming\\metal_cast_detection\\notebooks\\model_training\\datasets\\metal_casting\\test\\0_def_front\\cast_def_0_2421.jpeg: 224x224 Defect 1.00, OK 0.00, 3.2ms\n",
      "image 352/592 C:\\Users\\User\\OneDrive\\Documents\\Programming\\metal_cast_detection\\notebooks\\model_training\\datasets\\metal_casting\\test\\0_def_front\\cast_def_0_2422.jpeg: 224x224 Defect 1.00, OK 0.00, 3.3ms\n",
      "image 353/592 C:\\Users\\User\\OneDrive\\Documents\\Programming\\metal_cast_detection\\notebooks\\model_training\\datasets\\metal_casting\\test\\0_def_front\\cast_def_0_2442.jpeg: 224x224 Defect 1.00, OK 0.00, 3.6ms\n",
      "image 354/592 C:\\Users\\User\\OneDrive\\Documents\\Programming\\metal_cast_detection\\notebooks\\model_training\\datasets\\metal_casting\\test\\0_def_front\\cast_def_0_2451.jpeg: 224x224 Defect 1.00, OK 0.00, 3.4ms\n",
      "image 355/592 C:\\Users\\User\\OneDrive\\Documents\\Programming\\metal_cast_detection\\notebooks\\model_training\\datasets\\metal_casting\\test\\0_def_front\\cast_def_0_2453.jpeg: 224x224 Defect 1.00, OK 0.00, 3.7ms\n",
      "image 356/592 C:\\Users\\User\\OneDrive\\Documents\\Programming\\metal_cast_detection\\notebooks\\model_training\\datasets\\metal_casting\\test\\0_def_front\\cast_def_0_246.jpeg: 224x224 Defect 1.00, OK 0.00, 3.7ms\n",
      "image 357/592 C:\\Users\\User\\OneDrive\\Documents\\Programming\\metal_cast_detection\\notebooks\\model_training\\datasets\\metal_casting\\test\\0_def_front\\cast_def_0_247.jpeg: 224x224 Defect 1.00, OK 0.00, 4.0ms\n",
      "image 358/592 C:\\Users\\User\\OneDrive\\Documents\\Programming\\metal_cast_detection\\notebooks\\model_training\\datasets\\metal_casting\\test\\0_def_front\\cast_def_0_2479.jpeg: 224x224 Defect 1.00, OK 0.00, 3.4ms\n",
      "image 359/592 C:\\Users\\User\\OneDrive\\Documents\\Programming\\metal_cast_detection\\notebooks\\model_training\\datasets\\metal_casting\\test\\0_def_front\\cast_def_0_2480.jpeg: 224x224 Defect 1.00, OK 0.00, 3.4ms\n",
      "image 360/592 C:\\Users\\User\\OneDrive\\Documents\\Programming\\metal_cast_detection\\notebooks\\model_training\\datasets\\metal_casting\\test\\0_def_front\\cast_def_0_2483.jpeg: 224x224 Defect 1.00, OK 0.00, 3.2ms\n",
      "image 361/592 C:\\Users\\User\\OneDrive\\Documents\\Programming\\metal_cast_detection\\notebooks\\model_training\\datasets\\metal_casting\\test\\0_def_front\\cast_def_0_2486.jpeg: 224x224 Defect 1.00, OK 0.00, 6.2ms\n",
      "image 362/592 C:\\Users\\User\\OneDrive\\Documents\\Programming\\metal_cast_detection\\notebooks\\model_training\\datasets\\metal_casting\\test\\0_def_front\\cast_def_0_2487.jpeg: 224x224 Defect 1.00, OK 0.00, 6.1ms\n",
      "image 363/592 C:\\Users\\User\\OneDrive\\Documents\\Programming\\metal_cast_detection\\notebooks\\model_training\\datasets\\metal_casting\\test\\0_def_front\\cast_def_0_249.jpeg: 224x224 Defect 1.00, OK 0.00, 3.5ms\n",
      "image 364/592 C:\\Users\\User\\OneDrive\\Documents\\Programming\\metal_cast_detection\\notebooks\\model_training\\datasets\\metal_casting\\test\\0_def_front\\cast_def_0_2509.jpeg: 224x224 Defect 1.00, OK 0.00, 3.3ms\n",
      "image 365/592 C:\\Users\\User\\OneDrive\\Documents\\Programming\\metal_cast_detection\\notebooks\\model_training\\datasets\\metal_casting\\test\\0_def_front\\cast_def_0_2510.jpeg: 224x224 Defect 1.00, OK 0.00, 3.3ms\n",
      "image 366/592 C:\\Users\\User\\OneDrive\\Documents\\Programming\\metal_cast_detection\\notebooks\\model_training\\datasets\\metal_casting\\test\\0_def_front\\cast_def_0_2514.jpeg: 224x224 Defect 1.00, OK 0.00, 5.8ms\n",
      "image 367/592 C:\\Users\\User\\OneDrive\\Documents\\Programming\\metal_cast_detection\\notebooks\\model_training\\datasets\\metal_casting\\test\\0_def_front\\cast_def_0_2515.jpeg: 224x224 Defect 1.00, OK 0.00, 3.6ms\n",
      "image 368/592 C:\\Users\\User\\OneDrive\\Documents\\Programming\\metal_cast_detection\\notebooks\\model_training\\datasets\\metal_casting\\test\\0_def_front\\cast_def_0_2516.jpeg: 224x224 Defect 1.00, OK 0.00, 3.6ms\n",
      "image 369/592 C:\\Users\\User\\OneDrive\\Documents\\Programming\\metal_cast_detection\\notebooks\\model_training\\datasets\\metal_casting\\test\\0_def_front\\cast_def_0_2526.jpeg: 224x224 Defect 1.00, OK 0.00, 3.4ms\n",
      "image 370/592 C:\\Users\\User\\OneDrive\\Documents\\Programming\\metal_cast_detection\\notebooks\\model_training\\datasets\\metal_casting\\test\\0_def_front\\cast_def_0_2528.jpeg: 224x224 Defect 1.00, OK 0.00, 3.5ms\n",
      "image 371/592 C:\\Users\\User\\OneDrive\\Documents\\Programming\\metal_cast_detection\\notebooks\\model_training\\datasets\\metal_casting\\test\\0_def_front\\cast_def_0_2551.jpeg: 224x224 Defect 1.00, OK 0.00, 3.4ms\n",
      "image 372/592 C:\\Users\\User\\OneDrive\\Documents\\Programming\\metal_cast_detection\\notebooks\\model_training\\datasets\\metal_casting\\test\\0_def_front\\cast_def_0_2553.jpeg: 224x224 Defect 1.00, OK 0.00, 4.3ms\n",
      "image 373/592 C:\\Users\\User\\OneDrive\\Documents\\Programming\\metal_cast_detection\\notebooks\\model_training\\datasets\\metal_casting\\test\\0_def_front\\cast_def_0_257.jpeg: 224x224 Defect 1.00, OK 0.00, 4.3ms\n",
      "image 374/592 C:\\Users\\User\\OneDrive\\Documents\\Programming\\metal_cast_detection\\notebooks\\model_training\\datasets\\metal_casting\\test\\0_def_front\\cast_def_0_259.jpeg: 224x224 Defect 1.00, OK 0.00, 3.7ms\n",
      "image 375/592 C:\\Users\\User\\OneDrive\\Documents\\Programming\\metal_cast_detection\\notebooks\\model_training\\datasets\\metal_casting\\test\\0_def_front\\cast_def_0_26.jpeg: 224x224 Defect 1.00, OK 0.00, 3.6ms\n",
      "image 376/592 C:\\Users\\User\\OneDrive\\Documents\\Programming\\metal_cast_detection\\notebooks\\model_training\\datasets\\metal_casting\\test\\0_def_front\\cast_def_0_260.jpeg: 224x224 Defect 1.00, OK 0.00, 3.7ms\n",
      "image 377/592 C:\\Users\\User\\OneDrive\\Documents\\Programming\\metal_cast_detection\\notebooks\\model_training\\datasets\\metal_casting\\test\\0_def_front\\cast_def_0_275.jpeg: 224x224 Defect 1.00, OK 0.00, 3.4ms\n",
      "image 378/592 C:\\Users\\User\\OneDrive\\Documents\\Programming\\metal_cast_detection\\notebooks\\model_training\\datasets\\metal_casting\\test\\0_def_front\\cast_def_0_28.jpeg: 224x224 Defect 1.00, OK 0.00, 3.9ms\n",
      "image 379/592 C:\\Users\\User\\OneDrive\\Documents\\Programming\\metal_cast_detection\\notebooks\\model_training\\datasets\\metal_casting\\test\\0_def_front\\cast_def_0_280.jpeg: 224x224 Defect 1.00, OK 0.00, 3.7ms\n",
      "image 380/592 C:\\Users\\User\\OneDrive\\Documents\\Programming\\metal_cast_detection\\notebooks\\model_training\\datasets\\metal_casting\\test\\0_def_front\\cast_def_0_283.jpeg: 224x224 Defect 1.00, OK 0.00, 3.6ms\n",
      "image 381/592 C:\\Users\\User\\OneDrive\\Documents\\Programming\\metal_cast_detection\\notebooks\\model_training\\datasets\\metal_casting\\test\\0_def_front\\cast_def_0_2842.jpeg: 224x224 Defect 1.00, OK 0.00, 3.4ms\n",
      "image 382/592 C:\\Users\\User\\OneDrive\\Documents\\Programming\\metal_cast_detection\\notebooks\\model_training\\datasets\\metal_casting\\test\\0_def_front\\cast_def_0_2843.jpeg: 224x224 Defect 1.00, OK 0.00, 3.6ms\n",
      "image 383/592 C:\\Users\\User\\OneDrive\\Documents\\Programming\\metal_cast_detection\\notebooks\\model_training\\datasets\\metal_casting\\test\\0_def_front\\cast_def_0_2846.jpeg: 224x224 Defect 1.00, OK 0.00, 3.3ms\n",
      "image 384/592 C:\\Users\\User\\OneDrive\\Documents\\Programming\\metal_cast_detection\\notebooks\\model_training\\datasets\\metal_casting\\test\\0_def_front\\cast_def_0_2847.jpeg: 224x224 Defect 1.00, OK 0.00, 3.8ms\n",
      "image 385/592 C:\\Users\\User\\OneDrive\\Documents\\Programming\\metal_cast_detection\\notebooks\\model_training\\datasets\\metal_casting\\test\\0_def_front\\cast_def_0_2852.jpeg: 224x224 Defect 1.00, OK 0.00, 3.6ms\n",
      "image 386/592 C:\\Users\\User\\OneDrive\\Documents\\Programming\\metal_cast_detection\\notebooks\\model_training\\datasets\\metal_casting\\test\\0_def_front\\cast_def_0_2854.jpeg: 224x224 Defect 1.00, OK 0.00, 3.8ms\n",
      "image 387/592 C:\\Users\\User\\OneDrive\\Documents\\Programming\\metal_cast_detection\\notebooks\\model_training\\datasets\\metal_casting\\test\\0_def_front\\cast_def_0_2856.jpeg: 224x224 Defect 1.00, OK 0.00, 3.4ms\n",
      "image 388/592 C:\\Users\\User\\OneDrive\\Documents\\Programming\\metal_cast_detection\\notebooks\\model_training\\datasets\\metal_casting\\test\\0_def_front\\cast_def_0_2860.jpeg: 224x224 Defect 1.00, OK 0.00, 4.0ms\n",
      "image 389/592 C:\\Users\\User\\OneDrive\\Documents\\Programming\\metal_cast_detection\\notebooks\\model_training\\datasets\\metal_casting\\test\\0_def_front\\cast_def_0_2861.jpeg: 224x224 Defect 1.00, OK 0.00, 4.5ms\n",
      "image 390/592 C:\\Users\\User\\OneDrive\\Documents\\Programming\\metal_cast_detection\\notebooks\\model_training\\datasets\\metal_casting\\test\\0_def_front\\cast_def_0_2866.jpeg: 224x224 Defect 1.00, OK 0.00, 3.6ms\n",
      "image 391/592 C:\\Users\\User\\OneDrive\\Documents\\Programming\\metal_cast_detection\\notebooks\\model_training\\datasets\\metal_casting\\test\\0_def_front\\cast_def_0_290.jpeg: 224x224 Defect 1.00, OK 0.00, 3.5ms\n",
      "image 392/592 C:\\Users\\User\\OneDrive\\Documents\\Programming\\metal_cast_detection\\notebooks\\model_training\\datasets\\metal_casting\\test\\0_def_front\\cast_def_0_291.jpeg: 224x224 Defect 1.00, OK 0.00, 3.5ms\n",
      "image 393/592 C:\\Users\\User\\OneDrive\\Documents\\Programming\\metal_cast_detection\\notebooks\\model_training\\datasets\\metal_casting\\test\\0_def_front\\cast_def_0_299.jpeg: 224x224 Defect 1.00, OK 0.00, 3.6ms\n",
      "image 394/592 C:\\Users\\User\\OneDrive\\Documents\\Programming\\metal_cast_detection\\notebooks\\model_training\\datasets\\metal_casting\\test\\0_def_front\\cast_def_0_302.jpeg: 224x224 Defect 1.00, OK 0.00, 3.4ms\n",
      "image 395/592 C:\\Users\\User\\OneDrive\\Documents\\Programming\\metal_cast_detection\\notebooks\\model_training\\datasets\\metal_casting\\test\\0_def_front\\cast_def_0_303.jpeg: 224x224 Defect 1.00, OK 0.00, 3.7ms\n",
      "image 396/592 C:\\Users\\User\\OneDrive\\Documents\\Programming\\metal_cast_detection\\notebooks\\model_training\\datasets\\metal_casting\\test\\0_def_front\\cast_def_0_3105.jpeg: 224x224 Defect 1.00, OK 0.00, 3.6ms\n",
      "image 397/592 C:\\Users\\User\\OneDrive\\Documents\\Programming\\metal_cast_detection\\notebooks\\model_training\\datasets\\metal_casting\\test\\0_def_front\\cast_def_0_3106.jpeg: 224x224 Defect 1.00, OK 0.00, 3.8ms\n",
      "image 398/592 C:\\Users\\User\\OneDrive\\Documents\\Programming\\metal_cast_detection\\notebooks\\model_training\\datasets\\metal_casting\\test\\0_def_front\\cast_def_0_3108.jpeg: 224x224 Defect 1.00, OK 0.00, 3.3ms\n",
      "image 399/592 C:\\Users\\User\\OneDrive\\Documents\\Programming\\metal_cast_detection\\notebooks\\model_training\\datasets\\metal_casting\\test\\0_def_front\\cast_def_0_3121.jpeg: 224x224 Defect 1.00, OK 0.00, 4.0ms\n",
      "image 400/592 C:\\Users\\User\\OneDrive\\Documents\\Programming\\metal_cast_detection\\notebooks\\model_training\\datasets\\metal_casting\\test\\0_def_front\\cast_def_0_3122.jpeg: 224x224 Defect 1.00, OK 0.00, 4.0ms\n",
      "image 401/592 C:\\Users\\User\\OneDrive\\Documents\\Programming\\metal_cast_detection\\notebooks\\model_training\\datasets\\metal_casting\\test\\0_def_front\\cast_def_0_3123.jpeg: 224x224 Defect 1.00, OK 0.00, 4.1ms\n",
      "image 402/592 C:\\Users\\User\\OneDrive\\Documents\\Programming\\metal_cast_detection\\notebooks\\model_training\\datasets\\metal_casting\\test\\0_def_front\\cast_def_0_3387.jpeg: 224x224 Defect 1.00, OK 0.00, 4.2ms\n",
      "image 403/592 C:\\Users\\User\\OneDrive\\Documents\\Programming\\metal_cast_detection\\notebooks\\model_training\\datasets\\metal_casting\\test\\0_def_front\\cast_def_0_3388.jpeg: 224x224 Defect 1.00, OK 0.00, 3.8ms\n",
      "image 404/592 C:\\Users\\User\\OneDrive\\Documents\\Programming\\metal_cast_detection\\notebooks\\model_training\\datasets\\metal_casting\\test\\0_def_front\\cast_def_0_340.jpeg: 224x224 Defect 1.00, OK 0.00, 3.7ms\n",
      "image 405/592 C:\\Users\\User\\OneDrive\\Documents\\Programming\\metal_cast_detection\\notebooks\\model_training\\datasets\\metal_casting\\test\\0_def_front\\cast_def_0_3412.jpeg: 224x224 Defect 1.00, OK 0.00, 3.1ms\n",
      "image 406/592 C:\\Users\\User\\OneDrive\\Documents\\Programming\\metal_cast_detection\\notebooks\\model_training\\datasets\\metal_casting\\test\\0_def_front\\cast_def_0_3416.jpeg: 224x224 Defect 1.00, OK 0.00, 4.3ms\n",
      "image 407/592 C:\\Users\\User\\OneDrive\\Documents\\Programming\\metal_cast_detection\\notebooks\\model_training\\datasets\\metal_casting\\test\\0_def_front\\cast_def_0_3438.jpeg: 224x224 Defect 1.00, OK 0.00, 3.4ms\n",
      "image 408/592 C:\\Users\\User\\OneDrive\\Documents\\Programming\\metal_cast_detection\\notebooks\\model_training\\datasets\\metal_casting\\test\\0_def_front\\cast_def_0_3446.jpeg: 224x224 Defect 1.00, OK 0.00, 3.4ms\n",
      "image 409/592 C:\\Users\\User\\OneDrive\\Documents\\Programming\\metal_cast_detection\\notebooks\\model_training\\datasets\\metal_casting\\test\\0_def_front\\cast_def_0_3473.jpeg: 224x224 Defect 1.00, OK 0.00, 3.5ms\n",
      "image 410/592 C:\\Users\\User\\OneDrive\\Documents\\Programming\\metal_cast_detection\\notebooks\\model_training\\datasets\\metal_casting\\test\\0_def_front\\cast_def_0_3500.jpeg: 224x224 Defect 1.00, OK 0.00, 3.2ms\n",
      "image 411/592 C:\\Users\\User\\OneDrive\\Documents\\Programming\\metal_cast_detection\\notebooks\\model_training\\datasets\\metal_casting\\test\\0_def_front\\cast_def_0_3503.jpeg: 224x224 Defect 1.00, OK 0.00, 3.5ms\n",
      "image 412/592 C:\\Users\\User\\OneDrive\\Documents\\Programming\\metal_cast_detection\\notebooks\\model_training\\datasets\\metal_casting\\test\\0_def_front\\cast_def_0_363.jpeg: 224x224 Defect 1.00, OK 0.00, 3.4ms\n",
      "image 413/592 C:\\Users\\User\\OneDrive\\Documents\\Programming\\metal_cast_detection\\notebooks\\model_training\\datasets\\metal_casting\\test\\0_def_front\\cast_def_0_367.jpeg: 224x224 Defect 1.00, OK 0.00, 3.3ms\n",
      "image 414/592 C:\\Users\\User\\OneDrive\\Documents\\Programming\\metal_cast_detection\\notebooks\\model_training\\datasets\\metal_casting\\test\\0_def_front\\cast_def_0_3688.jpeg: 224x224 Defect 1.00, OK 0.00, 3.6ms\n",
      "image 415/592 C:\\Users\\User\\OneDrive\\Documents\\Programming\\metal_cast_detection\\notebooks\\model_training\\datasets\\metal_casting\\test\\0_def_front\\cast_def_0_3690.jpeg: 224x224 Defect 1.00, OK 0.00, 3.6ms\n",
      "image 416/592 C:\\Users\\User\\OneDrive\\Documents\\Programming\\metal_cast_detection\\notebooks\\model_training\\datasets\\metal_casting\\test\\0_def_front\\cast_def_0_3692.jpeg: 224x224 Defect 1.00, OK 0.00, 3.3ms\n",
      "image 417/592 C:\\Users\\User\\OneDrive\\Documents\\Programming\\metal_cast_detection\\notebooks\\model_training\\datasets\\metal_casting\\test\\0_def_front\\cast_def_0_3694.jpeg: 224x224 Defect 1.00, OK 0.00, 3.5ms\n",
      "image 418/592 C:\\Users\\User\\OneDrive\\Documents\\Programming\\metal_cast_detection\\notebooks\\model_training\\datasets\\metal_casting\\test\\0_def_front\\cast_def_0_3695.jpeg: 224x224 Defect 1.00, OK 0.00, 4.2ms\n",
      "image 419/592 C:\\Users\\User\\OneDrive\\Documents\\Programming\\metal_cast_detection\\notebooks\\model_training\\datasets\\metal_casting\\test\\0_def_front\\cast_def_0_3696.jpeg: 224x224 Defect 1.00, OK 0.00, 3.4ms\n",
      "image 420/592 C:\\Users\\User\\OneDrive\\Documents\\Programming\\metal_cast_detection\\notebooks\\model_training\\datasets\\metal_casting\\test\\0_def_front\\cast_def_0_3698.jpeg: 224x224 Defect 1.00, OK 0.00, 3.1ms\n",
      "image 421/592 C:\\Users\\User\\OneDrive\\Documents\\Programming\\metal_cast_detection\\notebooks\\model_training\\datasets\\metal_casting\\test\\0_def_front\\cast_def_0_3701.jpeg: 224x224 Defect 1.00, OK 0.00, 3.6ms\n",
      "image 422/592 C:\\Users\\User\\OneDrive\\Documents\\Programming\\metal_cast_detection\\notebooks\\model_training\\datasets\\metal_casting\\test\\0_def_front\\cast_def_0_3703.jpeg: 224x224 Defect 1.00, OK 0.00, 3.3ms\n",
      "image 423/592 C:\\Users\\User\\OneDrive\\Documents\\Programming\\metal_cast_detection\\notebooks\\model_training\\datasets\\metal_casting\\test\\0_def_front\\cast_def_0_3704.jpeg: 224x224 Defect 1.00, OK 0.00, 3.7ms\n",
      "image 424/592 C:\\Users\\User\\OneDrive\\Documents\\Programming\\metal_cast_detection\\notebooks\\model_training\\datasets\\metal_casting\\test\\0_def_front\\cast_def_0_3707.jpeg: 224x224 Defect 1.00, OK 0.00, 3.6ms\n",
      "image 425/592 C:\\Users\\User\\OneDrive\\Documents\\Programming\\metal_cast_detection\\notebooks\\model_training\\datasets\\metal_casting\\test\\0_def_front\\cast_def_0_3709.jpeg: 224x224 Defect 1.00, OK 0.00, 3.4ms\n",
      "image 426/592 C:\\Users\\User\\OneDrive\\Documents\\Programming\\metal_cast_detection\\notebooks\\model_training\\datasets\\metal_casting\\test\\0_def_front\\cast_def_0_3716.jpeg: 224x224 Defect 1.00, OK 0.00, 3.4ms\n",
      "image 427/592 C:\\Users\\User\\OneDrive\\Documents\\Programming\\metal_cast_detection\\notebooks\\model_training\\datasets\\metal_casting\\test\\0_def_front\\cast_def_0_3718.jpeg: 224x224 Defect 1.00, OK 0.00, 3.4ms\n",
      "image 428/592 C:\\Users\\User\\OneDrive\\Documents\\Programming\\metal_cast_detection\\notebooks\\model_training\\datasets\\metal_casting\\test\\0_def_front\\cast_def_0_3720.jpeg: 224x224 Defect 1.00, OK 0.00, 3.5ms\n",
      "image 429/592 C:\\Users\\User\\OneDrive\\Documents\\Programming\\metal_cast_detection\\notebooks\\model_training\\datasets\\metal_casting\\test\\0_def_front\\cast_def_0_3723.jpeg: 224x224 Defect 1.00, OK 0.00, 3.5ms\n",
      "image 430/592 C:\\Users\\User\\OneDrive\\Documents\\Programming\\metal_cast_detection\\notebooks\\model_training\\datasets\\metal_casting\\test\\0_def_front\\cast_def_0_3725.jpeg: 224x224 Defect 1.00, OK 0.00, 3.2ms\n",
      "image 431/592 C:\\Users\\User\\OneDrive\\Documents\\Programming\\metal_cast_detection\\notebooks\\model_training\\datasets\\metal_casting\\test\\0_def_front\\cast_def_0_3727.jpeg: 224x224 Defect 1.00, OK 0.00, 3.7ms\n",
      "image 432/592 C:\\Users\\User\\OneDrive\\Documents\\Programming\\metal_cast_detection\\notebooks\\model_training\\datasets\\metal_casting\\test\\0_def_front\\cast_def_0_3728.jpeg: 224x224 Defect 1.00, OK 0.00, 3.3ms\n",
      "image 433/592 C:\\Users\\User\\OneDrive\\Documents\\Programming\\metal_cast_detection\\notebooks\\model_training\\datasets\\metal_casting\\test\\0_def_front\\cast_def_0_3729.jpeg: 224x224 Defect 1.00, OK 0.00, 3.2ms\n",
      "image 434/592 C:\\Users\\User\\OneDrive\\Documents\\Programming\\metal_cast_detection\\notebooks\\model_training\\datasets\\metal_casting\\test\\0_def_front\\cast_def_0_3734.jpeg: 224x224 Defect 1.00, OK 0.00, 4.0ms\n",
      "image 435/592 C:\\Users\\User\\OneDrive\\Documents\\Programming\\metal_cast_detection\\notebooks\\model_training\\datasets\\metal_casting\\test\\0_def_front\\cast_def_0_3737.jpeg: 224x224 Defect 1.00, OK 0.00, 4.0ms\n",
      "image 436/592 C:\\Users\\User\\OneDrive\\Documents\\Programming\\metal_cast_detection\\notebooks\\model_training\\datasets\\metal_casting\\test\\0_def_front\\cast_def_0_3739.jpeg: 224x224 Defect 1.00, OK 0.00, 3.8ms\n",
      "image 437/592 C:\\Users\\User\\OneDrive\\Documents\\Programming\\metal_cast_detection\\notebooks\\model_training\\datasets\\metal_casting\\test\\0_def_front\\cast_def_0_3742.jpeg: 224x224 Defect 1.00, OK 0.00, 4.1ms\n",
      "image 438/592 C:\\Users\\User\\OneDrive\\Documents\\Programming\\metal_cast_detection\\notebooks\\model_training\\datasets\\metal_casting\\test\\0_def_front\\cast_def_0_3743.jpeg: 224x224 Defect 1.00, OK 0.00, 3.6ms\n",
      "image 439/592 C:\\Users\\User\\OneDrive\\Documents\\Programming\\metal_cast_detection\\notebooks\\model_training\\datasets\\metal_casting\\test\\0_def_front\\cast_def_0_3744.jpeg: 224x224 Defect 1.00, OK 0.00, 3.4ms\n",
      "image 440/592 C:\\Users\\User\\OneDrive\\Documents\\Programming\\metal_cast_detection\\notebooks\\model_training\\datasets\\metal_casting\\test\\0_def_front\\cast_def_0_3745.jpeg: 224x224 Defect 1.00, OK 0.00, 3.4ms\n",
      "image 441/592 C:\\Users\\User\\OneDrive\\Documents\\Programming\\metal_cast_detection\\notebooks\\model_training\\datasets\\metal_casting\\test\\0_def_front\\cast_def_0_3746.jpeg: 224x224 Defect 1.00, OK 0.00, 3.9ms\n",
      "image 442/592 C:\\Users\\User\\OneDrive\\Documents\\Programming\\metal_cast_detection\\notebooks\\model_training\\datasets\\metal_casting\\test\\0_def_front\\cast_def_0_3747.jpeg: 224x224 Defect 1.00, OK 0.00, 3.9ms\n",
      "image 443/592 C:\\Users\\User\\OneDrive\\Documents\\Programming\\metal_cast_detection\\notebooks\\model_training\\datasets\\metal_casting\\test\\0_def_front\\cast_def_0_3753.jpeg: 224x224 Defect 1.00, OK 0.00, 4.0ms\n",
      "image 444/592 C:\\Users\\User\\OneDrive\\Documents\\Programming\\metal_cast_detection\\notebooks\\model_training\\datasets\\metal_casting\\test\\0_def_front\\cast_def_0_3754.jpeg: 224x224 Defect 1.00, OK 0.00, 4.0ms\n",
      "image 445/592 C:\\Users\\User\\OneDrive\\Documents\\Programming\\metal_cast_detection\\notebooks\\model_training\\datasets\\metal_casting\\test\\0_def_front\\cast_def_0_3757.jpeg: 224x224 Defect 1.00, OK 0.00, 3.5ms\n",
      "image 446/592 C:\\Users\\User\\OneDrive\\Documents\\Programming\\metal_cast_detection\\notebooks\\model_training\\datasets\\metal_casting\\test\\0_def_front\\cast_def_0_3760.jpeg: 224x224 Defect 1.00, OK 0.00, 3.7ms\n",
      "image 447/592 C:\\Users\\User\\OneDrive\\Documents\\Programming\\metal_cast_detection\\notebooks\\model_training\\datasets\\metal_casting\\test\\0_def_front\\cast_def_0_3761.jpeg: 224x224 Defect 1.00, OK 0.00, 3.8ms\n",
      "image 448/592 C:\\Users\\User\\OneDrive\\Documents\\Programming\\metal_cast_detection\\notebooks\\model_training\\datasets\\metal_casting\\test\\0_def_front\\cast_def_0_3762.jpeg: 224x224 Defect 1.00, OK 0.00, 3.6ms\n",
      "image 449/592 C:\\Users\\User\\OneDrive\\Documents\\Programming\\metal_cast_detection\\notebooks\\model_training\\datasets\\metal_casting\\test\\0_def_front\\cast_def_0_3764.jpeg: 224x224 Defect 1.00, OK 0.00, 3.6ms\n",
      "image 450/592 C:\\Users\\User\\OneDrive\\Documents\\Programming\\metal_cast_detection\\notebooks\\model_training\\datasets\\metal_casting\\test\\0_def_front\\cast_def_0_3765.jpeg: 224x224 Defect 1.00, OK 0.00, 4.4ms\n",
      "image 451/592 C:\\Users\\User\\OneDrive\\Documents\\Programming\\metal_cast_detection\\notebooks\\model_training\\datasets\\metal_casting\\test\\0_def_front\\cast_def_0_3766.jpeg: 224x224 Defect 1.00, OK 0.00, 6.0ms\n",
      "image 452/592 C:\\Users\\User\\OneDrive\\Documents\\Programming\\metal_cast_detection\\notebooks\\model_training\\datasets\\metal_casting\\test\\0_def_front\\cast_def_0_3769.jpeg: 224x224 Defect 1.00, OK 0.00, 4.0ms\n",
      "image 453/592 C:\\Users\\User\\OneDrive\\Documents\\Programming\\metal_cast_detection\\notebooks\\model_training\\datasets\\metal_casting\\test\\0_def_front\\cast_def_0_3770.jpeg: 224x224 Defect 1.00, OK 0.00, 4.0ms\n",
      "image 454/592 C:\\Users\\User\\OneDrive\\Documents\\Programming\\metal_cast_detection\\notebooks\\model_training\\datasets\\metal_casting\\test\\0_def_front\\cast_def_0_3771.jpeg: 224x224 Defect 1.00, OK 0.00, 3.5ms\n",
      "image 455/592 C:\\Users\\User\\OneDrive\\Documents\\Programming\\metal_cast_detection\\notebooks\\model_training\\datasets\\metal_casting\\test\\0_def_front\\cast_def_0_3772.jpeg: 224x224 Defect 1.00, OK 0.00, 3.5ms\n",
      "image 456/592 C:\\Users\\User\\OneDrive\\Documents\\Programming\\metal_cast_detection\\notebooks\\model_training\\datasets\\metal_casting\\test\\0_def_front\\cast_def_0_3773.jpeg: 224x224 Defect 1.00, OK 0.00, 4.2ms\n",
      "image 457/592 C:\\Users\\User\\OneDrive\\Documents\\Programming\\metal_cast_detection\\notebooks\\model_training\\datasets\\metal_casting\\test\\0_def_front\\cast_def_0_3777.jpeg: 224x224 Defect 1.00, OK 0.00, 3.4ms\n",
      "image 458/592 C:\\Users\\User\\OneDrive\\Documents\\Programming\\metal_cast_detection\\notebooks\\model_training\\datasets\\metal_casting\\test\\0_def_front\\cast_def_0_3778.jpeg: 224x224 Defect 1.00, OK 0.00, 5.0ms\n",
      "image 459/592 C:\\Users\\User\\OneDrive\\Documents\\Programming\\metal_cast_detection\\notebooks\\model_training\\datasets\\metal_casting\\test\\0_def_front\\cast_def_0_3784.jpeg: 224x224 Defect 1.00, OK 0.00, 4.9ms\n",
      "image 460/592 C:\\Users\\User\\OneDrive\\Documents\\Programming\\metal_cast_detection\\notebooks\\model_training\\datasets\\metal_casting\\test\\0_def_front\\cast_def_0_3785.jpeg: 224x224 Defect 1.00, OK 0.00, 3.4ms\n",
      "image 461/592 C:\\Users\\User\\OneDrive\\Documents\\Programming\\metal_cast_detection\\notebooks\\model_training\\datasets\\metal_casting\\test\\0_def_front\\cast_def_0_3792.jpeg: 224x224 Defect 1.00, OK 0.00, 3.8ms\n",
      "image 462/592 C:\\Users\\User\\OneDrive\\Documents\\Programming\\metal_cast_detection\\notebooks\\model_training\\datasets\\metal_casting\\test\\0_def_front\\cast_def_0_3793.jpeg: 224x224 Defect 1.00, OK 0.00, 4.7ms\n",
      "image 463/592 C:\\Users\\User\\OneDrive\\Documents\\Programming\\metal_cast_detection\\notebooks\\model_training\\datasets\\metal_casting\\test\\0_def_front\\cast_def_0_40.jpeg: 224x224 Defect 1.00, OK 0.00, 4.1ms\n",
      "image 464/592 C:\\Users\\User\\OneDrive\\Documents\\Programming\\metal_cast_detection\\notebooks\\model_training\\datasets\\metal_casting\\test\\0_def_front\\cast_def_0_411.jpeg: 224x224 Defect 1.00, OK 0.00, 4.1ms\n",
      "image 465/592 C:\\Users\\User\\OneDrive\\Documents\\Programming\\metal_cast_detection\\notebooks\\model_training\\datasets\\metal_casting\\test\\0_def_front\\cast_def_0_4133.jpeg: 224x224 Defect 1.00, OK 0.00, 3.8ms\n",
      "image 466/592 C:\\Users\\User\\OneDrive\\Documents\\Programming\\metal_cast_detection\\notebooks\\model_training\\datasets\\metal_casting\\test\\0_def_front\\cast_def_0_4134.jpeg: 224x224 Defect 1.00, OK 0.00, 3.9ms\n",
      "image 467/592 C:\\Users\\User\\OneDrive\\Documents\\Programming\\metal_cast_detection\\notebooks\\model_training\\datasets\\metal_casting\\test\\0_def_front\\cast_def_0_4137.jpeg: 224x224 Defect 1.00, OK 0.00, 3.5ms\n",
      "image 468/592 C:\\Users\\User\\OneDrive\\Documents\\Programming\\metal_cast_detection\\notebooks\\model_training\\datasets\\metal_casting\\test\\0_def_front\\cast_def_0_4156.jpeg: 224x224 Defect 1.00, OK 0.00, 4.3ms\n",
      "image 469/592 C:\\Users\\User\\OneDrive\\Documents\\Programming\\metal_cast_detection\\notebooks\\model_training\\datasets\\metal_casting\\test\\0_def_front\\cast_def_0_4160.jpeg: 224x224 Defect 1.00, OK 0.00, 3.5ms\n",
      "image 470/592 C:\\Users\\User\\OneDrive\\Documents\\Programming\\metal_cast_detection\\notebooks\\model_training\\datasets\\metal_casting\\test\\0_def_front\\cast_def_0_4164.jpeg: 224x224 Defect 1.00, OK 0.00, 4.7ms\n",
      "image 471/592 C:\\Users\\User\\OneDrive\\Documents\\Programming\\metal_cast_detection\\notebooks\\model_training\\datasets\\metal_casting\\test\\0_def_front\\cast_def_0_4175.jpeg: 224x224 Defect 1.00, OK 0.00, 3.6ms\n",
      "image 472/592 C:\\Users\\User\\OneDrive\\Documents\\Programming\\metal_cast_detection\\notebooks\\model_training\\datasets\\metal_casting\\test\\0_def_front\\cast_def_0_4186.jpeg: 224x224 Defect 1.00, OK 0.00, 3.6ms\n",
      "image 473/592 C:\\Users\\User\\OneDrive\\Documents\\Programming\\metal_cast_detection\\notebooks\\model_training\\datasets\\metal_casting\\test\\0_def_front\\cast_def_0_4198.jpeg: 224x224 Defect 1.00, OK 0.00, 4.1ms\n",
      "image 474/592 C:\\Users\\User\\OneDrive\\Documents\\Programming\\metal_cast_detection\\notebooks\\model_training\\datasets\\metal_casting\\test\\0_def_front\\cast_def_0_432.jpeg: 224x224 Defect 1.00, OK 0.00, 3.8ms\n",
      "image 475/592 C:\\Users\\User\\OneDrive\\Documents\\Programming\\metal_cast_detection\\notebooks\\model_training\\datasets\\metal_casting\\test\\0_def_front\\cast_def_0_434.jpeg: 224x224 Defect 1.00, OK 0.00, 3.6ms\n",
      "image 476/592 C:\\Users\\User\\OneDrive\\Documents\\Programming\\metal_cast_detection\\notebooks\\model_training\\datasets\\metal_casting\\test\\0_def_front\\cast_def_0_436.jpeg: 224x224 Defect 1.00, OK 0.00, 4.0ms\n",
      "image 477/592 C:\\Users\\User\\OneDrive\\Documents\\Programming\\metal_cast_detection\\notebooks\\model_training\\datasets\\metal_casting\\test\\0_def_front\\cast_def_0_437.jpeg: 224x224 Defect 1.00, OK 0.00, 3.8ms\n",
      "image 478/592 C:\\Users\\User\\OneDrive\\Documents\\Programming\\metal_cast_detection\\notebooks\\model_training\\datasets\\metal_casting\\test\\0_def_front\\cast_def_0_439.jpeg: 224x224 Defect 1.00, OK 0.00, 3.7ms\n",
      "image 479/592 C:\\Users\\User\\OneDrive\\Documents\\Programming\\metal_cast_detection\\notebooks\\model_training\\datasets\\metal_casting\\test\\0_def_front\\cast_def_0_441.jpeg: 224x224 Defect 1.00, OK 0.00, 4.4ms\n",
      "image 480/592 C:\\Users\\User\\OneDrive\\Documents\\Programming\\metal_cast_detection\\notebooks\\model_training\\datasets\\metal_casting\\test\\0_def_front\\cast_def_0_442.jpeg: 224x224 Defect 1.00, OK 0.00, 4.6ms\n",
      "image 481/592 C:\\Users\\User\\OneDrive\\Documents\\Programming\\metal_cast_detection\\notebooks\\model_training\\datasets\\metal_casting\\test\\0_def_front\\cast_def_0_450.jpeg: 224x224 Defect 1.00, OK 0.00, 4.7ms\n",
      "image 482/592 C:\\Users\\User\\OneDrive\\Documents\\Programming\\metal_cast_detection\\notebooks\\model_training\\datasets\\metal_casting\\test\\0_def_front\\cast_def_0_455.jpeg: 224x224 Defect 1.00, OK 0.00, 4.4ms\n",
      "image 483/592 C:\\Users\\User\\OneDrive\\Documents\\Programming\\metal_cast_detection\\notebooks\\model_training\\datasets\\metal_casting\\test\\0_def_front\\cast_def_0_456.jpeg: 224x224 Defect 1.00, OK 0.00, 4.1ms\n",
      "image 484/592 C:\\Users\\User\\OneDrive\\Documents\\Programming\\metal_cast_detection\\notebooks\\model_training\\datasets\\metal_casting\\test\\0_def_front\\cast_def_0_457.jpeg: 224x224 Defect 1.00, OK 0.00, 4.3ms\n",
      "image 485/592 C:\\Users\\User\\OneDrive\\Documents\\Programming\\metal_cast_detection\\notebooks\\model_training\\datasets\\metal_casting\\test\\0_def_front\\cast_def_0_459.jpeg: 224x224 Defect 1.00, OK 0.00, 3.8ms\n",
      "image 486/592 C:\\Users\\User\\OneDrive\\Documents\\Programming\\metal_cast_detection\\notebooks\\model_training\\datasets\\metal_casting\\test\\0_def_front\\cast_def_0_460.jpeg: 224x224 Defect 1.00, OK 0.00, 5.8ms\n",
      "image 487/592 C:\\Users\\User\\OneDrive\\Documents\\Programming\\metal_cast_detection\\notebooks\\model_training\\datasets\\metal_casting\\test\\0_def_front\\cast_def_0_461.jpeg: 224x224 Defect 1.00, OK 0.00, 4.3ms\n",
      "image 488/592 C:\\Users\\User\\OneDrive\\Documents\\Programming\\metal_cast_detection\\notebooks\\model_training\\datasets\\metal_casting\\test\\0_def_front\\cast_def_0_462.jpeg: 224x224 Defect 1.00, OK 0.00, 4.9ms\n",
      "image 489/592 C:\\Users\\User\\OneDrive\\Documents\\Programming\\metal_cast_detection\\notebooks\\model_training\\datasets\\metal_casting\\test\\0_def_front\\cast_def_0_468.jpeg: 224x224 Defect 1.00, OK 0.00, 6.9ms\n",
      "image 490/592 C:\\Users\\User\\OneDrive\\Documents\\Programming\\metal_cast_detection\\notebooks\\model_training\\datasets\\metal_casting\\test\\0_def_front\\cast_def_0_480.jpeg: 224x224 Defect 1.00, OK 0.00, 6.0ms\n",
      "image 491/592 C:\\Users\\User\\OneDrive\\Documents\\Programming\\metal_cast_detection\\notebooks\\model_training\\datasets\\metal_casting\\test\\0_def_front\\cast_def_0_483.jpeg: 224x224 Defect 1.00, OK 0.00, 5.4ms\n",
      "image 492/592 C:\\Users\\User\\OneDrive\\Documents\\Programming\\metal_cast_detection\\notebooks\\model_training\\datasets\\metal_casting\\test\\0_def_front\\cast_def_0_485.jpeg: 224x224 Defect 1.00, OK 0.00, 5.4ms\n",
      "image 493/592 C:\\Users\\User\\OneDrive\\Documents\\Programming\\metal_cast_detection\\notebooks\\model_training\\datasets\\metal_casting\\test\\0_def_front\\cast_def_0_486.jpeg: 224x224 Defect 1.00, OK 0.00, 6.0ms\n",
      "image 494/592 C:\\Users\\User\\OneDrive\\Documents\\Programming\\metal_cast_detection\\notebooks\\model_training\\datasets\\metal_casting\\test\\0_def_front\\cast_def_0_49.jpeg: 224x224 Defect 1.00, OK 0.00, 12.5ms\n",
      "image 495/592 C:\\Users\\User\\OneDrive\\Documents\\Programming\\metal_cast_detection\\notebooks\\model_training\\datasets\\metal_casting\\test\\0_def_front\\cast_def_0_490.jpeg: 224x224 Defect 1.00, OK 0.00, 5.0ms\n",
      "image 496/592 C:\\Users\\User\\OneDrive\\Documents\\Programming\\metal_cast_detection\\notebooks\\model_training\\datasets\\metal_casting\\test\\0_def_front\\cast_def_0_491.jpeg: 224x224 Defect 1.00, OK 0.00, 7.1ms\n",
      "image 497/592 C:\\Users\\User\\OneDrive\\Documents\\Programming\\metal_cast_detection\\notebooks\\model_training\\datasets\\metal_casting\\test\\0_def_front\\cast_def_0_495.jpeg: 224x224 Defect 1.00, OK 0.00, 4.0ms\n",
      "image 498/592 C:\\Users\\User\\OneDrive\\Documents\\Programming\\metal_cast_detection\\notebooks\\model_training\\datasets\\metal_casting\\test\\0_def_front\\cast_def_0_496.jpeg: 224x224 Defect 1.00, OK 0.00, 4.6ms\n",
      "image 499/592 C:\\Users\\User\\OneDrive\\Documents\\Programming\\metal_cast_detection\\notebooks\\model_training\\datasets\\metal_casting\\test\\0_def_front\\cast_def_0_499.jpeg: 224x224 Defect 1.00, OK 0.00, 5.2ms\n",
      "image 500/592 C:\\Users\\User\\OneDrive\\Documents\\Programming\\metal_cast_detection\\notebooks\\model_training\\datasets\\metal_casting\\test\\0_def_front\\cast_def_0_500.jpeg: 224x224 Defect 1.00, OK 0.00, 3.5ms\n",
      "image 501/592 C:\\Users\\User\\OneDrive\\Documents\\Programming\\metal_cast_detection\\notebooks\\model_training\\datasets\\metal_casting\\test\\0_def_front\\cast_def_0_501.jpeg: 224x224 Defect 1.00, OK 0.00, 4.2ms\n",
      "image 502/592 C:\\Users\\User\\OneDrive\\Documents\\Programming\\metal_cast_detection\\notebooks\\model_training\\datasets\\metal_casting\\test\\0_def_front\\cast_def_0_504.jpeg: 224x224 Defect 1.00, OK 0.00, 4.2ms\n",
      "image 503/592 C:\\Users\\User\\OneDrive\\Documents\\Programming\\metal_cast_detection\\notebooks\\model_training\\datasets\\metal_casting\\test\\0_def_front\\cast_def_0_505.jpeg: 224x224 Defect 1.00, OK 0.00, 6.4ms\n",
      "image 504/592 C:\\Users\\User\\OneDrive\\Documents\\Programming\\metal_cast_detection\\notebooks\\model_training\\datasets\\metal_casting\\test\\0_def_front\\cast_def_0_506.jpeg: 224x224 Defect 1.00, OK 0.00, 4.7ms\n",
      "image 505/592 C:\\Users\\User\\OneDrive\\Documents\\Programming\\metal_cast_detection\\notebooks\\model_training\\datasets\\metal_casting\\test\\0_def_front\\cast_def_0_507.jpeg: 224x224 Defect 1.00, OK 0.00, 5.7ms\n",
      "image 506/592 C:\\Users\\User\\OneDrive\\Documents\\Programming\\metal_cast_detection\\notebooks\\model_training\\datasets\\metal_casting\\test\\0_def_front\\cast_def_0_514.jpeg: 224x224 Defect 1.00, OK 0.00, 3.8ms\n",
      "image 507/592 C:\\Users\\User\\OneDrive\\Documents\\Programming\\metal_cast_detection\\notebooks\\model_training\\datasets\\metal_casting\\test\\0_def_front\\cast_def_0_515.jpeg: 224x224 Defect 1.00, OK 0.00, 3.9ms\n",
      "image 508/592 C:\\Users\\User\\OneDrive\\Documents\\Programming\\metal_cast_detection\\notebooks\\model_training\\datasets\\metal_casting\\test\\0_def_front\\cast_def_0_519.jpeg: 224x224 Defect 1.00, OK 0.00, 5.7ms\n",
      "image 509/592 C:\\Users\\User\\OneDrive\\Documents\\Programming\\metal_cast_detection\\notebooks\\model_training\\datasets\\metal_casting\\test\\0_def_front\\cast_def_0_520.jpeg: 224x224 Defect 1.00, OK 0.00, 4.0ms\n",
      "image 510/592 C:\\Users\\User\\OneDrive\\Documents\\Programming\\metal_cast_detection\\notebooks\\model_training\\datasets\\metal_casting\\test\\0_def_front\\cast_def_0_5251.jpeg: 224x224 Defect 1.00, OK 0.00, 4.1ms\n",
      "image 511/592 C:\\Users\\User\\OneDrive\\Documents\\Programming\\metal_cast_detection\\notebooks\\model_training\\datasets\\metal_casting\\test\\0_def_front\\cast_def_0_5289.jpeg: 224x224 Defect 1.00, OK 0.00, 3.2ms\n",
      "image 512/592 C:\\Users\\User\\OneDrive\\Documents\\Programming\\metal_cast_detection\\notebooks\\model_training\\datasets\\metal_casting\\test\\0_def_front\\cast_def_0_5297.jpeg: 224x224 Defect 1.00, OK 0.00, 4.0ms\n",
      "image 513/592 C:\\Users\\User\\OneDrive\\Documents\\Programming\\metal_cast_detection\\notebooks\\model_training\\datasets\\metal_casting\\test\\0_def_front\\cast_def_0_5302.jpeg: 224x224 Defect 1.00, OK 0.00, 3.7ms\n",
      "image 514/592 C:\\Users\\User\\OneDrive\\Documents\\Programming\\metal_cast_detection\\notebooks\\model_training\\datasets\\metal_casting\\test\\0_def_front\\cast_def_0_531.jpeg: 224x224 Defect 1.00, OK 0.00, 3.3ms\n",
      "image 515/592 C:\\Users\\User\\OneDrive\\Documents\\Programming\\metal_cast_detection\\notebooks\\model_training\\datasets\\metal_casting\\test\\0_def_front\\cast_def_0_532.jpeg: 224x224 Defect 1.00, OK 0.00, 3.5ms\n",
      "image 516/592 C:\\Users\\User\\OneDrive\\Documents\\Programming\\metal_cast_detection\\notebooks\\model_training\\datasets\\metal_casting\\test\\0_def_front\\cast_def_0_534.jpeg: 224x224 Defect 1.00, OK 0.00, 3.6ms\n",
      "image 517/592 C:\\Users\\User\\OneDrive\\Documents\\Programming\\metal_cast_detection\\notebooks\\model_training\\datasets\\metal_casting\\test\\0_def_front\\cast_def_0_535.jpeg: 224x224 Defect 1.00, OK 0.00, 3.1ms\n",
      "image 518/592 C:\\Users\\User\\OneDrive\\Documents\\Programming\\metal_cast_detection\\notebooks\\model_training\\datasets\\metal_casting\\test\\0_def_front\\cast_def_0_536.jpeg: 224x224 Defect 1.00, OK 0.00, 3.6ms\n",
      "image 519/592 C:\\Users\\User\\OneDrive\\Documents\\Programming\\metal_cast_detection\\notebooks\\model_training\\datasets\\metal_casting\\test\\0_def_front\\cast_def_0_537.jpeg: 224x224 Defect 1.00, OK 0.00, 4.1ms\n",
      "image 520/592 C:\\Users\\User\\OneDrive\\Documents\\Programming\\metal_cast_detection\\notebooks\\model_training\\datasets\\metal_casting\\test\\0_def_front\\cast_def_0_538.jpeg: 224x224 Defect 1.00, OK 0.00, 3.7ms\n",
      "image 521/592 C:\\Users\\User\\OneDrive\\Documents\\Programming\\metal_cast_detection\\notebooks\\model_training\\datasets\\metal_casting\\test\\0_def_front\\cast_def_0_549.jpeg: 224x224 Defect 1.00, OK 0.00, 3.8ms\n",
      "image 522/592 C:\\Users\\User\\OneDrive\\Documents\\Programming\\metal_cast_detection\\notebooks\\model_training\\datasets\\metal_casting\\test\\0_def_front\\cast_def_0_551.jpeg: 224x224 Defect 1.00, OK 0.00, 3.6ms\n",
      "image 523/592 C:\\Users\\User\\OneDrive\\Documents\\Programming\\metal_cast_detection\\notebooks\\model_training\\datasets\\metal_casting\\test\\0_def_front\\cast_def_0_552.jpeg: 224x224 Defect 1.00, OK 0.00, 3.5ms\n",
      "image 524/592 C:\\Users\\User\\OneDrive\\Documents\\Programming\\metal_cast_detection\\notebooks\\model_training\\datasets\\metal_casting\\test\\0_def_front\\cast_def_0_555.jpeg: 224x224 Defect 1.00, OK 0.00, 3.2ms\n",
      "image 525/592 C:\\Users\\User\\OneDrive\\Documents\\Programming\\metal_cast_detection\\notebooks\\model_training\\datasets\\metal_casting\\test\\0_def_front\\cast_def_0_558.jpeg: 224x224 Defect 1.00, OK 0.00, 4.1ms\n",
      "image 526/592 C:\\Users\\User\\OneDrive\\Documents\\Programming\\metal_cast_detection\\notebooks\\model_training\\datasets\\metal_casting\\test\\0_def_front\\cast_def_0_560.jpeg: 224x224 Defect 1.00, OK 0.00, 3.6ms\n",
      "image 527/592 C:\\Users\\User\\OneDrive\\Documents\\Programming\\metal_cast_detection\\notebooks\\model_training\\datasets\\metal_casting\\test\\0_def_front\\cast_def_0_564.jpeg: 224x224 Defect 1.00, OK 0.00, 4.1ms\n",
      "image 528/592 C:\\Users\\User\\OneDrive\\Documents\\Programming\\metal_cast_detection\\notebooks\\model_training\\datasets\\metal_casting\\test\\0_def_front\\cast_def_0_586.jpeg: 224x224 Defect 1.00, OK 0.00, 3.4ms\n",
      "image 529/592 C:\\Users\\User\\OneDrive\\Documents\\Programming\\metal_cast_detection\\notebooks\\model_training\\datasets\\metal_casting\\test\\0_def_front\\cast_def_0_588.jpeg: 224x224 Defect 1.00, OK 0.00, 3.9ms\n",
      "image 530/592 C:\\Users\\User\\OneDrive\\Documents\\Programming\\metal_cast_detection\\notebooks\\model_training\\datasets\\metal_casting\\test\\0_def_front\\cast_def_0_589.jpeg: 224x224 Defect 1.00, OK 0.00, 3.8ms\n",
      "image 531/592 C:\\Users\\User\\OneDrive\\Documents\\Programming\\metal_cast_detection\\notebooks\\model_training\\datasets\\metal_casting\\test\\0_def_front\\cast_def_0_590.jpeg: 224x224 Defect 1.00, OK 0.00, 4.0ms\n",
      "image 532/592 C:\\Users\\User\\OneDrive\\Documents\\Programming\\metal_cast_detection\\notebooks\\model_training\\datasets\\metal_casting\\test\\0_def_front\\cast_def_0_591.jpeg: 224x224 Defect 1.00, OK 0.00, 3.4ms\n",
      "image 533/592 C:\\Users\\User\\OneDrive\\Documents\\Programming\\metal_cast_detection\\notebooks\\model_training\\datasets\\metal_casting\\test\\0_def_front\\cast_def_0_592.jpeg: 224x224 Defect 1.00, OK 0.00, 3.9ms\n",
      "image 534/592 C:\\Users\\User\\OneDrive\\Documents\\Programming\\metal_cast_detection\\notebooks\\model_training\\datasets\\metal_casting\\test\\0_def_front\\cast_def_0_594.jpeg: 224x224 Defect 1.00, OK 0.00, 3.1ms\n",
      "image 535/592 C:\\Users\\User\\OneDrive\\Documents\\Programming\\metal_cast_detection\\notebooks\\model_training\\datasets\\metal_casting\\test\\0_def_front\\cast_def_0_61.jpeg: 224x224 Defect 1.00, OK 0.00, 3.4ms\n",
      "image 536/592 C:\\Users\\User\\OneDrive\\Documents\\Programming\\metal_cast_detection\\notebooks\\model_training\\datasets\\metal_casting\\test\\0_def_front\\cast_def_0_616.jpeg: 224x224 Defect 1.00, OK 0.00, 3.3ms\n",
      "image 537/592 C:\\Users\\User\\OneDrive\\Documents\\Programming\\metal_cast_detection\\notebooks\\model_training\\datasets\\metal_casting\\test\\0_def_front\\cast_def_0_617.jpeg: 224x224 Defect 1.00, OK 0.00, 3.8ms\n",
      "image 538/592 C:\\Users\\User\\OneDrive\\Documents\\Programming\\metal_cast_detection\\notebooks\\model_training\\datasets\\metal_casting\\test\\0_def_front\\cast_def_0_618.jpeg: 224x224 Defect 1.00, OK 0.00, 4.7ms\n",
      "image 539/592 C:\\Users\\User\\OneDrive\\Documents\\Programming\\metal_cast_detection\\notebooks\\model_training\\datasets\\metal_casting\\test\\0_def_front\\cast_def_0_619.jpeg: 224x224 Defect 1.00, OK 0.00, 4.0ms\n",
      "image 540/592 C:\\Users\\User\\OneDrive\\Documents\\Programming\\metal_cast_detection\\notebooks\\model_training\\datasets\\metal_casting\\test\\0_def_front\\cast_def_0_620.jpeg: 224x224 Defect 1.00, OK 0.00, 3.5ms\n",
      "image 541/592 C:\\Users\\User\\OneDrive\\Documents\\Programming\\metal_cast_detection\\notebooks\\model_training\\datasets\\metal_casting\\test\\0_def_front\\cast_def_0_621.jpeg: 224x224 Defect 1.00, OK 0.00, 2.9ms\n",
      "image 542/592 C:\\Users\\User\\OneDrive\\Documents\\Programming\\metal_cast_detection\\notebooks\\model_training\\datasets\\metal_casting\\test\\0_def_front\\cast_def_0_629.jpeg: 224x224 Defect 1.00, OK 0.00, 4.1ms\n",
      "image 543/592 C:\\Users\\User\\OneDrive\\Documents\\Programming\\metal_cast_detection\\notebooks\\model_training\\datasets\\metal_casting\\test\\0_def_front\\cast_def_0_641.jpeg: 224x224 Defect 1.00, OK 0.00, 3.6ms\n",
      "image 544/592 C:\\Users\\User\\OneDrive\\Documents\\Programming\\metal_cast_detection\\notebooks\\model_training\\datasets\\metal_casting\\test\\0_def_front\\cast_def_0_642.jpeg: 224x224 Defect 1.00, OK 0.00, 3.6ms\n",
      "image 545/592 C:\\Users\\User\\OneDrive\\Documents\\Programming\\metal_cast_detection\\notebooks\\model_training\\datasets\\metal_casting\\test\\0_def_front\\cast_def_0_643.jpeg: 224x224 Defect 1.00, OK 0.00, 3.9ms\n",
      "image 546/592 C:\\Users\\User\\OneDrive\\Documents\\Programming\\metal_cast_detection\\notebooks\\model_training\\datasets\\metal_casting\\test\\0_def_front\\cast_def_0_645.jpeg: 224x224 Defect 1.00, OK 0.00, 3.8ms\n",
      "image 547/592 C:\\Users\\User\\OneDrive\\Documents\\Programming\\metal_cast_detection\\notebooks\\model_training\\datasets\\metal_casting\\test\\0_def_front\\cast_def_0_646.jpeg: 224x224 Defect 1.00, OK 0.00, 4.0ms\n",
      "image 548/592 C:\\Users\\User\\OneDrive\\Documents\\Programming\\metal_cast_detection\\notebooks\\model_training\\datasets\\metal_casting\\test\\0_def_front\\cast_def_0_647.jpeg: 224x224 Defect 1.00, OK 0.00, 3.8ms\n",
      "image 549/592 C:\\Users\\User\\OneDrive\\Documents\\Programming\\metal_cast_detection\\notebooks\\model_training\\datasets\\metal_casting\\test\\0_def_front\\cast_def_0_648.jpeg: 224x224 Defect 1.00, OK 0.00, 3.9ms\n",
      "image 550/592 C:\\Users\\User\\OneDrive\\Documents\\Programming\\metal_cast_detection\\notebooks\\model_training\\datasets\\metal_casting\\test\\0_def_front\\cast_def_0_65.jpeg: 224x224 Defect 1.00, OK 0.00, 4.1ms\n",
      "image 551/592 C:\\Users\\User\\OneDrive\\Documents\\Programming\\metal_cast_detection\\notebooks\\model_training\\datasets\\metal_casting\\test\\0_def_front\\cast_def_0_656.jpeg: 224x224 Defect 1.00, OK 0.00, 3.9ms\n",
      "image 552/592 C:\\Users\\User\\OneDrive\\Documents\\Programming\\metal_cast_detection\\notebooks\\model_training\\datasets\\metal_casting\\test\\0_def_front\\cast_def_0_659.jpeg: 224x224 Defect 1.00, OK 0.00, 3.9ms\n",
      "image 553/592 C:\\Users\\User\\OneDrive\\Documents\\Programming\\metal_cast_detection\\notebooks\\model_training\\datasets\\metal_casting\\test\\0_def_front\\cast_def_0_661.jpeg: 224x224 Defect 1.00, OK 0.00, 3.9ms\n",
      "image 554/592 C:\\Users\\User\\OneDrive\\Documents\\Programming\\metal_cast_detection\\notebooks\\model_training\\datasets\\metal_casting\\test\\0_def_front\\cast_def_0_662.jpeg: 224x224 Defect 1.00, OK 0.00, 4.2ms\n",
      "image 555/592 C:\\Users\\User\\OneDrive\\Documents\\Programming\\metal_cast_detection\\notebooks\\model_training\\datasets\\metal_casting\\test\\0_def_front\\cast_def_0_663.jpeg: 224x224 Defect 1.00, OK 0.00, 3.6ms\n",
      "image 556/592 C:\\Users\\User\\OneDrive\\Documents\\Programming\\metal_cast_detection\\notebooks\\model_training\\datasets\\metal_casting\\test\\0_def_front\\cast_def_0_666.jpeg: 224x224 Defect 1.00, OK 0.00, 3.8ms\n",
      "image 557/592 C:\\Users\\User\\OneDrive\\Documents\\Programming\\metal_cast_detection\\notebooks\\model_training\\datasets\\metal_casting\\test\\0_def_front\\cast_def_0_669.jpeg: 224x224 Defect 1.00, OK 0.00, 3.8ms\n",
      "image 558/592 C:\\Users\\User\\OneDrive\\Documents\\Programming\\metal_cast_detection\\notebooks\\model_training\\datasets\\metal_casting\\test\\0_def_front\\cast_def_0_67.jpeg: 224x224 Defect 1.00, OK 0.00, 5.1ms\n",
      "image 559/592 C:\\Users\\User\\OneDrive\\Documents\\Programming\\metal_cast_detection\\notebooks\\model_training\\datasets\\metal_casting\\test\\0_def_front\\cast_def_0_7.jpeg: 224x224 Defect 1.00, OK 0.00, 3.7ms\n",
      "image 560/592 C:\\Users\\User\\OneDrive\\Documents\\Programming\\metal_cast_detection\\notebooks\\model_training\\datasets\\metal_casting\\test\\0_def_front\\cast_def_0_703.jpeg: 224x224 Defect 1.00, OK 0.00, 3.8ms\n",
      "image 561/592 C:\\Users\\User\\OneDrive\\Documents\\Programming\\metal_cast_detection\\notebooks\\model_training\\datasets\\metal_casting\\test\\0_def_front\\cast_def_0_708.jpeg: 224x224 Defect 1.00, OK 0.00, 3.4ms\n",
      "image 562/592 C:\\Users\\User\\OneDrive\\Documents\\Programming\\metal_cast_detection\\notebooks\\model_training\\datasets\\metal_casting\\test\\0_def_front\\cast_def_0_715.jpeg: 224x224 Defect 1.00, OK 0.00, 3.5ms\n",
      "image 563/592 C:\\Users\\User\\OneDrive\\Documents\\Programming\\metal_cast_detection\\notebooks\\model_training\\datasets\\metal_casting\\test\\0_def_front\\cast_def_0_717.jpeg: 224x224 Defect 1.00, OK 0.00, 3.3ms\n",
      "image 564/592 C:\\Users\\User\\OneDrive\\Documents\\Programming\\metal_cast_detection\\notebooks\\model_training\\datasets\\metal_casting\\test\\0_def_front\\cast_def_0_7241.jpeg: 224x224 Defect 1.00, OK 0.00, 3.9ms\n",
      "image 565/592 C:\\Users\\User\\OneDrive\\Documents\\Programming\\metal_cast_detection\\notebooks\\model_training\\datasets\\metal_casting\\test\\0_def_front\\cast_def_0_7271.jpeg: 224x224 Defect 1.00, OK 0.00, 3.5ms\n",
      "image 566/592 C:\\Users\\User\\OneDrive\\Documents\\Programming\\metal_cast_detection\\notebooks\\model_training\\datasets\\metal_casting\\test\\0_def_front\\cast_def_0_732.jpeg: 224x224 Defect 1.00, OK 0.00, 3.7ms\n",
      "image 567/592 C:\\Users\\User\\OneDrive\\Documents\\Programming\\metal_cast_detection\\notebooks\\model_training\\datasets\\metal_casting\\test\\0_def_front\\cast_def_0_7442.jpeg: 224x224 Defect 1.00, OK 0.00, 3.8ms\n",
      "image 568/592 C:\\Users\\User\\OneDrive\\Documents\\Programming\\metal_cast_detection\\notebooks\\model_training\\datasets\\metal_casting\\test\\0_def_front\\cast_def_0_7454.jpeg: 224x224 Defect 1.00, OK 0.00, 3.7ms\n",
      "image 569/592 C:\\Users\\User\\OneDrive\\Documents\\Programming\\metal_cast_detection\\notebooks\\model_training\\datasets\\metal_casting\\test\\0_def_front\\cast_def_0_7468.jpeg: 224x224 Defect 1.00, OK 0.00, 3.9ms\n",
      "image 570/592 C:\\Users\\User\\OneDrive\\Documents\\Programming\\metal_cast_detection\\notebooks\\model_training\\datasets\\metal_casting\\test\\0_def_front\\cast_def_0_7481.jpeg: 224x224 Defect 1.00, OK 0.00, 3.4ms\n",
      "image 571/592 C:\\Users\\User\\OneDrive\\Documents\\Programming\\metal_cast_detection\\notebooks\\model_training\\datasets\\metal_casting\\test\\0_def_front\\cast_def_0_7596.jpeg: 224x224 Defect 1.00, OK 0.00, 3.5ms\n",
      "image 572/592 C:\\Users\\User\\OneDrive\\Documents\\Programming\\metal_cast_detection\\notebooks\\model_training\\datasets\\metal_casting\\test\\0_def_front\\cast_def_0_7653.jpeg: 224x224 Defect 1.00, OK 0.00, 4.6ms\n",
      "image 573/592 C:\\Users\\User\\OneDrive\\Documents\\Programming\\metal_cast_detection\\notebooks\\model_training\\datasets\\metal_casting\\test\\0_def_front\\cast_def_0_7659.jpeg: 224x224 Defect 1.00, OK 0.00, 3.6ms\n",
      "image 574/592 C:\\Users\\User\\OneDrive\\Documents\\Programming\\metal_cast_detection\\notebooks\\model_training\\datasets\\metal_casting\\test\\0_def_front\\cast_def_0_811.jpeg: 224x224 Defect 1.00, OK 0.00, 4.2ms\n",
      "image 575/592 C:\\Users\\User\\OneDrive\\Documents\\Programming\\metal_cast_detection\\notebooks\\model_training\\datasets\\metal_casting\\test\\0_def_front\\cast_def_0_829.jpeg: 224x224 Defect 1.00, OK 0.00, 3.7ms\n",
      "image 576/592 C:\\Users\\User\\OneDrive\\Documents\\Programming\\metal_cast_detection\\notebooks\\model_training\\datasets\\metal_casting\\test\\0_def_front\\cast_def_0_831.jpeg: 224x224 Defect 1.00, OK 0.00, 4.4ms\n",
      "image 577/592 C:\\Users\\User\\OneDrive\\Documents\\Programming\\metal_cast_detection\\notebooks\\model_training\\datasets\\metal_casting\\test\\0_def_front\\cast_def_0_849.jpeg: 224x224 Defect 1.00, OK 0.00, 3.6ms\n",
      "image 578/592 C:\\Users\\User\\OneDrive\\Documents\\Programming\\metal_cast_detection\\notebooks\\model_training\\datasets\\metal_casting\\test\\0_def_front\\cast_def_0_85.jpeg: 224x224 Defect 1.00, OK 0.00, 3.4ms\n",
      "image 579/592 C:\\Users\\User\\OneDrive\\Documents\\Programming\\metal_cast_detection\\notebooks\\model_training\\datasets\\metal_casting\\test\\0_def_front\\cast_def_0_87.jpeg: 224x224 Defect 1.00, OK 0.00, 3.7ms\n",
      "image 580/592 C:\\Users\\User\\OneDrive\\Documents\\Programming\\metal_cast_detection\\notebooks\\model_training\\datasets\\metal_casting\\test\\0_def_front\\cast_def_0_88.jpeg: 224x224 Defect 1.00, OK 0.00, 3.3ms\n",
      "image 581/592 C:\\Users\\User\\OneDrive\\Documents\\Programming\\metal_cast_detection\\notebooks\\model_training\\datasets\\metal_casting\\test\\0_def_front\\cast_def_0_9270.jpeg: 224x224 Defect 1.00, OK 0.00, 3.8ms\n",
      "image 582/592 C:\\Users\\User\\OneDrive\\Documents\\Programming\\metal_cast_detection\\notebooks\\model_training\\datasets\\metal_casting\\test\\0_def_front\\cast_def_0_939.jpeg: 224x224 Defect 1.00, OK 0.00, 3.5ms\n",
      "image 583/592 C:\\Users\\User\\OneDrive\\Documents\\Programming\\metal_cast_detection\\notebooks\\model_training\\datasets\\metal_casting\\test\\0_def_front\\cast_def_0_9747.jpeg: 224x224 Defect 1.00, OK 0.00, 3.3ms\n",
      "image 584/592 C:\\Users\\User\\OneDrive\\Documents\\Programming\\metal_cast_detection\\notebooks\\model_training\\datasets\\metal_casting\\test\\0_def_front\\cast_def_0_9751.jpeg: 224x224 Defect 1.00, OK 0.00, 3.4ms\n",
      "image 585/592 C:\\Users\\User\\OneDrive\\Documents\\Programming\\metal_cast_detection\\notebooks\\model_training\\datasets\\metal_casting\\test\\0_def_front\\cast_def_0_9758.jpeg: 224x224 Defect 1.00, OK 0.00, 3.5ms\n",
      "image 586/592 C:\\Users\\User\\OneDrive\\Documents\\Programming\\metal_cast_detection\\notebooks\\model_training\\datasets\\metal_casting\\test\\0_def_front\\cast_def_0_983.jpeg: 224x224 Defect 1.00, OK 0.00, 5.0ms\n",
      "image 587/592 C:\\Users\\User\\OneDrive\\Documents\\Programming\\metal_cast_detection\\notebooks\\model_training\\datasets\\metal_casting\\test\\0_def_front\\cast_def_0_9921.jpeg: 224x224 Defect 1.00, OK 0.00, 3.5ms\n",
      "image 588/592 C:\\Users\\User\\OneDrive\\Documents\\Programming\\metal_cast_detection\\notebooks\\model_training\\datasets\\metal_casting\\test\\0_def_front\\cast_def_0_9925.jpeg: 224x224 Defect 1.00, OK 0.00, 5.9ms\n",
      "image 589/592 C:\\Users\\User\\OneDrive\\Documents\\Programming\\metal_cast_detection\\notebooks\\model_training\\datasets\\metal_casting\\test\\0_def_front\\cast_def_0_9927.jpeg: 224x224 Defect 1.00, OK 0.00, 3.6ms\n",
      "image 590/592 C:\\Users\\User\\OneDrive\\Documents\\Programming\\metal_cast_detection\\notebooks\\model_training\\datasets\\metal_casting\\test\\0_def_front\\cast_def_0_9960.jpeg: 224x224 Defect 1.00, OK 0.00, 3.6ms\n",
      "image 591/592 C:\\Users\\User\\OneDrive\\Documents\\Programming\\metal_cast_detection\\notebooks\\model_training\\datasets\\metal_casting\\test\\0_def_front\\cast_def_0_9969.jpeg: 224x224 Defect 1.00, OK 0.00, 3.8ms\n",
      "image 592/592 C:\\Users\\User\\OneDrive\\Documents\\Programming\\metal_cast_detection\\notebooks\\model_training\\datasets\\metal_casting\\test\\0_def_front\\cast_def_0_9991.jpeg: 224x224 Defect 1.00, OK 0.00, 3.6ms\n",
      "Speed: 2.0ms preprocess, 4.0ms inference, 0.0ms postprocess per image at shape (1, 3, 224, 224)\n",
      "Results saved to \u001b[1mruns\\classify\\predict37\u001b[0m\n",
      "     name  class  confidence\n",
      "0  Defect      0     0.99904\n",
      "     name  class  confidence\n",
      "0  Defect      0         1.0\n",
      "     name  class  confidence\n",
      "0  Defect      0         1.0\n",
      "     name  class  confidence\n",
      "0  Defect      0         1.0\n",
      "     name  class  confidence\n",
      "0  Defect      0         1.0\n",
      "     name  class  confidence\n",
      "0  Defect      0         1.0\n",
      "     name  class  confidence\n",
      "0  Defect      0         1.0\n",
      "     name  class  confidence\n",
      "0  Defect      0         1.0\n",
      "     name  class  confidence\n",
      "0  Defect      0     0.99993\n",
      "     name  class  confidence\n",
      "0  Defect      0         1.0\n",
      "     name  class  confidence\n",
      "0  Defect      0         1.0\n",
      "     name  class  confidence\n",
      "0  Defect      0         1.0\n",
      "     name  class  confidence\n",
      "0  Defect      0     0.99991\n",
      "     name  class  confidence\n",
      "0  Defect      0         1.0\n",
      "     name  class  confidence\n",
      "0  Defect      0         1.0\n",
      "     name  class  confidence\n",
      "0  Defect      0     0.99958\n",
      "     name  class  confidence\n",
      "0  Defect      0         1.0\n",
      "     name  class  confidence\n",
      "0  Defect      0         1.0\n",
      "     name  class  confidence\n",
      "0  Defect      0     0.99998\n",
      "     name  class  confidence\n",
      "0  Defect      0         1.0\n",
      "     name  class  confidence\n",
      "0  Defect      0         1.0\n",
      "     name  class  confidence\n",
      "0  Defect      0         1.0\n",
      "     name  class  confidence\n",
      "0  Defect      0     0.99998\n",
      "     name  class  confidence\n",
      "0  Defect      0     0.99999\n",
      "     name  class  confidence\n",
      "0  Defect      0         1.0\n",
      "     name  class  confidence\n",
      "0  Defect      0     0.99998\n",
      "     name  class  confidence\n",
      "0  Defect      0     0.99999\n",
      "     name  class  confidence\n",
      "0  Defect      0         1.0\n",
      "     name  class  confidence\n",
      "0  Defect      0         1.0\n",
      "     name  class  confidence\n",
      "0  Defect      0         1.0\n",
      "     name  class  confidence\n",
      "0  Defect      0         1.0\n",
      "     name  class  confidence\n",
      "0  Defect      0         1.0\n",
      "     name  class  confidence\n",
      "0  Defect      0         1.0\n",
      "     name  class  confidence\n",
      "0  Defect      0         1.0\n",
      "     name  class  confidence\n",
      "0  Defect      0         1.0\n",
      "     name  class  confidence\n",
      "0  Defect      0     0.99998\n",
      "     name  class  confidence\n",
      "0  Defect      0     0.99998\n",
      "     name  class  confidence\n",
      "0  Defect      0     0.99991\n",
      "     name  class  confidence\n",
      "0  Defect      0         1.0\n",
      "     name  class  confidence\n",
      "0  Defect      0     0.99997\n",
      "     name  class  confidence\n",
      "0  Defect      0         1.0\n",
      "     name  class  confidence\n",
      "0  Defect      0         1.0\n",
      "     name  class  confidence\n",
      "0  Defect      0         1.0\n",
      "     name  class  confidence\n",
      "0  Defect      0         1.0\n",
      "     name  class  confidence\n",
      "0  Defect      0         1.0\n",
      "     name  class  confidence\n",
      "0  Defect      0         1.0\n",
      "     name  class  confidence\n",
      "0  Defect      0         1.0\n",
      "     name  class  confidence\n",
      "0  Defect      0         1.0\n",
      "     name  class  confidence\n",
      "0  Defect      0         1.0\n",
      "     name  class  confidence\n",
      "0  Defect      0         1.0\n",
      "     name  class  confidence\n",
      "0  Defect      0         1.0\n",
      "     name  class  confidence\n",
      "0  Defect      0         1.0\n",
      "     name  class  confidence\n",
      "0  Defect      0         1.0\n",
      "     name  class  confidence\n",
      "0  Defect      0         1.0\n",
      "     name  class  confidence\n",
      "0  Defect      0     0.99998\n",
      "     name  class  confidence\n",
      "0  Defect      0         1.0\n",
      "     name  class  confidence\n",
      "0  Defect      0         1.0\n",
      "     name  class  confidence\n",
      "0  Defect      0      0.9998\n",
      "     name  class  confidence\n",
      "0  Defect      0         1.0\n",
      "     name  class  confidence\n",
      "0  Defect      0         1.0\n",
      "     name  class  confidence\n",
      "0  Defect      0         1.0\n",
      "     name  class  confidence\n",
      "0  Defect      0         1.0\n",
      "     name  class  confidence\n",
      "0  Defect      0     0.99707\n",
      "     name  class  confidence\n",
      "0  Defect      0         1.0\n",
      "     name  class  confidence\n",
      "0  Defect      0         1.0\n",
      "     name  class  confidence\n",
      "0  Defect      0     0.99997\n",
      "     name  class  confidence\n",
      "0  Defect      0         1.0\n",
      "     name  class  confidence\n",
      "0  Defect      0         1.0\n",
      "     name  class  confidence\n",
      "0  Defect      0         1.0\n",
      "     name  class  confidence\n",
      "0  Defect      0     0.99917\n",
      "     name  class  confidence\n",
      "0  Defect      0         1.0\n",
      "     name  class  confidence\n",
      "0  Defect      0         1.0\n",
      "     name  class  confidence\n",
      "0  Defect      0      0.9999\n",
      "     name  class  confidence\n",
      "0  Defect      0         1.0\n",
      "     name  class  confidence\n",
      "0  Defect      0         1.0\n",
      "     name  class  confidence\n",
      "0  Defect      0     0.99999\n",
      "     name  class  confidence\n",
      "0  Defect      0         1.0\n",
      "     name  class  confidence\n",
      "0  Defect      0         1.0\n",
      "     name  class  confidence\n",
      "0  Defect      0         1.0\n",
      "     name  class  confidence\n",
      "0  Defect      0     0.99996\n",
      "     name  class  confidence\n",
      "0  Defect      0     0.64024\n",
      "     name  class  confidence\n",
      "0  Defect      0         1.0\n",
      "     name  class  confidence\n",
      "0  Defect      0         1.0\n",
      "     name  class  confidence\n",
      "0  Defect      0         1.0\n",
      "     name  class  confidence\n",
      "0  Defect      0         1.0\n",
      "     name  class  confidence\n",
      "0  Defect      0     0.99999\n",
      "     name  class  confidence\n",
      "0  Defect      0         1.0\n",
      "     name  class  confidence\n",
      "0  Defect      0         1.0\n",
      "     name  class  confidence\n",
      "0  Defect      0         1.0\n",
      "     name  class  confidence\n",
      "0  Defect      0         1.0\n",
      "     name  class  confidence\n",
      "0  Defect      0         1.0\n",
      "     name  class  confidence\n",
      "0  Defect      0     0.99986\n",
      "     name  class  confidence\n",
      "0  Defect      0         1.0\n",
      "     name  class  confidence\n",
      "0  Defect      0         1.0\n",
      "     name  class  confidence\n",
      "0  Defect      0     0.99981\n",
      "     name  class  confidence\n",
      "0  Defect      0     0.99992\n",
      "     name  class  confidence\n",
      "0  Defect      0     0.99994\n",
      "     name  class  confidence\n",
      "0  Defect      0         1.0\n",
      "     name  class  confidence\n",
      "0  Defect      0         1.0\n",
      "     name  class  confidence\n",
      "0  Defect      0         1.0\n",
      "     name  class  confidence\n",
      "0  Defect      0         1.0\n",
      "     name  class  confidence\n",
      "0  Defect      0         1.0\n",
      "     name  class  confidence\n",
      "0  Defect      0         1.0\n",
      "     name  class  confidence\n",
      "0  Defect      0         1.0\n",
      "     name  class  confidence\n",
      "0  Defect      0         1.0\n",
      "     name  class  confidence\n",
      "0  Defect      0         1.0\n",
      "     name  class  confidence\n",
      "0  Defect      0     0.99998\n",
      "     name  class  confidence\n",
      "0  Defect      0         1.0\n",
      "     name  class  confidence\n",
      "0  Defect      0         1.0\n",
      "     name  class  confidence\n",
      "0  Defect      0         1.0\n",
      "     name  class  confidence\n",
      "0  Defect      0         1.0\n",
      "     name  class  confidence\n",
      "0  Defect      0         1.0\n",
      "     name  class  confidence\n",
      "0  Defect      0         1.0\n",
      "     name  class  confidence\n",
      "0  Defect      0         1.0\n",
      "     name  class  confidence\n",
      "0  Defect      0         1.0\n",
      "     name  class  confidence\n",
      "0  Defect      0     0.99999\n",
      "     name  class  confidence\n",
      "0  Defect      0         1.0\n",
      "     name  class  confidence\n",
      "0  Defect      0         1.0\n",
      "     name  class  confidence\n",
      "0  Defect      0         1.0\n",
      "     name  class  confidence\n",
      "0  Defect      0      0.9999\n",
      "     name  class  confidence\n",
      "0  Defect      0     0.99999\n",
      "     name  class  confidence\n",
      "0  Defect      0     0.99996\n",
      "  name  class  confidence\n",
      "0   OK      1     0.57827\n",
      "     name  class  confidence\n",
      "0  Defect      0         1.0\n",
      "     name  class  confidence\n",
      "0  Defect      0     0.99984\n",
      "     name  class  confidence\n",
      "0  Defect      0     0.99999\n",
      "     name  class  confidence\n",
      "0  Defect      0         1.0\n",
      "     name  class  confidence\n",
      "0  Defect      0         1.0\n",
      "     name  class  confidence\n",
      "0  Defect      0         1.0\n",
      "     name  class  confidence\n",
      "0  Defect      0     0.99932\n",
      "     name  class  confidence\n",
      "0  Defect      0         1.0\n",
      "     name  class  confidence\n",
      "0  Defect      0     0.99999\n",
      "     name  class  confidence\n",
      "0  Defect      0         1.0\n",
      "     name  class  confidence\n",
      "0  Defect      0         1.0\n",
      "     name  class  confidence\n",
      "0  Defect      0     0.89682\n",
      "     name  class  confidence\n",
      "0  Defect      0     0.99994\n",
      "     name  class  confidence\n",
      "0  Defect      0         1.0\n",
      "     name  class  confidence\n",
      "0  Defect      0         1.0\n",
      "     name  class  confidence\n",
      "0  Defect      0         1.0\n",
      "     name  class  confidence\n",
      "0  Defect      0         1.0\n",
      "     name  class  confidence\n",
      "0  Defect      0     0.99996\n",
      "     name  class  confidence\n",
      "0  Defect      0         1.0\n",
      "     name  class  confidence\n",
      "0  Defect      0         1.0\n",
      "     name  class  confidence\n",
      "0  Defect      0      0.9999\n",
      "     name  class  confidence\n",
      "0  Defect      0         1.0\n",
      "     name  class  confidence\n",
      "0  Defect      0     0.99999\n",
      "     name  class  confidence\n",
      "0  Defect      0         1.0\n",
      "     name  class  confidence\n",
      "0  Defect      0         1.0\n",
      "     name  class  confidence\n",
      "0  Defect      0         1.0\n",
      "     name  class  confidence\n",
      "0  Defect      0         1.0\n",
      "     name  class  confidence\n",
      "0  Defect      0     0.99999\n",
      "     name  class  confidence\n",
      "0  Defect      0     0.99996\n",
      "     name  class  confidence\n",
      "0  Defect      0         1.0\n",
      "     name  class  confidence\n",
      "0  Defect      0     0.99999\n",
      "     name  class  confidence\n",
      "0  Defect      0         1.0\n",
      "     name  class  confidence\n",
      "0  Defect      0         1.0\n",
      "     name  class  confidence\n",
      "0  Defect      0     0.99995\n",
      "     name  class  confidence\n",
      "0  Defect      0         1.0\n",
      "     name  class  confidence\n",
      "0  Defect      0         1.0\n",
      "     name  class  confidence\n",
      "0  Defect      0     0.99993\n",
      "     name  class  confidence\n",
      "0  Defect      0         1.0\n",
      "     name  class  confidence\n",
      "0  Defect      0     0.99999\n",
      "     name  class  confidence\n",
      "0  Defect      0         1.0\n",
      "     name  class  confidence\n",
      "0  Defect      0         1.0\n",
      "     name  class  confidence\n",
      "0  Defect      0         1.0\n",
      "     name  class  confidence\n",
      "0  Defect      0         1.0\n",
      "     name  class  confidence\n",
      "0  Defect      0         1.0\n",
      "     name  class  confidence\n",
      "0  Defect      0     0.99991\n",
      "     name  class  confidence\n",
      "0  Defect      0         1.0\n",
      "     name  class  confidence\n",
      "0  Defect      0         1.0\n",
      "     name  class  confidence\n",
      "0  Defect      0     0.99999\n",
      "     name  class  confidence\n",
      "0  Defect      0         1.0\n",
      "     name  class  confidence\n",
      "0  Defect      0         1.0\n",
      "     name  class  confidence\n",
      "0  Defect      0         1.0\n",
      "     name  class  confidence\n",
      "0  Defect      0         1.0\n",
      "     name  class  confidence\n",
      "0  Defect      0         1.0\n",
      "     name  class  confidence\n",
      "0  Defect      0         1.0\n",
      "     name  class  confidence\n",
      "0  Defect      0         1.0\n",
      "     name  class  confidence\n",
      "0  Defect      0         1.0\n",
      "     name  class  confidence\n",
      "0  Defect      0         1.0\n",
      "     name  class  confidence\n",
      "0  Defect      0         1.0\n",
      "     name  class  confidence\n",
      "0  Defect      0         1.0\n",
      "     name  class  confidence\n",
      "0  Defect      0         1.0\n",
      "     name  class  confidence\n",
      "0  Defect      0         1.0\n",
      "     name  class  confidence\n",
      "0  Defect      0         1.0\n",
      "     name  class  confidence\n",
      "0  Defect      0         1.0\n",
      "     name  class  confidence\n",
      "0  Defect      0         1.0\n",
      "     name  class  confidence\n",
      "0  Defect      0     0.99999\n",
      "     name  class  confidence\n",
      "0  Defect      0         1.0\n",
      "     name  class  confidence\n",
      "0  Defect      0         1.0\n",
      "     name  class  confidence\n",
      "0  Defect      0         1.0\n",
      "     name  class  confidence\n",
      "0  Defect      0         1.0\n",
      "     name  class  confidence\n",
      "0  Defect      0         1.0\n",
      "     name  class  confidence\n",
      "0  Defect      0         1.0\n",
      "     name  class  confidence\n",
      "0  Defect      0     0.99995\n",
      "     name  class  confidence\n",
      "0  Defect      0         1.0\n",
      "     name  class  confidence\n",
      "0  Defect      0         1.0\n",
      "     name  class  confidence\n",
      "0  Defect      0         1.0\n",
      "     name  class  confidence\n",
      "0  Defect      0         1.0\n",
      "     name  class  confidence\n",
      "0  Defect      0     0.99723\n",
      "     name  class  confidence\n",
      "0  Defect      0     0.99984\n",
      "     name  class  confidence\n",
      "0  Defect      0         1.0\n",
      "     name  class  confidence\n",
      "0  Defect      0      0.9999\n",
      "     name  class  confidence\n",
      "0  Defect      0         1.0\n",
      "     name  class  confidence\n",
      "0  Defect      0         1.0\n",
      "     name  class  confidence\n",
      "0  Defect      0         1.0\n",
      "     name  class  confidence\n",
      "0  Defect      0         1.0\n",
      "     name  class  confidence\n",
      "0  Defect      0         1.0\n",
      "     name  class  confidence\n",
      "0  Defect      0     0.99995\n",
      "     name  class  confidence\n",
      "0  Defect      0         1.0\n",
      "     name  class  confidence\n",
      "0  Defect      0         1.0\n",
      "     name  class  confidence\n",
      "0  Defect      0         1.0\n",
      "     name  class  confidence\n",
      "0  Defect      0         1.0\n",
      "     name  class  confidence\n",
      "0  Defect      0         1.0\n",
      "     name  class  confidence\n",
      "0  Defect      0         1.0\n",
      "     name  class  confidence\n",
      "0  Defect      0         1.0\n",
      "     name  class  confidence\n",
      "0  Defect      0     0.99991\n",
      "     name  class  confidence\n",
      "0  Defect      0         1.0\n",
      "     name  class  confidence\n",
      "0  Defect      0         1.0\n",
      "     name  class  confidence\n",
      "0  Defect      0         1.0\n",
      "     name  class  confidence\n",
      "0  Defect      0         1.0\n",
      "     name  class  confidence\n",
      "0  Defect      0         1.0\n",
      "     name  class  confidence\n",
      "0  Defect      0         1.0\n",
      "     name  class  confidence\n",
      "0  Defect      0     0.99992\n",
      "     name  class  confidence\n",
      "0  Defect      0     0.99999\n",
      "     name  class  confidence\n",
      "0  Defect      0         1.0\n",
      "     name  class  confidence\n",
      "0  Defect      0         1.0\n",
      "     name  class  confidence\n",
      "0  Defect      0         1.0\n",
      "     name  class  confidence\n",
      "0  Defect      0         1.0\n",
      "     name  class  confidence\n",
      "0  Defect      0         1.0\n",
      "     name  class  confidence\n",
      "0  Defect      0         1.0\n",
      "     name  class  confidence\n",
      "0  Defect      0         1.0\n",
      "     name  class  confidence\n",
      "0  Defect      0     0.99998\n",
      "     name  class  confidence\n",
      "0  Defect      0         1.0\n",
      "     name  class  confidence\n",
      "0  Defect      0         1.0\n",
      "     name  class  confidence\n",
      "0  Defect      0     0.99999\n",
      "     name  class  confidence\n",
      "0  Defect      0     0.99999\n",
      "     name  class  confidence\n",
      "0  Defect      0         1.0\n",
      "     name  class  confidence\n",
      "0  Defect      0     0.99994\n",
      "     name  class  confidence\n",
      "0  Defect      0         1.0\n",
      "     name  class  confidence\n",
      "0  Defect      0         1.0\n",
      "     name  class  confidence\n",
      "0  Defect      0         1.0\n",
      "     name  class  confidence\n",
      "0  Defect      0     0.99977\n",
      "     name  class  confidence\n",
      "0  Defect      0     0.99996\n",
      "     name  class  confidence\n",
      "0  Defect      0         1.0\n",
      "     name  class  confidence\n",
      "0  Defect      0         1.0\n",
      "     name  class  confidence\n",
      "0  Defect      0     0.99998\n",
      "     name  class  confidence\n",
      "0  Defect      0         1.0\n",
      "     name  class  confidence\n",
      "0  Defect      0         1.0\n",
      "     name  class  confidence\n",
      "0  Defect      0         1.0\n",
      "     name  class  confidence\n",
      "0  Defect      0         1.0\n",
      "     name  class  confidence\n",
      "0  Defect      0     0.99999\n",
      "     name  class  confidence\n",
      "0  Defect      0         1.0\n",
      "     name  class  confidence\n",
      "0  Defect      0         1.0\n",
      "     name  class  confidence\n",
      "0  Defect      0     0.99874\n",
      "     name  class  confidence\n",
      "0  Defect      0         1.0\n",
      "     name  class  confidence\n",
      "0  Defect      0         1.0\n",
      "     name  class  confidence\n",
      "0  Defect      0         1.0\n",
      "     name  class  confidence\n",
      "0  Defect      0     0.99996\n",
      "     name  class  confidence\n",
      "0  Defect      0         1.0\n",
      "     name  class  confidence\n",
      "0  Defect      0         1.0\n",
      "     name  class  confidence\n",
      "0  Defect      0     0.99998\n",
      "     name  class  confidence\n",
      "0  Defect      0         1.0\n",
      "     name  class  confidence\n",
      "0  Defect      0     0.99994\n",
      "     name  class  confidence\n",
      "0  Defect      0         1.0\n",
      "     name  class  confidence\n",
      "0  Defect      0     0.99999\n",
      "     name  class  confidence\n",
      "0  Defect      0         1.0\n",
      "     name  class  confidence\n",
      "0  Defect      0         1.0\n",
      "     name  class  confidence\n",
      "0  Defect      0         1.0\n",
      "     name  class  confidence\n",
      "0  Defect      0         1.0\n",
      "     name  class  confidence\n",
      "0  Defect      0         1.0\n",
      "     name  class  confidence\n",
      "0  Defect      0         1.0\n",
      "     name  class  confidence\n",
      "0  Defect      0         1.0\n",
      "     name  class  confidence\n",
      "0  Defect      0         1.0\n",
      "     name  class  confidence\n",
      "0  Defect      0         1.0\n",
      "     name  class  confidence\n",
      "0  Defect      0         1.0\n",
      "     name  class  confidence\n",
      "0  Defect      0         1.0\n",
      "     name  class  confidence\n",
      "0  Defect      0     0.99998\n",
      "     name  class  confidence\n",
      "0  Defect      0     0.99979\n",
      "     name  class  confidence\n",
      "0  Defect      0         1.0\n",
      "     name  class  confidence\n",
      "0  Defect      0         1.0\n",
      "     name  class  confidence\n",
      "0  Defect      0         1.0\n",
      "     name  class  confidence\n",
      "0  Defect      0     0.99998\n",
      "     name  class  confidence\n",
      "0  Defect      0         1.0\n",
      "     name  class  confidence\n",
      "0  Defect      0     0.99987\n",
      "     name  class  confidence\n",
      "0  Defect      0         1.0\n",
      "     name  class  confidence\n",
      "0  Defect      0         1.0\n",
      "     name  class  confidence\n",
      "0  Defect      0         1.0\n",
      "     name  class  confidence\n",
      "0  Defect      0         1.0\n",
      "     name  class  confidence\n",
      "0  Defect      0         1.0\n",
      "     name  class  confidence\n",
      "0  Defect      0         1.0\n",
      "     name  class  confidence\n",
      "0  Defect      0     0.99963\n",
      "     name  class  confidence\n",
      "0  Defect      0         1.0\n",
      "     name  class  confidence\n",
      "0  Defect      0     0.99993\n",
      "     name  class  confidence\n",
      "0  Defect      0         1.0\n",
      "     name  class  confidence\n",
      "0  Defect      0         1.0\n",
      "     name  class  confidence\n",
      "0  Defect      0     0.99998\n",
      "     name  class  confidence\n",
      "0  Defect      0         1.0\n",
      "     name  class  confidence\n",
      "0  Defect      0         1.0\n",
      "     name  class  confidence\n",
      "0  Defect      0     0.99622\n",
      "     name  class  confidence\n",
      "0  Defect      0         1.0\n",
      "     name  class  confidence\n",
      "0  Defect      0         1.0\n",
      "  name  class  confidence\n",
      "0   OK      1     0.93475\n",
      "     name  class  confidence\n",
      "0  Defect      0         1.0\n",
      "     name  class  confidence\n",
      "0  Defect      0         1.0\n",
      "     name  class  confidence\n",
      "0  Defect      0         1.0\n",
      "     name  class  confidence\n",
      "0  Defect      0     0.99963\n",
      "     name  class  confidence\n",
      "0  Defect      0         1.0\n",
      "     name  class  confidence\n",
      "0  Defect      0      0.9976\n",
      "     name  class  confidence\n",
      "0  Defect      0     0.99988\n",
      "     name  class  confidence\n",
      "0  Defect      0         1.0\n",
      "     name  class  confidence\n",
      "0  Defect      0         1.0\n",
      "     name  class  confidence\n",
      "0  Defect      0         1.0\n",
      "     name  class  confidence\n",
      "0  Defect      0     0.99998\n",
      "     name  class  confidence\n",
      "0  Defect      0         1.0\n",
      "     name  class  confidence\n",
      "0  Defect      0         1.0\n",
      "     name  class  confidence\n",
      "0  Defect      0         1.0\n",
      "     name  class  confidence\n",
      "0  Defect      0         1.0\n",
      "     name  class  confidence\n",
      "0  Defect      0     0.99989\n",
      "     name  class  confidence\n",
      "0  Defect      0         1.0\n",
      "     name  class  confidence\n",
      "0  Defect      0         1.0\n",
      "     name  class  confidence\n",
      "0  Defect      0         1.0\n",
      "     name  class  confidence\n",
      "0  Defect      0         1.0\n",
      "     name  class  confidence\n",
      "0  Defect      0     0.99992\n",
      "     name  class  confidence\n",
      "0  Defect      0         1.0\n",
      "     name  class  confidence\n",
      "0  Defect      0         1.0\n",
      "     name  class  confidence\n",
      "0  Defect      0         1.0\n",
      "     name  class  confidence\n",
      "0  Defect      0         1.0\n",
      "     name  class  confidence\n",
      "0  Defect      0         1.0\n",
      "     name  class  confidence\n",
      "0  Defect      0     0.99989\n",
      "     name  class  confidence\n",
      "0  Defect      0         1.0\n",
      "     name  class  confidence\n",
      "0  Defect      0         1.0\n",
      "     name  class  confidence\n",
      "0  Defect      0     0.99967\n",
      "     name  class  confidence\n",
      "0  Defect      0         1.0\n",
      "     name  class  confidence\n",
      "0  Defect      0     0.99997\n",
      "     name  class  confidence\n",
      "0  Defect      0         1.0\n",
      "     name  class  confidence\n",
      "0  Defect      0         1.0\n",
      "     name  class  confidence\n",
      "0  Defect      0         1.0\n",
      "     name  class  confidence\n",
      "0  Defect      0     0.99975\n",
      "     name  class  confidence\n",
      "0  Defect      0         1.0\n",
      "     name  class  confidence\n",
      "0  Defect      0         1.0\n",
      "     name  class  confidence\n",
      "0  Defect      0         1.0\n",
      "     name  class  confidence\n",
      "0  Defect      0         1.0\n",
      "     name  class  confidence\n",
      "0  Defect      0         1.0\n",
      "     name  class  confidence\n",
      "0  Defect      0         1.0\n",
      "     name  class  confidence\n",
      "0  Defect      0         1.0\n",
      "     name  class  confidence\n",
      "0  Defect      0         1.0\n",
      "     name  class  confidence\n",
      "0  Defect      0         1.0\n",
      "     name  class  confidence\n",
      "0  Defect      0         1.0\n",
      "     name  class  confidence\n",
      "0  Defect      0         1.0\n",
      "     name  class  confidence\n",
      "0  Defect      0         1.0\n",
      "     name  class  confidence\n",
      "0  Defect      0     0.99993\n",
      "     name  class  confidence\n",
      "0  Defect      0         1.0\n",
      "     name  class  confidence\n",
      "0  Defect      0         1.0\n",
      "     name  class  confidence\n",
      "0  Defect      0         1.0\n",
      "     name  class  confidence\n",
      "0  Defect      0         1.0\n",
      "     name  class  confidence\n",
      "0  Defect      0         1.0\n",
      "     name  class  confidence\n",
      "0  Defect      0         1.0\n",
      "     name  class  confidence\n",
      "0  Defect      0         1.0\n",
      "     name  class  confidence\n",
      "0  Defect      0     0.99681\n",
      "     name  class  confidence\n",
      "0  Defect      0         1.0\n",
      "     name  class  confidence\n",
      "0  Defect      0         1.0\n",
      "     name  class  confidence\n",
      "0  Defect      0     0.99998\n",
      "     name  class  confidence\n",
      "0  Defect      0         1.0\n",
      "     name  class  confidence\n",
      "0  Defect      0     0.99999\n",
      "     name  class  confidence\n",
      "0  Defect      0         1.0\n",
      "     name  class  confidence\n",
      "0  Defect      0         1.0\n",
      "     name  class  confidence\n",
      "0  Defect      0         1.0\n",
      "     name  class  confidence\n",
      "0  Defect      0     0.99999\n",
      "     name  class  confidence\n",
      "0  Defect      0         1.0\n",
      "     name  class  confidence\n",
      "0  Defect      0         1.0\n",
      "     name  class  confidence\n",
      "0  Defect      0         1.0\n",
      "     name  class  confidence\n",
      "0  Defect      0         1.0\n",
      "     name  class  confidence\n",
      "0  Defect      0     0.99971\n",
      "     name  class  confidence\n",
      "0  Defect      0         1.0\n",
      "     name  class  confidence\n",
      "0  Defect      0         1.0\n",
      "     name  class  confidence\n",
      "0  Defect      0     0.99987\n",
      "     name  class  confidence\n",
      "0  Defect      0         1.0\n",
      "     name  class  confidence\n",
      "0  Defect      0     0.99998\n",
      "     name  class  confidence\n",
      "0  Defect      0         1.0\n",
      "     name  class  confidence\n",
      "0  Defect      0         1.0\n",
      "     name  class  confidence\n",
      "0  Defect      0         1.0\n",
      "     name  class  confidence\n",
      "0  Defect      0         1.0\n",
      "     name  class  confidence\n",
      "0  Defect      0         1.0\n",
      "     name  class  confidence\n",
      "0  Defect      0         1.0\n",
      "     name  class  confidence\n",
      "0  Defect      0         1.0\n",
      "     name  class  confidence\n",
      "0  Defect      0      0.9999\n",
      "     name  class  confidence\n",
      "0  Defect      0         1.0\n",
      "     name  class  confidence\n",
      "0  Defect      0         1.0\n",
      "     name  class  confidence\n",
      "0  Defect      0     0.99706\n",
      "     name  class  confidence\n",
      "0  Defect      0         1.0\n",
      "     name  class  confidence\n",
      "0  Defect      0         1.0\n",
      "     name  class  confidence\n",
      "0  Defect      0         1.0\n",
      "     name  class  confidence\n",
      "0  Defect      0         1.0\n",
      "     name  class  confidence\n",
      "0  Defect      0     0.99994\n",
      "     name  class  confidence\n",
      "0  Defect      0     0.99811\n",
      "     name  class  confidence\n",
      "0  Defect      0         1.0\n",
      "     name  class  confidence\n",
      "0  Defect      0         1.0\n",
      "     name  class  confidence\n",
      "0  Defect      0         1.0\n",
      "     name  class  confidence\n",
      "0  Defect      0         1.0\n",
      "     name  class  confidence\n",
      "0  Defect      0         1.0\n",
      "     name  class  confidence\n",
      "0  Defect      0         1.0\n",
      "     name  class  confidence\n",
      "0  Defect      0         1.0\n",
      "     name  class  confidence\n",
      "0  Defect      0         1.0\n",
      "     name  class  confidence\n",
      "0  Defect      0         1.0\n",
      "     name  class  confidence\n",
      "0  Defect      0         1.0\n",
      "     name  class  confidence\n",
      "0  Defect      0         1.0\n",
      "     name  class  confidence\n",
      "0  Defect      0     0.99937\n",
      "     name  class  confidence\n",
      "0  Defect      0     0.99993\n",
      "     name  class  confidence\n",
      "0  Defect      0         1.0\n",
      "     name  class  confidence\n",
      "0  Defect      0     0.99945\n",
      "     name  class  confidence\n",
      "0  Defect      0         1.0\n",
      "     name  class  confidence\n",
      "0  Defect      0         1.0\n",
      "     name  class  confidence\n",
      "0  Defect      0         1.0\n",
      "     name  class  confidence\n",
      "0  Defect      0     0.99992\n",
      "     name  class  confidence\n",
      "0  Defect      0         1.0\n",
      "     name  class  confidence\n",
      "0  Defect      0     0.99999\n",
      "     name  class  confidence\n",
      "0  Defect      0         1.0\n",
      "     name  class  confidence\n",
      "0  Defect      0         1.0\n",
      "     name  class  confidence\n",
      "0  Defect      0         1.0\n",
      "     name  class  confidence\n",
      "0  Defect      0         1.0\n",
      "     name  class  confidence\n",
      "0  Defect      0         1.0\n",
      "     name  class  confidence\n",
      "0  Defect      0         1.0\n",
      "     name  class  confidence\n",
      "0  Defect      0     0.99999\n",
      "     name  class  confidence\n",
      "0  Defect      0         1.0\n",
      "     name  class  confidence\n",
      "0  Defect      0         1.0\n",
      "     name  class  confidence\n",
      "0  Defect      0     0.99938\n",
      "     name  class  confidence\n",
      "0  Defect      0         1.0\n",
      "     name  class  confidence\n",
      "0  Defect      0         1.0\n",
      "     name  class  confidence\n",
      "0  Defect      0         1.0\n",
      "     name  class  confidence\n",
      "0  Defect      0         1.0\n",
      "     name  class  confidence\n",
      "0  Defect      0         1.0\n",
      "     name  class  confidence\n",
      "0  Defect      0     0.99886\n",
      "     name  class  confidence\n",
      "0  Defect      0     0.99739\n",
      "     name  class  confidence\n",
      "0  Defect      0         1.0\n",
      "     name  class  confidence\n",
      "0  Defect      0     0.99993\n",
      "     name  class  confidence\n",
      "0  Defect      0     0.99992\n",
      "     name  class  confidence\n",
      "0  Defect      0         1.0\n",
      "     name  class  confidence\n",
      "0  Defect      0         1.0\n",
      "     name  class  confidence\n",
      "0  Defect      0         1.0\n",
      "     name  class  confidence\n",
      "0  Defect      0         1.0\n",
      "     name  class  confidence\n",
      "0  Defect      0         1.0\n",
      "     name  class  confidence\n",
      "0  Defect      0         1.0\n",
      "     name  class  confidence\n",
      "0  Defect      0         1.0\n",
      "     name  class  confidence\n",
      "0  Defect      0         1.0\n",
      "     name  class  confidence\n",
      "0  Defect      0         1.0\n",
      "     name  class  confidence\n",
      "0  Defect      0         1.0\n",
      "     name  class  confidence\n",
      "0  Defect      0         1.0\n",
      "     name  class  confidence\n",
      "0  Defect      0     0.99998\n",
      "     name  class  confidence\n",
      "0  Defect      0     0.99994\n",
      "     name  class  confidence\n",
      "0  Defect      0         1.0\n",
      "     name  class  confidence\n",
      "0  Defect      0         1.0\n",
      "     name  class  confidence\n",
      "0  Defect      0         1.0\n",
      "     name  class  confidence\n",
      "0  Defect      0         1.0\n",
      "     name  class  confidence\n",
      "0  Defect      0         1.0\n",
      "     name  class  confidence\n",
      "0  Defect      0         1.0\n",
      "     name  class  confidence\n",
      "0  Defect      0         1.0\n",
      "     name  class  confidence\n",
      "0  Defect      0     0.99999\n",
      "     name  class  confidence\n",
      "0  Defect      0         1.0\n",
      "     name  class  confidence\n",
      "0  Defect      0         1.0\n",
      "     name  class  confidence\n",
      "0  Defect      0         1.0\n",
      "     name  class  confidence\n",
      "0  Defect      0     0.99999\n",
      "     name  class  confidence\n",
      "0  Defect      0         1.0\n",
      "     name  class  confidence\n",
      "0  Defect      0     0.99999\n",
      "     name  class  confidence\n",
      "0  Defect      0         1.0\n",
      "     name  class  confidence\n",
      "0  Defect      0         1.0\n",
      "     name  class  confidence\n",
      "0  Defect      0         1.0\n",
      "     name  class  confidence\n",
      "0  Defect      0         1.0\n",
      "     name  class  confidence\n",
      "0  Defect      0         1.0\n",
      "     name  class  confidence\n",
      "0  Defect      0     0.99999\n",
      "     name  class  confidence\n",
      "0  Defect      0         1.0\n",
      "     name  class  confidence\n",
      "0  Defect      0         1.0\n",
      "     name  class  confidence\n",
      "0  Defect      0     0.99999\n",
      "     name  class  confidence\n",
      "0  Defect      0         1.0\n",
      "     name  class  confidence\n",
      "0  Defect      0     0.99999\n",
      "     name  class  confidence\n",
      "0  Defect      0         1.0\n",
      "     name  class  confidence\n",
      "0  Defect      0         1.0\n",
      "     name  class  confidence\n",
      "0  Defect      0         1.0\n",
      "     name  class  confidence\n",
      "0  Defect      0         1.0\n",
      "     name  class  confidence\n",
      "0  Defect      0     0.99915\n",
      "     name  class  confidence\n",
      "0  Defect      0         1.0\n",
      "     name  class  confidence\n",
      "0  Defect      0         1.0\n",
      "     name  class  confidence\n",
      "0  Defect      0     0.99999\n",
      "     name  class  confidence\n",
      "0  Defect      0         1.0\n",
      "     name  class  confidence\n",
      "0  Defect      0         1.0\n",
      "     name  class  confidence\n",
      "0  Defect      0     0.99999\n",
      "     name  class  confidence\n",
      "0  Defect      0     0.99999\n",
      "     name  class  confidence\n",
      "0  Defect      0         1.0\n",
      "     name  class  confidence\n",
      "0  Defect      0         1.0\n",
      "     name  class  confidence\n",
      "0  Defect      0         1.0\n",
      "     name  class  confidence\n",
      "0  Defect      0     0.99998\n",
      "     name  class  confidence\n",
      "0  Defect      0     0.99998\n",
      "     name  class  confidence\n",
      "0  Defect      0         1.0\n",
      "     name  class  confidence\n",
      "0  Defect      0         1.0\n",
      "     name  class  confidence\n",
      "0  Defect      0     0.99999\n",
      "     name  class  confidence\n",
      "0  Defect      0     0.99992\n",
      "     name  class  confidence\n",
      "0  Defect      0     0.99995\n",
      "     name  class  confidence\n",
      "0  Defect      0         1.0\n",
      "     name  class  confidence\n",
      "0  Defect      0         1.0\n",
      "     name  class  confidence\n",
      "0  Defect      0         1.0\n",
      "     name  class  confidence\n",
      "0  Defect      0     0.99998\n",
      "     name  class  confidence\n",
      "0  Defect      0         1.0\n",
      "     name  class  confidence\n",
      "0  Defect      0         1.0\n",
      "     name  class  confidence\n",
      "0  Defect      0         1.0\n",
      "     name  class  confidence\n",
      "0  Defect      0         1.0\n",
      "     name  class  confidence\n",
      "0  Defect      0     0.99982\n",
      "     name  class  confidence\n",
      "0  Defect      0     0.99996\n",
      "     name  class  confidence\n",
      "0  Defect      0         1.0\n",
      "     name  class  confidence\n",
      "0  Defect      0         1.0\n",
      "     name  class  confidence\n",
      "0  Defect      0         1.0\n",
      "     name  class  confidence\n",
      "0  Defect      0         1.0\n",
      "     name  class  confidence\n",
      "0  Defect      0         1.0\n",
      "     name  class  confidence\n",
      "0  Defect      0         1.0\n",
      "     name  class  confidence\n",
      "0  Defect      0     0.99997\n",
      "     name  class  confidence\n",
      "0  Defect      0         1.0\n",
      "     name  class  confidence\n",
      "0  Defect      0         1.0\n",
      "     name  class  confidence\n",
      "0  Defect      0         1.0\n",
      "     name  class  confidence\n",
      "0  Defect      0         1.0\n",
      "     name  class  confidence\n",
      "0  Defect      0     0.99937\n",
      "     name  class  confidence\n",
      "0  Defect      0     0.99991\n",
      "     name  class  confidence\n",
      "0  Defect      0     0.99982\n",
      "     name  class  confidence\n",
      "0  Defect      0         1.0\n",
      "     name  class  confidence\n",
      "0  Defect      0     0.99991\n",
      "     name  class  confidence\n",
      "0  Defect      0         1.0\n",
      "     name  class  confidence\n",
      "0  Defect      0         1.0\n",
      "     name  class  confidence\n",
      "0  Defect      0     0.99996\n",
      "     name  class  confidence\n",
      "0  Defect      0         1.0\n",
      "     name  class  confidence\n",
      "0  Defect      0     0.99993\n",
      "     name  class  confidence\n",
      "0  Defect      0         1.0\n",
      "     name  class  confidence\n",
      "0  Defect      0     0.99997\n",
      "     name  class  confidence\n",
      "0  Defect      0         1.0\n",
      "     name  class  confidence\n",
      "0  Defect      0         1.0\n",
      "     name  class  confidence\n",
      "0  Defect      0         1.0\n",
      "     name  class  confidence\n",
      "0  Defect      0         1.0\n",
      "     name  class  confidence\n",
      "0  Defect      0         1.0\n",
      "     name  class  confidence\n",
      "0  Defect      0         1.0\n",
      "     name  class  confidence\n",
      "0  Defect      0         1.0\n",
      "     name  class  confidence\n",
      "0  Defect      0     0.99997\n",
      "     name  class  confidence\n",
      "0  Defect      0         1.0\n",
      "     name  class  confidence\n",
      "0  Defect      0     0.99997\n",
      "     name  class  confidence\n",
      "0  Defect      0     0.99996\n",
      "     name  class  confidence\n",
      "0  Defect      0     0.99999\n",
      "     name  class  confidence\n",
      "0  Defect      0         1.0\n",
      "     name  class  confidence\n",
      "0  Defect      0         1.0\n",
      "     name  class  confidence\n",
      "0  Defect      0         1.0\n",
      "     name  class  confidence\n",
      "0  Defect      0      0.9999\n",
      "     name  class  confidence\n",
      "0  Defect      0         1.0\n",
      "     name  class  confidence\n",
      "0  Defect      0         1.0\n",
      "     name  class  confidence\n",
      "0  Defect      0         1.0\n",
      "     name  class  confidence\n",
      "0  Defect      0     0.99998\n",
      "     name  class  confidence\n",
      "0  Defect      0         1.0\n",
      "     name  class  confidence\n",
      "0  Defect      0         1.0\n",
      "     name  class  confidence\n",
      "0  Defect      0     0.99942\n",
      "     name  class  confidence\n",
      "0  Defect      0     0.99998\n",
      "     name  class  confidence\n",
      "0  Defect      0         1.0\n",
      "     name  class  confidence\n",
      "0  Defect      0     0.99999\n",
      "     name  class  confidence\n",
      "0  Defect      0         1.0\n",
      "     name  class  confidence\n",
      "0  Defect      0         1.0\n",
      "     name  class  confidence\n",
      "0  Defect      0     0.99995\n",
      "     name  class  confidence\n",
      "0  Defect      0     0.99992\n",
      "     name  class  confidence\n",
      "0  Defect      0     0.99974\n",
      "     name  class  confidence\n",
      "0  Defect      0     0.99994\n",
      "     name  class  confidence\n",
      "0  Defect      0         1.0\n",
      "     name  class  confidence\n",
      "0  Defect      0         1.0\n",
      "     name  class  confidence\n",
      "0  Defect      0     0.99979\n",
      "     name  class  confidence\n",
      "0  Defect      0         1.0\n",
      "     name  class  confidence\n",
      "0  Defect      0         1.0\n",
      "     name  class  confidence\n",
      "0  Defect      0     0.99997\n",
      "     name  class  confidence\n",
      "0  Defect      0         1.0\n",
      "     name  class  confidence\n",
      "0  Defect      0         1.0\n",
      "     name  class  confidence\n",
      "0  Defect      0         1.0\n",
      "     name  class  confidence\n",
      "0  Defect      0         1.0\n",
      "     name  class  confidence\n",
      "0  Defect      0         1.0\n",
      "     name  class  confidence\n",
      "0  Defect      0         1.0\n",
      "     name  class  confidence\n",
      "0  Defect      0         1.0\n",
      "     name  class  confidence\n",
      "0  Defect      0         1.0\n",
      "     name  class  confidence\n",
      "0  Defect      0         1.0\n",
      "     name  class  confidence\n",
      "0  Defect      0         1.0\n",
      "     name  class  confidence\n",
      "0  Defect      0      0.9999\n",
      "     name  class  confidence\n",
      "0  Defect      0     0.99779\n",
      "     name  class  confidence\n",
      "0  Defect      0     0.99988\n",
      "     name  class  confidence\n",
      "0  Defect      0         1.0\n",
      "     name  class  confidence\n",
      "0  Defect      0     0.99998\n",
      "     name  class  confidence\n",
      "0  Defect      0     0.99992\n",
      "     name  class  confidence\n",
      "0  Defect      0         1.0\n",
      "     name  class  confidence\n",
      "0  Defect      0     0.99996\n",
      "     name  class  confidence\n",
      "0  Defect      0     0.99983\n",
      "     name  class  confidence\n",
      "0  Defect      0     0.99993\n",
      "     name  class  confidence\n",
      "0  Defect      0         1.0\n",
      "     name  class  confidence\n",
      "0  Defect      0         1.0\n",
      "     name  class  confidence\n",
      "0  Defect      0     0.99999\n",
      "     name  class  confidence\n",
      "0  Defect      0         1.0\n"
     ]
    }
   ],
   "source": [
    "#Run inference\n",
    "\n",
    "from ultralytics import YOLO\n",
    "\n",
    "# Model Path\n",
    "model_path = r'C:\\Users\\User\\OneDrive\\Documents\\Programming\\metal_cast_detection\\notebooks\\model_training\\runs\\classify\\yolov11n_classifier6\\weights\\best.pt'\n",
    "\n",
    "# Load a pretrained YOLO11n model\n",
    "model = YOLO(model_path)\n",
    "\n",
    "sample_image_path = r'C:\\Users\\User\\OneDrive\\Documents\\Programming\\metal_cast_detection\\notebooks\\model_training\\datasets\\metal_casting_2\\test\\Defect\\cast_def_0_*.jpeg'\n",
    "\n",
    "# Run inference on 'bus.jpg' with arguments\n",
    "result = model.predict(sample_image_path, save = True, show_conf = True)\n",
    "\n",
    "# View results\n",
    "for r in result:\n",
    "    print(r.to_df())  "
   ]
  }
 ],
 "metadata": {
  "kernelspec": {
   "display_name": "metal_cast_detection",
   "language": "python",
   "name": "python3"
  },
  "language_info": {
   "codemirror_mode": {
    "name": "ipython",
    "version": 3
   },
   "file_extension": ".py",
   "mimetype": "text/x-python",
   "name": "python",
   "nbconvert_exporter": "python",
   "pygments_lexer": "ipython3",
   "version": "3.11.9"
  }
 },
 "nbformat": 4,
 "nbformat_minor": 2
}
